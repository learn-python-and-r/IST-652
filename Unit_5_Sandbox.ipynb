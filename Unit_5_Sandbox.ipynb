{
  "nbformat": 4,
  "nbformat_minor": 0,
  "metadata": {
    "colab": {
      "name": "Unit-5-Sandbox.ipynb",
      "provenance": [],
      "collapsed_sections": [],
      "authorship_tag": "ABX9TyMEZlQb9BDv8T0m3GEiRRm0",
      "include_colab_link": true
    },
    "kernelspec": {
      "name": "python3",
      "display_name": "Python 3"
    }
  },
  "cells": [
    {
      "cell_type": "markdown",
      "metadata": {
        "id": "view-in-github",
        "colab_type": "text"
      },
      "source": [
        "<a href=\"https://colab.research.google.com/github/learn-python-and-r/IST-652/blob/master/Unit_5_Sandbox.ipynb\" target=\"_parent\"><img src=\"https://colab.research.google.com/assets/colab-badge.svg\" alt=\"Open In Colab\"/></a>"
      ]
    },
    {
      "cell_type": "markdown",
      "metadata": {
        "id": "KnI9nNR1SAEa",
        "colab_type": "text"
      },
      "source": [
        ""
      ]
    },
    {
      "cell_type": "code",
      "metadata": {
        "id": "lyXWmWa7Otsn",
        "colab_type": "code",
        "outputId": "ce7d6147-861f-4983-9922-6eca2ffa6a0c",
        "colab": {
          "base_uri": "https://localhost:8080/",
          "height": 338
        }
      },
      "source": [
        "from pymongo import MongoClient\n",
        "\n",
        "client =  MongoClient('localhost',27017)\n",
        "\n",
        "# Show existing databases\n",
        "print(client.list_database_names())"
      ],
      "execution_count": 0,
      "outputs": [
        {
          "output_type": "error",
          "ename": "ServerSelectionTimeoutError",
          "evalue": "ignored",
          "traceback": [
            "\u001b[0;31m---------------------------------------------------------------------------\u001b[0m",
            "\u001b[0;31mServerSelectionTimeoutError\u001b[0m               Traceback (most recent call last)",
            "\u001b[0;32m<ipython-input-1-4006d520d5c5>\u001b[0m in \u001b[0;36m<module>\u001b[0;34m()\u001b[0m\n\u001b[1;32m      4\u001b[0m \u001b[0;34m\u001b[0m\u001b[0m\n\u001b[1;32m      5\u001b[0m \u001b[0;31m# Show existing databases\u001b[0m\u001b[0;34m\u001b[0m\u001b[0;34m\u001b[0m\u001b[0;34m\u001b[0m\u001b[0m\n\u001b[0;32m----> 6\u001b[0;31m \u001b[0mprint\u001b[0m\u001b[0;34m(\u001b[0m\u001b[0mclient\u001b[0m\u001b[0;34m.\u001b[0m\u001b[0mlist_database_names\u001b[0m\u001b[0;34m(\u001b[0m\u001b[0;34m)\u001b[0m\u001b[0;34m)\u001b[0m\u001b[0;34m\u001b[0m\u001b[0;34m\u001b[0m\u001b[0m\n\u001b[0m",
            "\u001b[0;32m/usr/local/lib/python3.6/dist-packages/pymongo/mongo_client.py\u001b[0m in \u001b[0;36mlist_database_names\u001b[0;34m(self, session)\u001b[0m\n\u001b[1;32m   1907\u001b[0m         \"\"\"\n\u001b[1;32m   1908\u001b[0m         return [doc[\"name\"]\n\u001b[0;32m-> 1909\u001b[0;31m                 for doc in self.list_databases(session, nameOnly=True)]\n\u001b[0m\u001b[1;32m   1910\u001b[0m \u001b[0;34m\u001b[0m\u001b[0m\n\u001b[1;32m   1911\u001b[0m     \u001b[0;32mdef\u001b[0m \u001b[0mdatabase_names\u001b[0m\u001b[0;34m(\u001b[0m\u001b[0mself\u001b[0m\u001b[0;34m,\u001b[0m \u001b[0msession\u001b[0m\u001b[0;34m=\u001b[0m\u001b[0;32mNone\u001b[0m\u001b[0;34m)\u001b[0m\u001b[0;34m:\u001b[0m\u001b[0;34m\u001b[0m\u001b[0;34m\u001b[0m\u001b[0m\n",
            "\u001b[0;32m/usr/local/lib/python3.6/dist-packages/pymongo/mongo_client.py\u001b[0m in \u001b[0;36mlist_databases\u001b[0;34m(self, session, **kwargs)\u001b[0m\n\u001b[1;32m   1888\u001b[0m         \u001b[0mcmd\u001b[0m\u001b[0;34m.\u001b[0m\u001b[0mupdate\u001b[0m\u001b[0;34m(\u001b[0m\u001b[0mkwargs\u001b[0m\u001b[0;34m)\u001b[0m\u001b[0;34m\u001b[0m\u001b[0;34m\u001b[0m\u001b[0m\n\u001b[1;32m   1889\u001b[0m         \u001b[0madmin\u001b[0m \u001b[0;34m=\u001b[0m \u001b[0mself\u001b[0m\u001b[0;34m.\u001b[0m\u001b[0m_database_default_options\u001b[0m\u001b[0;34m(\u001b[0m\u001b[0;34m\"admin\"\u001b[0m\u001b[0;34m)\u001b[0m\u001b[0;34m\u001b[0m\u001b[0;34m\u001b[0m\u001b[0m\n\u001b[0;32m-> 1890\u001b[0;31m         \u001b[0mres\u001b[0m \u001b[0;34m=\u001b[0m \u001b[0madmin\u001b[0m\u001b[0;34m.\u001b[0m\u001b[0m_retryable_read_command\u001b[0m\u001b[0;34m(\u001b[0m\u001b[0mcmd\u001b[0m\u001b[0;34m,\u001b[0m \u001b[0msession\u001b[0m\u001b[0;34m=\u001b[0m\u001b[0msession\u001b[0m\u001b[0;34m)\u001b[0m\u001b[0;34m\u001b[0m\u001b[0;34m\u001b[0m\u001b[0m\n\u001b[0m\u001b[1;32m   1891\u001b[0m         \u001b[0;31m# listDatabases doesn't return a cursor (yet). Fake one.\u001b[0m\u001b[0;34m\u001b[0m\u001b[0;34m\u001b[0m\u001b[0;34m\u001b[0m\u001b[0m\n\u001b[1;32m   1892\u001b[0m         cursor = {\n",
            "\u001b[0;32m/usr/local/lib/python3.6/dist-packages/pymongo/database.py\u001b[0m in \u001b[0;36m_retryable_read_command\u001b[0;34m(self, command, value, check, allowable_errors, read_preference, codec_options, session, **kwargs)\u001b[0m\n\u001b[1;32m    747\u001b[0m \u001b[0;34m\u001b[0m\u001b[0m\n\u001b[1;32m    748\u001b[0m         return self.__client._retryable_read(\n\u001b[0;32m--> 749\u001b[0;31m             _cmd, read_preference, session)\n\u001b[0m\u001b[1;32m    750\u001b[0m \u001b[0;34m\u001b[0m\u001b[0m\n\u001b[1;32m    751\u001b[0m     def _list_collections(self, sock_info, slave_okay, session,\n",
            "\u001b[0;32m/usr/local/lib/python3.6/dist-packages/pymongo/mongo_client.py\u001b[0m in \u001b[0;36m_retryable_read\u001b[0;34m(self, func, read_pref, session, address, retryable, exhaust)\u001b[0m\n\u001b[1;32m   1452\u001b[0m             \u001b[0;32mtry\u001b[0m\u001b[0;34m:\u001b[0m\u001b[0;34m\u001b[0m\u001b[0;34m\u001b[0m\u001b[0m\n\u001b[1;32m   1453\u001b[0m                 server = self._select_server(\n\u001b[0;32m-> 1454\u001b[0;31m                     read_pref, session, address=address)\n\u001b[0m\u001b[1;32m   1455\u001b[0m                 \u001b[0;32mif\u001b[0m \u001b[0;32mnot\u001b[0m \u001b[0mserver\u001b[0m\u001b[0;34m.\u001b[0m\u001b[0mdescription\u001b[0m\u001b[0;34m.\u001b[0m\u001b[0mretryable_reads_supported\u001b[0m\u001b[0;34m:\u001b[0m\u001b[0;34m\u001b[0m\u001b[0;34m\u001b[0m\u001b[0m\n\u001b[1;32m   1456\u001b[0m                     \u001b[0mretryable\u001b[0m \u001b[0;34m=\u001b[0m \u001b[0;32mFalse\u001b[0m\u001b[0;34m\u001b[0m\u001b[0;34m\u001b[0m\u001b[0m\n",
            "\u001b[0;32m/usr/local/lib/python3.6/dist-packages/pymongo/mongo_client.py\u001b[0m in \u001b[0;36m_select_server\u001b[0;34m(self, server_selector, session, address)\u001b[0m\n\u001b[1;32m   1251\u001b[0m                                         % address)\n\u001b[1;32m   1252\u001b[0m             \u001b[0;32melse\u001b[0m\u001b[0;34m:\u001b[0m\u001b[0;34m\u001b[0m\u001b[0;34m\u001b[0m\u001b[0m\n\u001b[0;32m-> 1253\u001b[0;31m                 \u001b[0mserver\u001b[0m \u001b[0;34m=\u001b[0m \u001b[0mtopology\u001b[0m\u001b[0;34m.\u001b[0m\u001b[0mselect_server\u001b[0m\u001b[0;34m(\u001b[0m\u001b[0mserver_selector\u001b[0m\u001b[0;34m)\u001b[0m\u001b[0;34m\u001b[0m\u001b[0;34m\u001b[0m\u001b[0m\n\u001b[0m\u001b[1;32m   1254\u001b[0m                 \u001b[0;31m# Pin this session to the selected server if it's performing a\u001b[0m\u001b[0;34m\u001b[0m\u001b[0;34m\u001b[0m\u001b[0;34m\u001b[0m\u001b[0m\n\u001b[1;32m   1255\u001b[0m                 \u001b[0;31m# sharded transaction.\u001b[0m\u001b[0;34m\u001b[0m\u001b[0;34m\u001b[0m\u001b[0;34m\u001b[0m\u001b[0m\n",
            "\u001b[0;32m/usr/local/lib/python3.6/dist-packages/pymongo/topology.py\u001b[0m in \u001b[0;36mselect_server\u001b[0;34m(self, selector, server_selection_timeout, address)\u001b[0m\n\u001b[1;32m    233\u001b[0m         return random.choice(self.select_servers(selector,\n\u001b[1;32m    234\u001b[0m                                                  \u001b[0mserver_selection_timeout\u001b[0m\u001b[0;34m,\u001b[0m\u001b[0;34m\u001b[0m\u001b[0;34m\u001b[0m\u001b[0m\n\u001b[0;32m--> 235\u001b[0;31m                                                  address))\n\u001b[0m\u001b[1;32m    236\u001b[0m \u001b[0;34m\u001b[0m\u001b[0m\n\u001b[1;32m    237\u001b[0m     def select_server_by_address(self, address,\n",
            "\u001b[0;32m/usr/local/lib/python3.6/dist-packages/pymongo/topology.py\u001b[0m in \u001b[0;36mselect_servers\u001b[0;34m(self, selector, server_selection_timeout, address)\u001b[0m\n\u001b[1;32m    191\u001b[0m         \u001b[0;32mwith\u001b[0m \u001b[0mself\u001b[0m\u001b[0;34m.\u001b[0m\u001b[0m_lock\u001b[0m\u001b[0;34m:\u001b[0m\u001b[0;34m\u001b[0m\u001b[0;34m\u001b[0m\u001b[0m\n\u001b[1;32m    192\u001b[0m             server_descriptions = self._select_servers_loop(\n\u001b[0;32m--> 193\u001b[0;31m                 selector, server_timeout, address)\n\u001b[0m\u001b[1;32m    194\u001b[0m \u001b[0;34m\u001b[0m\u001b[0m\n\u001b[1;32m    195\u001b[0m             return [self.get_server_by_address(sd.address)\n",
            "\u001b[0;32m/usr/local/lib/python3.6/dist-packages/pymongo/topology.py\u001b[0m in \u001b[0;36m_select_servers_loop\u001b[0;34m(self, selector, timeout, address)\u001b[0m\n\u001b[1;32m    207\u001b[0m             \u001b[0;32mif\u001b[0m \u001b[0mtimeout\u001b[0m \u001b[0;34m==\u001b[0m \u001b[0;36m0\u001b[0m \u001b[0;32mor\u001b[0m \u001b[0mnow\u001b[0m \u001b[0;34m>\u001b[0m \u001b[0mend_time\u001b[0m\u001b[0;34m:\u001b[0m\u001b[0;34m\u001b[0m\u001b[0;34m\u001b[0m\u001b[0m\n\u001b[1;32m    208\u001b[0m                 raise ServerSelectionTimeoutError(\n\u001b[0;32m--> 209\u001b[0;31m                     self._error_message(selector))\n\u001b[0m\u001b[1;32m    210\u001b[0m \u001b[0;34m\u001b[0m\u001b[0m\n\u001b[1;32m    211\u001b[0m             \u001b[0mself\u001b[0m\u001b[0;34m.\u001b[0m\u001b[0m_ensure_opened\u001b[0m\u001b[0;34m(\u001b[0m\u001b[0;34m)\u001b[0m\u001b[0;34m\u001b[0m\u001b[0;34m\u001b[0m\u001b[0m\n",
            "\u001b[0;31mServerSelectionTimeoutError\u001b[0m: localhost:27017: [Errno 111] Connection refused"
          ]
        }
      ]
    },
    {
      "cell_type": "markdown",
      "metadata": {
        "id": "wgWGfwYgSBZH",
        "colab_type": "text"
      },
      "source": [
        "# Data Transformations Code  (Courtesy of Randy Geszvain)\n",
        "\n",
        "### Question\n",
        "Repeat the activity that we just went through in the lecture to read the data from the provided State Data. Transform the data.\n",
        "\n",
        "state_data = {'State':['Alabama','Alaska','Arizona','Arkansas'],'PostCode':['AL','AK','AZ','AR'],'Area':['52,423','656,424','*','53,182'],'Pop':['4,040,587','550,043','3,665,228','2,350,750']}\n",
        "\n",
        "1. Create a dataframe using pd.DataFrame(state_data, columns=['State','PostCode','Area','Pop'].\n",
        "\n",
        "2. Display the table.\n",
        "\n",
        "3. Index the table by 'State'.\n",
        "\n",
        "4. Replace the '*' with '0'.\n",
        "\n",
        "5. Define a function to replace ',' with ''.\n",
        "\n",
        "6. Use this function to replace the commas in 'Area' and 'Pop'.\n",
        "\n",
        "Submit your code and a final display of your table."
      ]
    },
    {
      "cell_type": "code",
      "metadata": {
        "id": "_xcBP1tdSp0I",
        "colab_type": "code",
        "outputId": "94c4d51b-2d1a-4e2e-9c40-67a727c26807",
        "colab": {
          "base_uri": "https://localhost:8080/",
          "height": 55
        }
      },
      "source": [
        "state_data = {'State':['Alabama','Alaska','Arizona','Arkansas'],'PostCode':['AL','AK','AZ','AR'],'Area':['52,423','656,424','*','53,182'],'Pop':['4,040,587','550,043','3,665,228','2,350,750']}\n",
        "\n",
        "print(state_data)"
      ],
      "execution_count": 0,
      "outputs": [
        {
          "output_type": "stream",
          "text": [
            "{'State': ['Alabama', 'Alaska', 'Arizona', 'Arkansas'], 'PostCode': ['AL', 'AK', 'AZ', 'AR'], 'Area': ['52,423', '656,424', '*', '53,182'], 'Pop': ['4,040,587', '550,043', '3,665,228', '2,350,750']}\n"
          ],
          "name": "stdout"
        }
      ]
    },
    {
      "cell_type": "code",
      "metadata": {
        "id": "RdqT41T0SU7q",
        "colab_type": "code",
        "outputId": "86c07858-17ed-48ea-fbdf-103dda64d7a5",
        "colab": {
          "base_uri": "https://localhost:8080/",
          "height": 104
        }
      },
      "source": [
        "\n",
        "\n",
        "#1. Create a dataframe using pd.DataFrame(state_data, columns=['State','PostCode','Area','Pop'].\n",
        "import pandas as pd\n",
        "import numpy as np\n",
        "\n",
        "df = pd.DataFrame(state_data, columns=['State','PostCode','Area','Pop'])\n",
        "\n",
        "\n",
        "\n",
        "\n",
        "#2. Display the table.\n",
        "\n",
        "print(df)"
      ],
      "execution_count": 0,
      "outputs": [
        {
          "output_type": "stream",
          "text": [
            "      State PostCode     Area        Pop\n",
            "0   Alabama       AL   52,423  4,040,587\n",
            "1    Alaska       AK  656,424    550,043\n",
            "2   Arizona       AZ        *  3,665,228\n",
            "3  Arkansas       AR   53,182  2,350,750\n"
          ],
          "name": "stdout"
        }
      ]
    },
    {
      "cell_type": "code",
      "metadata": {
        "id": "c5fEzkllS4ax",
        "colab_type": "code",
        "outputId": "0dd6bd37-d89f-4cb3-a452-533ca2fa8218",
        "colab": {
          "base_uri": "https://localhost:8080/",
          "height": 121
        }
      },
      "source": [
        "#3. Index the table by 'State'.\n",
        "\n",
        "stdf = df.set_index('State')\n",
        "print(stdf)"
      ],
      "execution_count": 0,
      "outputs": [
        {
          "output_type": "stream",
          "text": [
            "         PostCode     Area        Pop\n",
            "State                                \n",
            "Alabama        AL   52,423  4,040,587\n",
            "Alaska         AK  656,424    550,043\n",
            "Arizona        AZ        *  3,665,228\n",
            "Arkansas       AR   53,182  2,350,750\n"
          ],
          "name": "stdout"
        }
      ]
    },
    {
      "cell_type": "code",
      "metadata": {
        "id": "5pTm-PxKTAdT",
        "colab_type": "code",
        "outputId": "cc32d1cc-c7ab-4f6d-a7f6-d5febe17c7ac",
        "colab": {
          "base_uri": "https://localhost:8080/",
          "height": 121
        }
      },
      "source": [
        "#4. Replace the '*' with '0'.\n",
        "\n",
        "stdf =stdf.replace('*','0')\n",
        "print(stdf)\n",
        "\n",
        "#5. Define a function to replace ',' with ''.\n",
        "\n",
        "def rm_comma(str):\n",
        "  return str.replace(',','')\n",
        "\n",
        "\n"
      ],
      "execution_count": 0,
      "outputs": [
        {
          "output_type": "stream",
          "text": [
            "         PostCode     Area        Pop\n",
            "State                                \n",
            "Alabama        AL   52,423  4,040,587\n",
            "Alaska         AK  656,424    550,043\n",
            "Arizona        AZ        0  3,665,228\n",
            "Arkansas       AR   53,182  2,350,750\n"
          ],
          "name": "stdout"
        }
      ]
    },
    {
      "cell_type": "code",
      "metadata": {
        "id": "R-jBqSraTLoD",
        "colab_type": "code",
        "outputId": "3bb603d7-da44-4034-930f-752505f34df3",
        "colab": {
          "base_uri": "https://localhost:8080/",
          "height": 121
        }
      },
      "source": [
        "#6. Use this function to replace the commas in 'Area' and 'Pop'.\n",
        "\n",
        "stdf['Area'] = stdf['Area'].map(rm_comma)\n",
        "stdf['Pop'] = stdf['Pop'].map(rm_comma)\n",
        "print(stdf)"
      ],
      "execution_count": 0,
      "outputs": [
        {
          "output_type": "stream",
          "text": [
            "         PostCode    Area      Pop\n",
            "State                             \n",
            "Alabama        AL   52423  4040587\n",
            "Alaska         AK  656424   550043\n",
            "Arizona        AZ       0  3665228\n",
            "Arkansas       AR   53182  2350750\n"
          ],
          "name": "stdout"
        }
      ]
    },
    {
      "cell_type": "markdown",
      "metadata": {
        "id": "P1PjAc_UUQw-",
        "colab_type": "text"
      },
      "source": [
        "# Writing Reports and Tables to a File"
      ]
    },
    {
      "cell_type": "code",
      "metadata": {
        "id": "1PLM05oeUWqT",
        "colab_type": "code",
        "colab": {}
      },
      "source": [
        "'''\n",
        "  This program reads the American League baseball players, 2003, tsv file\n",
        "    using the csv reader \n",
        "    and stores it in a list of dictionaries, one for each player\n",
        "  Each line has the team, the player name, the salary and the position played.\n",
        "\n",
        "  The program writes a report on the average salary per player to a txt file.\n",
        "  The program writes the players who made more than $10 million to a csv file\n",
        "    using the csv writer with a header line suitable for excel.\n",
        "'''\n",
        "\n",
        "import csv\n",
        "\n",
        "infile = 'ALbb.salaries.2003.tsv'\n",
        "\n",
        "# create new empty list\n",
        "playersList = []\n",
        "\n",
        "with open(infile, 'rU') as csvfile:\n",
        "    # the csv file reader returns a list of the csv items on each line\n",
        "    ALReader = csv.reader(csvfile,  dialect='excel', delimiter='\\t')\n",
        "\n",
        "    # from each line, a list of row items, put each element in a dictionary\n",
        "    #   with a key representing the data\n",
        "    for line in ALReader:\n",
        "      # skip lines without data\n",
        "      if line[0] == '' or line[0].startswith('American') or line[0].startswith('Team')\\\n",
        "            or line[0].startswith('Source'):\n",
        "          continue\n",
        "      else:\n",
        "          try:\n",
        "            # create a dictionary for each player\n",
        "            player = {}\n",
        "            # add each piece of data under a key representing that data\n",
        "            player['team'] = line[0]\n",
        "            player['name'] = line[1]\n",
        "            player['sal'] = int(line[2].replace(',',''))\n",
        "            player['position'] = line[3]\n",
        "    \n",
        "            # add this player to the list\n",
        "            playersList.append(player)\n",
        "    \n",
        "          except IndexError:\n",
        "            print ('Error: ', line)\n",
        "csvfile.close()\n",
        "\n",
        "print (\"Read\", len(playersList), \"player data\")\n",
        "\n",
        "\n",
        "# Write a report text file with a title and the average of the salaries\n",
        "# First create an output file name\n",
        "outfile1 = infile.replace('tsv', '') + 'report.txt'\n",
        "# open the file for writing\n",
        "fout1 = open(outfile1, 'w')\n",
        "\n",
        "# write title at top of file\n",
        "fout1.write(\"American League Baseball players average salary in 2003\\n\\n\")\n",
        "\n",
        "# comput the average salary over all players\n",
        "total_salary = 0.0\n",
        "for player in playersList:\n",
        "    total_salary += player['sal']\n",
        "average_salary = total_salary / len(playersList)\n",
        "\n",
        "# write a report line as a string to the file\n",
        "fout1.write('Average salary = ${:,.2f}'.format(average_salary))\n",
        "fout1.close()\n",
        "\n",
        "# Write a file with all the players who made more than $10 million.\n",
        "# We write a comma separated file, using the csv writer to quote the player names with commas\n",
        "# first create an output file name\n",
        "outfile2 = infile.replace('tsv','') + 'million.csv'\n",
        "\n",
        "# open the file\n",
        "with open(outfile2, 'w', newline='') as csvfileout:\n",
        "    # create a csv writer for a comman sep file, with quoting as needed\n",
        "    ALwriter = csv.writer(csvfileout, delimiter=',', quoting=csv.QUOTE_MINIMAL)\n",
        "    # write the header row as a list of column labels\n",
        "    ALwriter.writerow(['Player', 'Team', 'Salary'])\n",
        "    for player in playersList:\n",
        "        # select the players with salary over 1 million\n",
        "        if (player['sal'] > 10000000):\n",
        "            # write the player as a list of data items\n",
        "            ALwriter.writerow([player['name'], player['team'], player['sal']])\n",
        "\n",
        "csvfileout.close()\n",
        "\n",
        "\n",
        "\n"
      ],
      "execution_count": 0,
      "outputs": []
    },
    {
      "cell_type": "markdown",
      "metadata": {
        "id": "V1r3nl9uU87r",
        "colab_type": "text"
      },
      "source": [
        "# Breakout Group Exercise\n",
        "\n",
        "Take the program we just walked through and modify it to create an output file called 'pitchers-only.csv' and change the code to only select pitchers.\n",
        "\n",
        "Present how you went about doing this to the class "
      ]
    },
    {
      "cell_type": "code",
      "metadata": {
        "id": "wq4mHliDVPyV",
        "colab_type": "code",
        "colab": {}
      },
      "source": [
        ""
      ],
      "execution_count": 0,
      "outputs": []
    }
  ]
}
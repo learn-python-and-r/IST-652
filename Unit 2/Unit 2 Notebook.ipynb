{
 "cells": [
  {
   "cell_type": "markdown",
   "metadata": {},
   "source": [
    "# Connecting to a local machine with Google Colab notebooks\n",
    "\n",
    "The code below can help you connect your local machine to a Google Colab notebook.\n",
    "\n",
    "**Step 1**\n",
    "\n",
    "Install and enable the *jupyter_http_over_ws* jupyter extension (one-time)\n",
    "The *jupyter_http_over_ws* extension is authored by the Colaboratory team and available on GitHub.\n",
    "\n",
    "```\n",
    "pip install jupyter_http_over_ws\n",
    "jupyter serverextension enable --py jupyter_http_over_ws\n",
    "```\n",
    "\n",
    "**Step 2**\n",
    "\n",
    "- *For Windows*: Copy and paste in the Anaconda command prompt.\n",
    "- *For Mac*: Copy and paste in the terminal\n",
    "\n",
    "```\n",
    "jupyter notebook --NotebookApp.allow_origin='https://colab.research.google.com' --port=8899 --NotebookApp.port_retries=0 --no-browser\n",
    "```\n",
    "\n",
    "Adjust port as necessary\n",
    "\n",
    "**Step 3: Connect to the local runtime **\n",
    "\n",
    "In Colaboratory, click the \"Connect\" button and select \"Connect to local runtime...\". Enter the URL from the previous step in the dialog that appears and click the \"Connect\" button. After this, you should now be connected to your local runtime.\n"
   ]
  },
  {
   "cell_type": "markdown",
   "metadata": {},
   "source": [
    "# Unit 2 IST 652 Code\n",
    "## Jason Anastasopoulos\n",
    "\n",
    "#### Email: lanastas@syr.edu\n",
    "#### Website: https://anastasopoulos.io\n",
    "#### Github: https://github.com/ljanastas/\n",
    "\n",
    "**Instructions**: For the NBAfile.py program, for each line, create a string using string formatting that puts the\n",
    "team, attendance, and ticket prices into a formatted string. Each line should look something like:\n",
    "‘The attendance at Atlanta was 13993 and the ticket price was $20.06’\n",
    "Your program should then print these strings instead of the lines. Submit your code and the\n",
    "output of your program.\n",
    "\n",
    "\n",
    "\n"
   ]
  },
  {
   "cell_type": "markdown",
   "metadata": {},
   "source": [
    "## Solution 1\n",
    "\n",
    "This is technically the \"correct\" solution and is the easiest to implmenent but is one of several ways to attack this problem."
   ]
  },
  {
   "cell_type": "code",
   "execution_count": 2,
   "metadata": {},
   "outputs": [
    {
     "name": "stdout",
     "output_type": "stream",
     "text": [
      "The attendance for Atlanta.\n",
      "The attendance for Boston.\n",
      "The attendance for Charlotte.\n",
      "The attendance for Chicago.\n",
      "The attendance for Cleveland.\n",
      "The attendance for Dallas.\n",
      "The attendance for Denver.\n",
      "The attendance for Detroit.\n",
      "The attendance for Golden_State.\n",
      "The attendance for Houston.\n",
      "The attendance for Indiana.\n",
      "The attendance for LA_Clippers.\n",
      "The attendance for LA_Lakers.\n",
      "The attendance for Miami.\n",
      "The attendance for Milwaukee.\n",
      "The attendance for Minnesota.\n",
      "The attendance for New_Jersey.\n",
      "The attendance for New_York.\n",
      "The attendance for Orlando.\n",
      "The attendance for Philadelphia.\n",
      "The attendance for Phoenix.\n",
      "The attendance for Portland.\n",
      "The attendance for Sacramento.\n",
      "The attendance for San_Antonio.\n",
      "The attendance for Seattle.\n",
      "The attendance for Utah.\n",
      "The attendance for Washington.\n"
     ]
    }
   ],
   "source": [
    "# This program reads a file and prints the lines and creates a list of items on the line\n",
    "\n",
    "\n",
    "# open the file for reading (in the same directory as the program)\n",
    "\n",
    "NBAfile = open ('NBA-Attendance-1989.txt', 'r')\n",
    "\n",
    "\n",
    "# iterate over the lines of the file and count the number of lines\n",
    "\n",
    "count = 0\n",
    "\n",
    "NBAlist = [ ]\n",
    "\n",
    "for line in NBAfile:\n",
    "\n",
    "    # increment adds one to the count variable\n",
    "\n",
    "    count += 1\n",
    "\n",
    "    # strip the newline at the end of the line (and other white space from ends)\n",
    "\n",
    "    textline = line.strip()\n",
    "\n",
    "    # split the line on whitespace\n",
    "\n",
    "    items = textline.split()\n",
    "\n",
    "    # add the list of items to the NBAlist\n",
    "    \n",
    "    NBAlist.append(items)\n",
    "    \n",
    "    print('The attendance for {:s}.'.format(items[0]))\n",
    "    \n",
    "# Close the file\n",
    "NBAfile.close()\n"
   ]
  }
 ],
 "metadata": {
  "kernelspec": {
   "display_name": "Python 3",
   "language": "python",
   "name": "python3"
  },
  "language_info": {
   "codemirror_mode": {
    "name": "ipython",
    "version": 3
   },
   "file_extension": ".py",
   "mimetype": "text/x-python",
   "name": "python",
   "nbconvert_exporter": "python",
   "pygments_lexer": "ipython3",
   "version": "3.7.6"
  }
 },
 "nbformat": 4,
 "nbformat_minor": 2
}

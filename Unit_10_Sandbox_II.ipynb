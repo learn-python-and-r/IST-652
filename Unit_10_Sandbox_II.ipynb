{
  "nbformat": 4,
  "nbformat_minor": 0,
  "metadata": {
    "kernelspec": {
      "display_name": "Python 3",
      "language": "python",
      "name": "python3"
    },
    "language_info": {
      "codemirror_mode": {
        "name": "ipython",
        "version": 3
      },
      "file_extension": ".py",
      "mimetype": "text/x-python",
      "name": "python",
      "nbconvert_exporter": "python",
      "pygments_lexer": "ipython3",
      "version": "3.7.3"
    },
    "colab": {
      "name": "Unit_10_Sandbox_II.ipynb",
      "provenance": [],
      "collapsed_sections": [],
      "include_colab_link": true
    }
  },
  "cells": [
    {
      "cell_type": "markdown",
      "metadata": {
        "id": "view-in-github",
        "colab_type": "text"
      },
      "source": [
        "<a href=\"https://colab.research.google.com/github/learn-python-and-r/IST-652/blob/master/Unit_10_Sandbox_II.ipynb\" target=\"_parent\"><img src=\"https://colab.research.google.com/assets/colab-badge.svg\" alt=\"Open In Colab\"/></a>"
      ]
    },
    {
      "cell_type": "markdown",
      "metadata": {
        "id": "oMnw7qfB8Hfr",
        "colab_type": "text"
      },
      "source": [
        "# Topics in social network analysis*\n",
        "* Note: Code and analyses borrowed from https://www.analyticsvidhya.com/blog/2018/04/introduction-to-graph-theory-network-analysis-python-codes/"
      ]
    },
    {
      "cell_type": "code",
      "metadata": {
        "id": "3ZRJwVXv9D73",
        "colab_type": "code",
        "colab": {
          "base_uri": "https://localhost:8080/",
          "height": 51
        },
        "outputId": "48f4b5ac-91af-4d19-c9ba-47bd5bbb8baa"
      },
      "source": [
        "!pip install networkx"
      ],
      "execution_count": 1,
      "outputs": [
        {
          "output_type": "stream",
          "text": [
            "Requirement already satisfied: networkx in /opt/anaconda3/lib/python3.7/site-packages (2.4)\r\n",
            "Requirement already satisfied: decorator>=4.3.0 in /opt/anaconda3/lib/python3.7/site-packages (from networkx) (4.4.1)\r\n"
          ],
          "name": "stdout"
        }
      ]
    },
    {
      "cell_type": "code",
      "metadata": {
        "id": "aJeoupER8Hfs",
        "colab_type": "code",
        "colab": {
          "base_uri": "https://localhost:8080/",
          "height": 34
        },
        "outputId": "3eb7c88b-e7b7-4c06-fb70-8e910b7e58a1"
      },
      "source": [
        "import networkx as nx\n",
        "\n",
        "# Creating a Graph \n",
        "G = nx.Graph() # Right now G is empty\n",
        "\n",
        "# Add a node\n",
        "G.add_node(1) \n",
        "G.add_nodes_from([2,3]) # You can also add a list of nodes by passing a list argument\n",
        "\n",
        "# Add edges \n",
        "G.add_edge(1,2)\n",
        "\n",
        "G.edges()\n",
        "e = (2,3)\n",
        "G.add_edge(*e) # * unpacks the tuple\n",
        "G.add_edges_from([(1,2), (1,3)]) # Just like nodes we can add edges from a list\n",
        "\n",
        "G"
      ],
      "execution_count": 3,
      "outputs": [
        {
          "output_type": "execute_result",
          "data": {
            "text/plain": [
              "<networkx.classes.graph.Graph at 0x7faaa8dc5ad0>"
            ]
          },
          "metadata": {
            "tags": []
          },
          "execution_count": 3
        }
      ]
    },
    {
      "cell_type": "code",
      "metadata": {
        "id": "IW-gBv-98Hfu",
        "colab_type": "code",
        "colab": {}
      },
      "source": [
        "# Other means of generating graphs\n",
        "\n",
        "#subgraph(G, nbunch)      - induced subgraph view of G on nodes in nbunch\n",
        "#union(G1,G2)             - graph union\n",
        "#disjoint_union(G1,G2)    - graph union assuming all nodes are different\n",
        "#cartesian_product(G1,G2) - return Cartesian product graph\n",
        "#compose(G1,G2)           - combine graphs identifying nodes common to both\n",
        "#complement(G)            - graph complement\n",
        "#create_empty_copy(G)     - return an empty copy of the same graph class\n",
        "#convert_to_undirected(G) - return an undirected representation of G\n",
        "#convert_to_directed(G)   - return a directed representation of G"
      ],
      "execution_count": 0,
      "outputs": []
    },
    {
      "cell_type": "markdown",
      "metadata": {
        "id": "Q4K8E_R18Hfx",
        "colab_type": "text"
      },
      "source": [
        "## Accessing edges and nodes\n",
        "\n",
        "Nodes and Edges can be accessed together using the G.nodes() and G.edges() methods. Individual nodes and edges can be accessed using the bracket/subscript notation."
      ]
    },
    {
      "cell_type": "code",
      "metadata": {
        "id": "0Z0yWFOP8Hfx",
        "colab_type": "code",
        "colab": {
          "base_uri": "https://localhost:8080/",
          "height": 34
        },
        "outputId": "0ab7df48-bb39-4343-dcf0-cd20d360bf43"
      },
      "source": [
        "G.nodes()"
      ],
      "execution_count": 4,
      "outputs": [
        {
          "output_type": "execute_result",
          "data": {
            "text/plain": [
              "NodeView((1, 2, 3))"
            ]
          },
          "metadata": {
            "tags": []
          },
          "execution_count": 4
        }
      ]
    },
    {
      "cell_type": "code",
      "metadata": {
        "id": "VK-Psk6b8Hfz",
        "colab_type": "code",
        "colab": {
          "base_uri": "https://localhost:8080/",
          "height": 34
        },
        "outputId": "e676d195-0d91-4cbb-bc57-1ed25b6c20e0"
      },
      "source": [
        "G.edges()"
      ],
      "execution_count": 5,
      "outputs": [
        {
          "output_type": "execute_result",
          "data": {
            "text/plain": [
              "EdgeView([(1, 2), (1, 3), (2, 3)])"
            ]
          },
          "metadata": {
            "tags": []
          },
          "execution_count": 5
        }
      ]
    },
    {
      "cell_type": "code",
      "metadata": {
        "id": "0t96riMv8Hf1",
        "colab_type": "code",
        "colab": {
          "base_uri": "https://localhost:8080/",
          "height": 34
        },
        "outputId": "7d854033-a745-40b2-f2c5-301153a7ae2c"
      },
      "source": [
        "G[1] # same as G.adj[1]"
      ],
      "execution_count": 6,
      "outputs": [
        {
          "output_type": "execute_result",
          "data": {
            "text/plain": [
              "AtlasView({2: {}, 3: {}})"
            ]
          },
          "metadata": {
            "tags": []
          },
          "execution_count": 6
        }
      ]
    },
    {
      "cell_type": "code",
      "metadata": {
        "id": "GFKp_kl-8Hf4",
        "colab_type": "code",
        "colab": {},
        "outputId": "325ab373-794d-4e67-e531-eefd9ca30b4f"
      },
      "source": [
        "G[1][2]"
      ],
      "execution_count": 0,
      "outputs": [
        {
          "output_type": "execute_result",
          "data": {
            "text/plain": [
              "{}"
            ]
          },
          "metadata": {
            "tags": []
          },
          "execution_count": 38
        }
      ]
    },
    {
      "cell_type": "code",
      "metadata": {
        "id": "IpcsWm4L8Hf6",
        "colab_type": "code",
        "colab": {},
        "outputId": "eef14a59-2d3f-4087-b78f-69ba3f10cad4"
      },
      "source": [
        "G.edges[1, 2]"
      ],
      "execution_count": 0,
      "outputs": [
        {
          "output_type": "execute_result",
          "data": {
            "text/plain": [
              "{}"
            ]
          },
          "metadata": {
            "tags": []
          },
          "execution_count": 39
        }
      ]
    },
    {
      "cell_type": "markdown",
      "metadata": {
        "id": "Qm_uX_b78Hf9",
        "colab_type": "text"
      },
      "source": [
        "# Graph visualization"
      ]
    },
    {
      "cell_type": "code",
      "metadata": {
        "id": "J5m7Fgfk8Hf9",
        "colab_type": "code",
        "colab": {
          "base_uri": "https://localhost:8080/",
          "height": 319
        },
        "outputId": "dc288715-ea70-43f6-de84-bfcd24f8fce1"
      },
      "source": [
        "%matplotlib inline\n",
        "import matplotlib.pyplot as plt\n",
        "import networkx as nx\n",
        "nx.draw(G)"
      ],
      "execution_count": 7,
      "outputs": [
        {
          "output_type": "display_data",
          "data": {
            "text/plain": [
              "<Figure size 432x288 with 1 Axes>"
            ],
            "image/png": "[encoded data removed]"
          },
          "metadata": {
            "tags": []
          }
        }
      ]
    },
    {
      "cell_type": "code",
      "metadata": {
        "id": "unkx1fEbGcqJ",
        "colab_type": "code",
        "colab": {
          "base_uri": "https://localhost:8080/",
          "height": 1000
        },
        "outputId": "e9137635-7dbb-436a-eaa5-a204f6005a5a"
      },
      "source": [
        "!pip install pygraphviz"
      ],
      "execution_count": 10,
      "outputs": [
        {
          "output_type": "stream",
          "text": [
            "Collecting pygraphviz\n",
            "  Using cached pygraphviz-1.5.zip (117 kB)\n",
            "Building wheels for collected packages: pygraphviz\n",
            "  Building wheel for pygraphviz (setup.py) ... \u001b[?25l-\b \b\\\b \berror\n",
            "\u001b[31m  ERROR: Command errored out with exit status 1:\n",
            "   command: /opt/anaconda3/bin/python -u -c 'import sys, setuptools, tokenize; sys.argv[0] = '\"'\"'/private/var/folders/kt/chgt7gz14456w2p2ltzbmjpw0000gp/T/pip-install-ks7ow2ju/pygraphviz/setup.py'\"'\"'; __file__='\"'\"'/private/var/folders/kt/chgt7gz14456w2p2ltzbmjpw0000gp/T/pip-install-ks7ow2ju/pygraphviz/setup.py'\"'\"';f=getattr(tokenize, '\"'\"'open'\"'\"', open)(__file__);code=f.read().replace('\"'\"'\\r\\n'\"'\"', '\"'\"'\\n'\"'\"');f.close();exec(compile(code, __file__, '\"'\"'exec'\"'\"'))' bdist_wheel -d /private/var/folders/kt/chgt7gz14456w2p2ltzbmjpw0000gp/T/pip-wheel-g1_fpzul\n",
            "       cwd: /private/var/folders/kt/chgt7gz14456w2p2ltzbmjpw0000gp/T/pip-install-ks7ow2ju/pygraphviz/\n",
            "  Complete output (55 lines):\n",
            "  running bdist_wheel\n",
            "  running build\n",
            "  running build_py\n",
            "  creating build\n",
            "  creating build/lib.macosx-10.9-x86_64-3.7\n",
            "  creating build/lib.macosx-10.9-x86_64-3.7/pygraphviz\n",
            "  copying pygraphviz/release.py -> build/lib.macosx-10.9-x86_64-3.7/pygraphviz\n",
            "  copying pygraphviz/version.py -> build/lib.macosx-10.9-x86_64-3.7/pygraphviz\n",
            "  copying pygraphviz/graphviz.py -> build/lib.macosx-10.9-x86_64-3.7/pygraphviz\n",
            "  copying pygraphviz/__init__.py -> build/lib.macosx-10.9-x86_64-3.7/pygraphviz\n",
            "  copying pygraphviz/agraph.py -> build/lib.macosx-10.9-x86_64-3.7/pygraphviz\n",
            "  creating build/lib.macosx-10.9-x86_64-3.7/pygraphviz/tests\n",
            "  copying pygraphviz/tests/test_setup.py -> build/lib.macosx-10.9-x86_64-3.7/pygraphviz/tests\n",
            "  copying pygraphviz/tests/test_unicode.py -> build/lib.macosx-10.9-x86_64-3.7/pygraphviz/tests\n",
            "  copying pygraphviz/tests/test_readwrite.py -> build/lib.macosx-10.9-x86_64-3.7/pygraphviz/tests\n",
            "  copying pygraphviz/tests/test_string.py -> build/lib.macosx-10.9-x86_64-3.7/pygraphviz/tests\n",
            "  copying pygraphviz/tests/__init__.py -> build/lib.macosx-10.9-x86_64-3.7/pygraphviz/tests\n",
            "  copying pygraphviz/tests/test_html.py -> build/lib.macosx-10.9-x86_64-3.7/pygraphviz/tests\n",
            "  copying pygraphviz/tests/test_node_attributes.py -> build/lib.macosx-10.9-x86_64-3.7/pygraphviz/tests\n",
            "  copying pygraphviz/tests/test.py -> build/lib.macosx-10.9-x86_64-3.7/pygraphviz/tests\n",
            "  copying pygraphviz/tests/test_drawing.py -> build/lib.macosx-10.9-x86_64-3.7/pygraphviz/tests\n",
            "  copying pygraphviz/tests/test_subgraph.py -> build/lib.macosx-10.9-x86_64-3.7/pygraphviz/tests\n",
            "  copying pygraphviz/tests/test_edge_attributes.py -> build/lib.macosx-10.9-x86_64-3.7/pygraphviz/tests\n",
            "  copying pygraphviz/tests/test_clear.py -> build/lib.macosx-10.9-x86_64-3.7/pygraphviz/tests\n",
            "  copying pygraphviz/tests/test_layout.py -> build/lib.macosx-10.9-x86_64-3.7/pygraphviz/tests\n",
            "  copying pygraphviz/tests/test_attribute_defaults.py -> build/lib.macosx-10.9-x86_64-3.7/pygraphviz/tests\n",
            "  copying pygraphviz/tests/test_graph.py -> build/lib.macosx-10.9-x86_64-3.7/pygraphviz/tests\n",
            "  copying pygraphviz/tests/test_attributes.py -> build/lib.macosx-10.9-x86_64-3.7/pygraphviz/tests\n",
            "  running egg_info\n",
            "  writing pygraphviz.egg-info/PKG-INFO\n",
            "  writing dependency_links to pygraphviz.egg-info/dependency_links.txt\n",
            "  writing top-level names to pygraphviz.egg-info/top_level.txt\n",
            "  reading manifest file 'pygraphviz.egg-info/SOURCES.txt'\n",
            "  reading manifest template 'MANIFEST.in'\n",
            "  warning: no files found matching '*.png' under directory 'doc'\n",
            "  warning: no files found matching '*.html' under directory 'doc'\n",
            "  warning: no files found matching '*.txt' under directory 'doc'\n",
            "  warning: no files found matching '*.css' under directory 'doc'\n",
            "  warning: no previously-included files matching '*~' found anywhere in distribution\n",
            "  warning: no previously-included files matching '*.pyc' found anywhere in distribution\n",
            "  warning: no previously-included files matching '.svn' found anywhere in distribution\n",
            "  no previously-included directories found matching 'doc/build'\n",
            "  writing manifest file 'pygraphviz.egg-info/SOURCES.txt'\n",
            "  copying pygraphviz/graphviz.i -> build/lib.macosx-10.9-x86_64-3.7/pygraphviz\n",
            "  copying pygraphviz/graphviz_wrap.c -> build/lib.macosx-10.9-x86_64-3.7/pygraphviz\n",
            "  running build_ext\n",
            "  building 'pygraphviz._graphviz' extension\n",
            "  creating build/temp.macosx-10.9-x86_64-3.7\n",
            "  creating build/temp.macosx-10.9-x86_64-3.7/pygraphviz\n",
            "  gcc -Wno-unused-result -Wsign-compare -Wunreachable-code -DNDEBUG -g -fwrapv -O3 -Wall -Wstrict-prototypes -I/opt/anaconda3/include -arch x86_64 -I/opt/anaconda3/include -arch x86_64 -I/opt/anaconda3/include/python3.7m -c pygraphviz/graphviz_wrap.c -o build/temp.macosx-10.9-x86_64-3.7/pygraphviz/graphviz_wrap.o\n",
            "  pygraphviz/graphviz_wrap.c:2987:10: fatal error: 'graphviz/cgraph.h' file not found\n",
            "  #include \"graphviz/cgraph.h\"\n",
            "           ^~~~~~~~~~~~~~~~~~~\n",
            "  1 error generated.\n",
            "  error: command 'gcc' failed with exit status 1\n",
            "  ----------------------------------------\u001b[0m\n",
            "\u001b[31m  ERROR: Failed building wheel for pygraphviz\u001b[0m\n",
            "\u001b[?25h  Running setup.py clean for pygraphviz\n",
            "Failed to build pygraphviz\n",
            "Installing collected packages: pygraphviz\n",
            "    Running setup.py install for pygraphviz ... \u001b[?25l-\b \berror\n",
            "\u001b[31m    ERROR: Command errored out with exit status 1:\n",
            "     command: /opt/anaconda3/bin/python -u -c 'import sys, setuptools, tokenize; sys.argv[0] = '\"'\"'/private/var/folders/kt/chgt7gz14456w2p2ltzbmjpw0000gp/T/pip-install-ks7ow2ju/pygraphviz/setup.py'\"'\"'; __file__='\"'\"'/private/var/folders/kt/chgt7gz14456w2p2ltzbmjpw0000gp/T/pip-install-ks7ow2ju/pygraphviz/setup.py'\"'\"';f=getattr(tokenize, '\"'\"'open'\"'\"', open)(__file__);code=f.read().replace('\"'\"'\\r\\n'\"'\"', '\"'\"'\\n'\"'\"');f.close();exec(compile(code, __file__, '\"'\"'exec'\"'\"'))' install --record /private/var/folders/kt/chgt7gz14456w2p2ltzbmjpw0000gp/T/pip-record-nuz1ioop/install-record.txt --single-version-externally-managed --compile --install-headers /opt/anaconda3/include/python3.7m/pygraphviz\n",
            "         cwd: /private/var/folders/kt/chgt7gz14456w2p2ltzbmjpw0000gp/T/pip-install-ks7ow2ju/pygraphviz/\n",
            "    Complete output (32 lines):\n",
            "    running install\n",
            "    Trying dpkg\n",
            "    Failed to find dpkg\n",
            "    Trying pkg-config\n",
            "    Failed to find pkg-config\n",
            "    Trying dotneato-config\n",
            "    Failed to find dotneato-config\n",
            "    Failed to find dotneato-config\n",
            "    \n",
            "    Your Graphviz installation could not be found.\n",
            "    \n",
            "            1) You don't have Graphviz installed:\n",
            "               Install Graphviz (http://graphviz.org)\n",
            "    \n",
            "            2) Your Graphviz package might incomplete.\n",
            "               Install the binary development subpackage (e.g. libgraphviz-dev or similar.)\n",
            "    \n",
            "            3) You are using Windows\n",
            "               There are no PyGraphviz binary packages for Windows but you might be\n",
            "               able to build it from this source.  See\n",
            "               http://networkx.lanl.gov/pygraphviz/reference/faq.html\n",
            "    \n",
            "            If you think your installation is correct you will need to manually\n",
            "            provide path to graphviz include and library. For example:\n",
            "    \n",
            "            pip install pygraphviz --install-option=\"--include-path=/usr/include/graphviz\" --install-option=\"--library-path=/usr/lib/graphviz/\"\n",
            "    \n",
            "            The current setting of library_dirs and include_dirs is:\n",
            "    library_dirs=None\n",
            "    include_dirs=None\n",
            "    \n",
            "    error: Error locating graphviz.\n",
            "    ----------------------------------------\u001b[0m\n",
            "\u001b[31mERROR: Command errored out with exit status 1: /opt/anaconda3/bin/python -u -c 'import sys, setuptools, tokenize; sys.argv[0] = '\"'\"'/private/var/folders/kt/chgt7gz14456w2p2ltzbmjpw0000gp/T/pip-install-ks7ow2ju/pygraphviz/setup.py'\"'\"'; __file__='\"'\"'/private/var/folders/kt/chgt7gz14456w2p2ltzbmjpw0000gp/T/pip-install-ks7ow2ju/pygraphviz/setup.py'\"'\"';f=getattr(tokenize, '\"'\"'open'\"'\"', open)(__file__);code=f.read().replace('\"'\"'\\r\\n'\"'\"', '\"'\"'\\n'\"'\"');f.close();exec(compile(code, __file__, '\"'\"'exec'\"'\"'))' install --record /private/var/folders/kt/chgt7gz14456w2p2ltzbmjpw0000gp/T/pip-record-nuz1ioop/install-record.txt --single-version-externally-managed --compile --install-headers /opt/anaconda3/include/python3.7m/pygraphviz Check the logs for full command output.\u001b[0m\n",
            "\u001b[?25h"
          ],
          "name": "stdout"
        }
      ]
    },
    {
      "cell_type": "code",
      "metadata": {
        "id": "FkCz572pGkf2",
        "colab_type": "code",
        "colab": {
          "base_uri": "https://localhost:8080/",
          "height": 86
        },
        "outputId": "e6100cd0-b9dc-4968-e31f-943c4df79ef2"
      },
      "source": [
        "!pip install Graphviz"
      ],
      "execution_count": 9,
      "outputs": [
        {
          "output_type": "stream",
          "text": [
            "Collecting Graphviz\n",
            "  Downloading graphviz-0.14-py2.py3-none-any.whl (18 kB)\n",
            "Installing collected packages: Graphviz\n",
            "Successfully installed Graphviz-0.14\n"
          ],
          "name": "stdout"
        }
      ]
    },
    {
      "cell_type": "code",
      "metadata": {
        "id": "l82z4CCXGtZB",
        "colab_type": "code",
        "colab": {
          "base_uri": "https://localhost:8080/",
          "height": 51
        },
        "outputId": "97d1a825-21c8-4e5c-bddf-f0e422c14d07"
      },
      "source": [
        "!pip install libgraphviz-dev"
      ],
      "execution_count": 11,
      "outputs": [
        {
          "output_type": "stream",
          "text": [
            "\u001b[31mERROR: Could not find a version that satisfies the requirement libgraphviz-dev (from versions: none)\u001b[0m\r\n",
            "\u001b[31mERROR: No matching distribution found for libgraphviz-dev\u001b[0m\r\n"
          ],
          "name": "stdout"
        }
      ]
    },
    {
      "cell_type": "code",
      "metadata": {
        "id": "57fuAF9b8Hf_",
        "colab_type": "code",
        "colab": {
          "base_uri": "https://localhost:8080/",
          "height": 233
        },
        "outputId": "d754c291-6de4-4c07-c94d-d6d01a1a5f86"
      },
      "source": [
        "# To install we do \"conda install pygraphviz\"\n",
        "\n",
        "import pygraphviz as pgv\n",
        "d={'1': {'2': None}, '2': {'1': None, '3': None}, '3': {'1': None}}\n",
        "A = pgv.AGraph(data=d)\n",
        "print(A)"
      ],
      "execution_count": 12,
      "outputs": [
        {
          "output_type": "error",
          "ename": "ModuleNotFoundError",
          "evalue": "ignored",
          "traceback": [
            "\u001b[0;31m---------------------------------------------------------------------------\u001b[0m",
            "\u001b[0;31mModuleNotFoundError\u001b[0m                       Traceback (most recent call last)",
            "\u001b[0;32m<ipython-input-12-e1a9cb858cde>\u001b[0m in \u001b[0;36m<module>\u001b[0;34m\u001b[0m\n\u001b[1;32m      1\u001b[0m \u001b[0;31m# To install we do \"conda install pygraphviz\"\u001b[0m\u001b[0;34m\u001b[0m\u001b[0;34m\u001b[0m\u001b[0;34m\u001b[0m\u001b[0m\n\u001b[1;32m      2\u001b[0m \u001b[0;34m\u001b[0m\u001b[0m\n\u001b[0;32m----> 3\u001b[0;31m \u001b[0;32mimport\u001b[0m \u001b[0mpygraphviz\u001b[0m \u001b[0;32mas\u001b[0m \u001b[0mpgv\u001b[0m\u001b[0;34m\u001b[0m\u001b[0;34m\u001b[0m\u001b[0m\n\u001b[0m\u001b[1;32m      4\u001b[0m \u001b[0md\u001b[0m\u001b[0;34m=\u001b[0m\u001b[0;34m{\u001b[0m\u001b[0;34m'1'\u001b[0m\u001b[0;34m:\u001b[0m \u001b[0;34m{\u001b[0m\u001b[0;34m'2'\u001b[0m\u001b[0;34m:\u001b[0m \u001b[0;32mNone\u001b[0m\u001b[0;34m}\u001b[0m\u001b[0;34m,\u001b[0m \u001b[0;34m'2'\u001b[0m\u001b[0;34m:\u001b[0m \u001b[0;34m{\u001b[0m\u001b[0;34m'1'\u001b[0m\u001b[0;34m:\u001b[0m \u001b[0;32mNone\u001b[0m\u001b[0;34m,\u001b[0m \u001b[0;34m'3'\u001b[0m\u001b[0;34m:\u001b[0m \u001b[0;32mNone\u001b[0m\u001b[0;34m}\u001b[0m\u001b[0;34m,\u001b[0m \u001b[0;34m'3'\u001b[0m\u001b[0;34m:\u001b[0m \u001b[0;34m{\u001b[0m\u001b[0;34m'1'\u001b[0m\u001b[0;34m:\u001b[0m \u001b[0;32mNone\u001b[0m\u001b[0;34m}\u001b[0m\u001b[0;34m}\u001b[0m\u001b[0;34m\u001b[0m\u001b[0;34m\u001b[0m\u001b[0m\n\u001b[1;32m      5\u001b[0m \u001b[0mA\u001b[0m \u001b[0;34m=\u001b[0m \u001b[0mpgv\u001b[0m\u001b[0;34m.\u001b[0m\u001b[0mAGraph\u001b[0m\u001b[0;34m(\u001b[0m\u001b[0mdata\u001b[0m\u001b[0;34m=\u001b[0m\u001b[0md\u001b[0m\u001b[0;34m)\u001b[0m\u001b[0;34m\u001b[0m\u001b[0;34m\u001b[0m\u001b[0m\n",
            "\u001b[0;31mModuleNotFoundError\u001b[0m: No module named 'pygraphviz'"
          ]
        }
      ]
    },
    {
      "cell_type": "code",
      "metadata": {
        "id": "8eRahwLj8HgB",
        "colab_type": "code",
        "colab": {},
        "outputId": "dd11da3b-596f-48bb-8265-56130d53a12e"
      },
      "source": [
        "B = pgv.AGraph()\n",
        "print(B)"
      ],
      "execution_count": 0,
      "outputs": [
        {
          "output_type": "stream",
          "text": [
            "strict graph \"\" {\n",
            "}\n",
            "\n"
          ],
          "name": "stdout"
        }
      ]
    },
    {
      "cell_type": "code",
      "metadata": {
        "id": "M4-IdbE48HgD",
        "colab_type": "code",
        "colab": {},
        "outputId": "9deb580f-3cc2-45e9-e29d-608103095e9b"
      },
      "source": [
        "# Let us create another Graph where we can individually control the colour of each node\n",
        "B = pgv.AGraph()\n",
        "\n",
        "# Setting node attributes that are common for all nodes \n",
        "B.node_attr['style']='filled'\n",
        "B.node_attr['shape']='circle'\n",
        "B.node_attr['fixedsize']='true'\n",
        "B.node_attr['fontcolor']='#ffffff' # Find colors here: https://www.color-hex.com/color-palettes/\n",
        "\n",
        "# Creating and setting node attributes that vary for each node (using a for loop)\n",
        "for i in range(3):\n",
        " B.add_edge(0,i)\n",
        " n=B.get_node(i)\n",
        " n.attr['fillcolor']=\"#%2x0000\"%(i*16)\n",
        " #n.attr['height']=\"%s\"%(i/16.0+0.5)\n",
        " #n.attr['width']=\"%s\"%(i/16.0+0.5)\n",
        "B.draw('star2.png',prog=\"circo\") # This creates a .png file in the local directory. Displayed below.\n",
        "\n",
        "from IPython.display import Image\n",
        "\n",
        "Image('star2.png', width=650) # The Graph visualization we created above."
      ],
      "execution_count": 0,
      "outputs": [
        {
          "output_type": "execute_result",
          "data": {
            "image/png": "[encoded data removed]",
            "text/plain": [
              "<IPython.core.display.Image object>"
            ]
          },
          "metadata": {
            "tags": [],
            "image/png": {
              "width": 650
            }
          },
          "execution_count": 18
        }
      ]
    },
    {
      "cell_type": "markdown",
      "metadata": {
        "id": "Ip__AS-r8HgF",
        "colab_type": "text"
      },
      "source": [
        "# Analysis on a dataset\n",
        "\n",
        "## Data can be accessed here: \n",
        "https://drive.google.com/file/d/1ZdTsaucTcuceMdwQgpsEc3z5glKTwNKD/view?usp=sharing\n"
      ]
    },
    {
      "cell_type": "code",
      "metadata": {
        "id": "CYlfsVmd8HgG",
        "colab_type": "code",
        "colab": {}
      },
      "source": [
        "import pandas as pd\n",
        "import numpy as np\n",
        "import networkx as nx\n",
        "\n",
        "\n",
        "data = pd.read_csv('/Users/jason/Downloads/IST-652-Scripting-for-Data-Analysis-All-master/Unit 10/Airlines.csv')"
      ],
      "execution_count": 0,
      "outputs": []
    },
    {
      "cell_type": "code",
      "metadata": {
        "id": "ybvAki9j8HgH",
        "colab_type": "code",
        "colab": {
          "base_uri": "https://localhost:8080/",
          "height": 308
        },
        "outputId": "439035c1-5b12-41f3-baa2-1be19d86638a"
      },
      "source": [
        "data.shape\n",
        "(100, 16)\n",
        "\n",
        "data.dtypes"
      ],
      "execution_count": 15,
      "outputs": [
        {
          "output_type": "execute_result",
          "data": {
            "text/plain": [
              "year                int64\n",
              "month               int64\n",
              "day                 int64\n",
              "dep_time          float64\n",
              "sched_dep_time      int64\n",
              "dep_delay         float64\n",
              "arr_time          float64\n",
              "sched_arr_time      int64\n",
              "arr_delay         float64\n",
              "carrier            object\n",
              "flight              int64\n",
              "tailnum            object\n",
              "origin             object\n",
              "dest               object\n",
              "air_time          float64\n",
              "distance            int64\n",
              "dtype: object"
            ]
          },
          "metadata": {
            "tags": []
          },
          "execution_count": 15
        }
      ]
    },
    {
      "cell_type": "code",
      "metadata": {
        "id": "83KuJVRkH52O",
        "colab_type": "code",
        "colab": {
          "base_uri": "https://localhost:8080/",
          "height": 203
        },
        "outputId": "ebfb179c-e91e-4fa0-cb07-daad5ef23184"
      },
      "source": [
        "data.head()"
      ],
      "execution_count": 16,
      "outputs": [
        {
          "output_type": "execute_result",
          "data": {
            "text/plain": [
              "   year  month  day  dep_time  sched_dep_time  dep_delay  arr_time  \\\n",
              "0  2013      2   26    1807.0            1630       97.0    1956.0   \n",
              "1  2013      8   17    1459.0            1445       14.0    1801.0   \n",
              "2  2013      2   13    1812.0            1815       -3.0    2055.0   \n",
              "3  2013      4   11    2122.0            2115        7.0    2339.0   \n",
              "4  2013      8    5    1832.0            1835       -3.0    2145.0   \n",
              "\n",
              "   sched_arr_time  arr_delay carrier  flight tailnum origin dest  air_time  \\\n",
              "0            1837       79.0      EV    4411  N13566    EWR  MEM     144.0   \n",
              "1            1747       14.0      B6    1171  N661JB    LGA  FLL     147.0   \n",
              "2            2125      -30.0      AS       7  N403AS    EWR  SEA     315.0   \n",
              "3            2353      -14.0      B6      97  N656JB    JFK  DEN     221.0   \n",
              "4            2155      -10.0      AA     269  N3EYAA    JFK  SEA     358.0   \n",
              "\n",
              "   distance  \n",
              "0       946  \n",
              "1      1076  \n",
              "2      2402  \n",
              "3      1626  \n",
              "4      2422  "
            ],
            "text/html": [
              "<div>\n",
              "<style scoped>\n",
              "    .dataframe tbody tr th:only-of-type {\n",
              "        vertical-align: middle;\n",
              "    }\n",
              "\n",
              "    .dataframe tbody tr th {\n",
              "        vertical-align: top;\n",
              "    }\n",
              "\n",
              "    .dataframe thead th {\n",
              "        text-align: right;\n",
              "    }\n",
              "</style>\n",
              "<table border=\"1\" class=\"dataframe\">\n",
              "  <thead>\n",
              "    <tr style=\"text-align: right;\">\n",
              "      <th></th>\n",
              "      <th>year</th>\n",
              "      <th>month</th>\n",
              "      <th>day</th>\n",
              "      <th>dep_time</th>\n",
              "      <th>sched_dep_time</th>\n",
              "      <th>dep_delay</th>\n",
              "      <th>arr_time</th>\n",
              "      <th>sched_arr_time</th>\n",
              "      <th>arr_delay</th>\n",
              "      <th>carrier</th>\n",
              "      <th>flight</th>\n",
              "      <th>tailnum</th>\n",
              "      <th>origin</th>\n",
              "      <th>dest</th>\n",
              "      <th>air_time</th>\n",
              "      <th>distance</th>\n",
              "    </tr>\n",
              "  </thead>\n",
              "  <tbody>\n",
              "    <tr>\n",
              "      <th>0</th>\n",
              "      <td>2013</td>\n",
              "      <td>2</td>\n",
              "      <td>26</td>\n",
              "      <td>1807.0</td>\n",
              "      <td>1630</td>\n",
              "      <td>97.0</td>\n",
              "      <td>1956.0</td>\n",
              "      <td>1837</td>\n",
              "      <td>79.0</td>\n",
              "      <td>EV</td>\n",
              "      <td>4411</td>\n",
              "      <td>N13566</td>\n",
              "      <td>EWR</td>\n",
              "      <td>MEM</td>\n",
              "      <td>144.0</td>\n",
              "      <td>946</td>\n",
              "    </tr>\n",
              "    <tr>\n",
              "      <th>1</th>\n",
              "      <td>2013</td>\n",
              "      <td>8</td>\n",
              "      <td>17</td>\n",
              "      <td>1459.0</td>\n",
              "      <td>1445</td>\n",
              "      <td>14.0</td>\n",
              "      <td>1801.0</td>\n",
              "      <td>1747</td>\n",
              "      <td>14.0</td>\n",
              "      <td>B6</td>\n",
              "      <td>1171</td>\n",
              "      <td>N661JB</td>\n",
              "      <td>LGA</td>\n",
              "      <td>FLL</td>\n",
              "      <td>147.0</td>\n",
              "      <td>1076</td>\n",
              "    </tr>\n",
              "    <tr>\n",
              "      <th>2</th>\n",
              "      <td>2013</td>\n",
              "      <td>2</td>\n",
              "      <td>13</td>\n",
              "      <td>1812.0</td>\n",
              "      <td>1815</td>\n",
              "      <td>-3.0</td>\n",
              "      <td>2055.0</td>\n",
              "      <td>2125</td>\n",
              "      <td>-30.0</td>\n",
              "      <td>AS</td>\n",
              "      <td>7</td>\n",
              "      <td>N403AS</td>\n",
              "      <td>EWR</td>\n",
              "      <td>SEA</td>\n",
              "      <td>315.0</td>\n",
              "      <td>2402</td>\n",
              "    </tr>\n",
              "    <tr>\n",
              "      <th>3</th>\n",
              "      <td>2013</td>\n",
              "      <td>4</td>\n",
              "      <td>11</td>\n",
              "      <td>2122.0</td>\n",
              "      <td>2115</td>\n",
              "      <td>7.0</td>\n",
              "      <td>2339.0</td>\n",
              "      <td>2353</td>\n",
              "      <td>-14.0</td>\n",
              "      <td>B6</td>\n",
              "      <td>97</td>\n",
              "      <td>N656JB</td>\n",
              "      <td>JFK</td>\n",
              "      <td>DEN</td>\n",
              "      <td>221.0</td>\n",
              "      <td>1626</td>\n",
              "    </tr>\n",
              "    <tr>\n",
              "      <th>4</th>\n",
              "      <td>2013</td>\n",
              "      <td>8</td>\n",
              "      <td>5</td>\n",
              "      <td>1832.0</td>\n",
              "      <td>1835</td>\n",
              "      <td>-3.0</td>\n",
              "      <td>2145.0</td>\n",
              "      <td>2155</td>\n",
              "      <td>-10.0</td>\n",
              "      <td>AA</td>\n",
              "      <td>269</td>\n",
              "      <td>N3EYAA</td>\n",
              "      <td>JFK</td>\n",
              "      <td>SEA</td>\n",
              "      <td>358.0</td>\n",
              "      <td>2422</td>\n",
              "    </tr>\n",
              "  </tbody>\n",
              "</table>\n",
              "</div>"
            ]
          },
          "metadata": {
            "tags": []
          },
          "execution_count": 16
        }
      ]
    },
    {
      "cell_type": "code",
      "metadata": {
        "id": "E1mJPEqs8HgJ",
        "colab_type": "code",
        "colab": {}
      },
      "source": [
        "# converting sched_dep_time to 'std' - Scheduled time of departure\n",
        "data['std'] = data.sched_dep_time.astype(str).str.replace('(\\d{2}$)', '') + ':' + data.sched_dep_time.astype(str).str.extract('(\\d{2}$)', expand=False) + ':00'"
      ],
      "execution_count": 0,
      "outputs": []
    },
    {
      "cell_type": "code",
      "metadata": {
        "id": "VF2ff2Xk8HgN",
        "colab_type": "code",
        "colab": {}
      },
      "source": [
        "# converting sched_arr_time to 'sta' - Scheduled time of arrival\n",
        "data['sta'] = data.sched_arr_time.astype(str).str.replace('(\\d{2}$)', '') + ':' + data.sched_arr_time.astype(str).str.extract('(\\d{2}$)', expand=False) + ':00'\n",
        "\n",
        "# converting dep_time to 'atd' - Actual time of departure\n",
        "data['atd'] = data.dep_time.fillna(0).astype(np.int64).astype(str).str.replace('(\\d{2}$)', '') + ':' + data.dep_time.fillna(0).astype(np.int64).astype(str).str.extract('(\\d{2}$)', expand=False) + ':00'"
      ],
      "execution_count": 0,
      "outputs": []
    },
    {
      "cell_type": "code",
      "metadata": {
        "id": "_6FR-CNM8HgP",
        "colab_type": "code",
        "colab": {}
      },
      "source": [
        "# converting arr_time to 'ata' - Actual time of arrival\n",
        "data['ata'] = data.arr_time.fillna(0).astype(np.int64).astype(str).str.replace('(\\d{2}$)', '') + ':' + data.arr_time.fillna(0).astype(np.int64).astype(str).str.extract('(\\d{2}$)', expand=False) + ':00'"
      ],
      "execution_count": 0,
      "outputs": []
    },
    {
      "cell_type": "code",
      "metadata": {
        "id": "iMbZLvNF8HgR",
        "colab_type": "code",
        "colab": {}
      },
      "source": [
        "data['date'] = pd.to_datetime(data[['year', 'month', 'day']])"
      ],
      "execution_count": 0,
      "outputs": []
    },
    {
      "cell_type": "code",
      "metadata": {
        "id": "WmGcOr-P8HgT",
        "colab_type": "code",
        "colab": {}
      },
      "source": [
        "# finally we drop the columns we don't need\n",
        "data = data.drop(columns = ['year', 'month', 'day'])"
      ],
      "execution_count": 0,
      "outputs": []
    },
    {
      "cell_type": "code",
      "metadata": {
        "id": "6KJgNelE8HgV",
        "colab_type": "code",
        "colab": {
          "base_uri": "https://localhost:8080/",
          "height": 308
        },
        "outputId": "b91f4359-0cf6-4249-d5f4-29e1667d5c67"
      },
      "source": [
        "data.head()"
      ],
      "execution_count": 22,
      "outputs": [
        {
          "output_type": "execute_result",
          "data": {
            "text/plain": [
              "   dep_time  sched_dep_time  dep_delay  arr_time  sched_arr_time  arr_delay  \\\n",
              "0    1807.0            1630       97.0    1956.0            1837       79.0   \n",
              "1    1459.0            1445       14.0    1801.0            1747       14.0   \n",
              "2    1812.0            1815       -3.0    2055.0            2125      -30.0   \n",
              "3    2122.0            2115        7.0    2339.0            2353      -14.0   \n",
              "4    1832.0            1835       -3.0    2145.0            2155      -10.0   \n",
              "\n",
              "  carrier  flight tailnum origin dest  air_time  distance       std       sta  \\\n",
              "0      EV    4411  N13566    EWR  MEM     144.0       946  16:30:00  18:37:00   \n",
              "1      B6    1171  N661JB    LGA  FLL     147.0      1076  14:45:00  17:47:00   \n",
              "2      AS       7  N403AS    EWR  SEA     315.0      2402  18:15:00  21:25:00   \n",
              "3      B6      97  N656JB    JFK  DEN     221.0      1626  21:15:00  23:53:00   \n",
              "4      AA     269  N3EYAA    JFK  SEA     358.0      2422  18:35:00  21:55:00   \n",
              "\n",
              "        atd       ata       date  \n",
              "0  18:07:00  19:56:00 2013-02-26  \n",
              "1  14:59:00  18:01:00 2013-08-17  \n",
              "2  18:12:00  20:55:00 2013-02-13  \n",
              "3  21:22:00  23:39:00 2013-04-11  \n",
              "4  18:32:00  21:45:00 2013-08-05  "
            ],
            "text/html": [
              "<div>\n",
              "<style scoped>\n",
              "    .dataframe tbody tr th:only-of-type {\n",
              "        vertical-align: middle;\n",
              "    }\n",
              "\n",
              "    .dataframe tbody tr th {\n",
              "        vertical-align: top;\n",
              "    }\n",
              "\n",
              "    .dataframe thead th {\n",
              "        text-align: right;\n",
              "    }\n",
              "</style>\n",
              "<table border=\"1\" class=\"dataframe\">\n",
              "  <thead>\n",
              "    <tr style=\"text-align: right;\">\n",
              "      <th></th>\n",
              "      <th>dep_time</th>\n",
              "      <th>sched_dep_time</th>\n",
              "      <th>dep_delay</th>\n",
              "      <th>arr_time</th>\n",
              "      <th>sched_arr_time</th>\n",
              "      <th>arr_delay</th>\n",
              "      <th>carrier</th>\n",
              "      <th>flight</th>\n",
              "      <th>tailnum</th>\n",
              "      <th>origin</th>\n",
              "      <th>dest</th>\n",
              "      <th>air_time</th>\n",
              "      <th>distance</th>\n",
              "      <th>std</th>\n",
              "      <th>sta</th>\n",
              "      <th>atd</th>\n",
              "      <th>ata</th>\n",
              "      <th>date</th>\n",
              "    </tr>\n",
              "  </thead>\n",
              "  <tbody>\n",
              "    <tr>\n",
              "      <th>0</th>\n",
              "      <td>1807.0</td>\n",
              "      <td>1630</td>\n",
              "      <td>97.0</td>\n",
              "      <td>1956.0</td>\n",
              "      <td>1837</td>\n",
              "      <td>79.0</td>\n",
              "      <td>EV</td>\n",
              "      <td>4411</td>\n",
              "      <td>N13566</td>\n",
              "      <td>EWR</td>\n",
              "      <td>MEM</td>\n",
              "      <td>144.0</td>\n",
              "      <td>946</td>\n",
              "      <td>16:30:00</td>\n",
              "      <td>18:37:00</td>\n",
              "      <td>18:07:00</td>\n",
              "      <td>19:56:00</td>\n",
              "      <td>2013-02-26</td>\n",
              "    </tr>\n",
              "    <tr>\n",
              "      <th>1</th>\n",
              "      <td>1459.0</td>\n",
              "      <td>1445</td>\n",
              "      <td>14.0</td>\n",
              "      <td>1801.0</td>\n",
              "      <td>1747</td>\n",
              "      <td>14.0</td>\n",
              "      <td>B6</td>\n",
              "      <td>1171</td>\n",
              "      <td>N661JB</td>\n",
              "      <td>LGA</td>\n",
              "      <td>FLL</td>\n",
              "      <td>147.0</td>\n",
              "      <td>1076</td>\n",
              "      <td>14:45:00</td>\n",
              "      <td>17:47:00</td>\n",
              "      <td>14:59:00</td>\n",
              "      <td>18:01:00</td>\n",
              "      <td>2013-08-17</td>\n",
              "    </tr>\n",
              "    <tr>\n",
              "      <th>2</th>\n",
              "      <td>1812.0</td>\n",
              "      <td>1815</td>\n",
              "      <td>-3.0</td>\n",
              "      <td>2055.0</td>\n",
              "      <td>2125</td>\n",
              "      <td>-30.0</td>\n",
              "      <td>AS</td>\n",
              "      <td>7</td>\n",
              "      <td>N403AS</td>\n",
              "      <td>EWR</td>\n",
              "      <td>SEA</td>\n",
              "      <td>315.0</td>\n",
              "      <td>2402</td>\n",
              "      <td>18:15:00</td>\n",
              "      <td>21:25:00</td>\n",
              "      <td>18:12:00</td>\n",
              "      <td>20:55:00</td>\n",
              "      <td>2013-02-13</td>\n",
              "    </tr>\n",
              "    <tr>\n",
              "      <th>3</th>\n",
              "      <td>2122.0</td>\n",
              "      <td>2115</td>\n",
              "      <td>7.0</td>\n",
              "      <td>2339.0</td>\n",
              "      <td>2353</td>\n",
              "      <td>-14.0</td>\n",
              "      <td>B6</td>\n",
              "      <td>97</td>\n",
              "      <td>N656JB</td>\n",
              "      <td>JFK</td>\n",
              "      <td>DEN</td>\n",
              "      <td>221.0</td>\n",
              "      <td>1626</td>\n",
              "      <td>21:15:00</td>\n",
              "      <td>23:53:00</td>\n",
              "      <td>21:22:00</td>\n",
              "      <td>23:39:00</td>\n",
              "      <td>2013-04-11</td>\n",
              "    </tr>\n",
              "    <tr>\n",
              "      <th>4</th>\n",
              "      <td>1832.0</td>\n",
              "      <td>1835</td>\n",
              "      <td>-3.0</td>\n",
              "      <td>2145.0</td>\n",
              "      <td>2155</td>\n",
              "      <td>-10.0</td>\n",
              "      <td>AA</td>\n",
              "      <td>269</td>\n",
              "      <td>N3EYAA</td>\n",
              "      <td>JFK</td>\n",
              "      <td>SEA</td>\n",
              "      <td>358.0</td>\n",
              "      <td>2422</td>\n",
              "      <td>18:35:00</td>\n",
              "      <td>21:55:00</td>\n",
              "      <td>18:32:00</td>\n",
              "      <td>21:45:00</td>\n",
              "      <td>2013-08-05</td>\n",
              "    </tr>\n",
              "  </tbody>\n",
              "</table>\n",
              "</div>"
            ]
          },
          "metadata": {
            "tags": []
          },
          "execution_count": 22
        }
      ]
    },
    {
      "cell_type": "code",
      "metadata": {
        "id": "ycayIiRx8HgW",
        "colab_type": "code",
        "colab": {
          "base_uri": "https://localhost:8080/",
          "height": 34
        },
        "outputId": "9bdec6ca-aa39-483f-d0d0-d89d1105a47f"
      },
      "source": [
        "import networkx as nx\n",
        "FG = nx.from_pandas_edgelist(data, source='origin', target='dest',edge_attr=True)\n",
        "FG"
      ],
      "execution_count": 23,
      "outputs": [
        {
          "output_type": "execute_result",
          "data": {
            "text/plain": [
              "<networkx.classes.graph.Graph at 0x7faaa9ff2ed0>"
            ]
          },
          "metadata": {
            "tags": []
          },
          "execution_count": 23
        }
      ]
    },
    {
      "cell_type": "code",
      "metadata": {
        "id": "22SRMvC_8HgY",
        "colab_type": "code",
        "colab": {
          "base_uri": "https://localhost:8080/",
          "height": 54
        },
        "outputId": "2be4e061-b352-4fff-bcca-0c84bba037c8"
      },
      "source": [
        "FG.nodes()"
      ],
      "execution_count": 24,
      "outputs": [
        {
          "output_type": "execute_result",
          "data": {
            "text/plain": [
              "NodeView(('EWR', 'MEM', 'LGA', 'FLL', 'SEA', 'JFK', 'DEN', 'ORD', 'MIA', 'PBI', 'MCO', 'CMH', 'MSP', 'IAD', 'CLT', 'TPA', 'DCA', 'SJU', 'ATL', 'BHM', 'SRQ', 'MSY', 'DTW', 'LAX', 'JAX', 'RDU', 'MDW', 'DFW', 'IAH', 'SFO', 'STL', 'CVG', 'IND', 'RSW', 'BOS', 'CLE'))"
            ]
          },
          "metadata": {
            "tags": []
          },
          "execution_count": 24
        }
      ]
    },
    {
      "cell_type": "code",
      "metadata": {
        "id": "WtiNpm5t8Hga",
        "colab_type": "code",
        "colab": {
          "base_uri": "https://localhost:8080/",
          "height": 54
        },
        "outputId": "f0338772-602b-4b2e-d12c-92ea9ef2086c"
      },
      "source": [
        "FG.edges()"
      ],
      "execution_count": 25,
      "outputs": [
        {
          "output_type": "execute_result",
          "data": {
            "text/plain": [
              "EdgeView([('EWR', 'MEM'), ('EWR', 'SEA'), ('EWR', 'MIA'), ('EWR', 'ORD'), ('EWR', 'MSP'), ('EWR', 'TPA'), ('EWR', 'MSY'), ('EWR', 'DFW'), ('EWR', 'IAH'), ('EWR', 'SFO'), ('EWR', 'CVG'), ('EWR', 'IND'), ('EWR', 'RDU'), ('EWR', 'IAD'), ('EWR', 'RSW'), ('EWR', 'BOS'), ('EWR', 'PBI'), ('EWR', 'LAX'), ('EWR', 'MCO'), ('EWR', 'SJU'), ('LGA', 'FLL'), ('LGA', 'ORD'), ('LGA', 'PBI'), ('LGA', 'CMH'), ('LGA', 'IAD'), ('LGA', 'CLT'), ('LGA', 'MIA'), ('LGA', 'DCA'), ('LGA', 'BHM'), ('LGA', 'RDU'), ('LGA', 'ATL'), ('LGA', 'TPA'), ('LGA', 'MDW'), ('LGA', 'DEN'), ('LGA', 'MSP'), ('LGA', 'DTW'), ('LGA', 'STL'), ('LGA', 'MCO'), ('LGA', 'CVG'), ('LGA', 'IAH'), ('FLL', 'JFK'), ('SEA', 'JFK'), ('JFK', 'DEN'), ('JFK', 'MCO'), ('JFK', 'TPA'), ('JFK', 'SJU'), ('JFK', 'ATL'), ('JFK', 'SRQ'), ('JFK', 'DCA'), ('JFK', 'DTW'), ('JFK', 'LAX'), ('JFK', 'JAX'), ('JFK', 'CLT'), ('JFK', 'PBI'), ('JFK', 'CLE'), ('JFK', 'IAD'), ('JFK', 'BOS')])"
            ]
          },
          "metadata": {
            "tags": []
          },
          "execution_count": 25
        }
      ]
    },
    {
      "cell_type": "code",
      "metadata": {
        "id": "rpCnJ3ku8Hgc",
        "colab_type": "code",
        "colab": {
          "base_uri": "https://localhost:8080/",
          "height": 248
        },
        "outputId": "4e18b2b8-e83c-424c-cdd0-e97a6aa65d4d"
      },
      "source": [
        "nx.draw_networkx(FG, with_labels=True,node_size=500) # Quick view of the Graph."
      ],
      "execution_count": 27,
      "outputs": [
        {
          "output_type": "display_data",
          "data": {
            "text/plain": [
              "<Figure size 432x288 with 1 Axes>"
            ],
            "image/png": "[encoded data removed]"
          },
          "metadata": {
            "tags": []
          }
        }
      ]
    },
    {
      "cell_type": "code",
      "metadata": {
        "id": "Laub1fwo8Hgd",
        "colab_type": "code",
        "colab": {
          "base_uri": "https://localhost:8080/",
          "height": 634
        },
        "outputId": "68545b06-aa13-415f-82b4-cd5fc08e0f41"
      },
      "source": [
        "nx.algorithms.degree_centrality(FG) # Notice the 3 airports from which all of our 100 rows of data originates\n",
        "\n",
        "\n",
        "#nx.density(FG) # Average edge density of the Graphs"
      ],
      "execution_count": 30,
      "outputs": [
        {
          "output_type": "execute_result",
          "data": {
            "text/plain": [
              "{'EWR': 0.5714285714285714,\n",
              " 'MEM': 0.02857142857142857,\n",
              " 'LGA': 0.5714285714285714,\n",
              " 'FLL': 0.05714285714285714,\n",
              " 'SEA': 0.05714285714285714,\n",
              " 'JFK': 0.4857142857142857,\n",
              " 'DEN': 0.05714285714285714,\n",
              " 'ORD': 0.05714285714285714,\n",
              " 'MIA': 0.05714285714285714,\n",
              " 'PBI': 0.08571428571428572,\n",
              " 'MCO': 0.08571428571428572,\n",
              " 'CMH': 0.02857142857142857,\n",
              " 'MSP': 0.05714285714285714,\n",
              " 'IAD': 0.08571428571428572,\n",
              " 'CLT': 0.05714285714285714,\n",
              " 'TPA': 0.08571428571428572,\n",
              " 'DCA': 0.05714285714285714,\n",
              " 'SJU': 0.05714285714285714,\n",
              " 'ATL': 0.05714285714285714,\n",
              " 'BHM': 0.02857142857142857,\n",
              " 'SRQ': 0.02857142857142857,\n",
              " 'MSY': 0.02857142857142857,\n",
              " 'DTW': 0.05714285714285714,\n",
              " 'LAX': 0.05714285714285714,\n",
              " 'JAX': 0.02857142857142857,\n",
              " 'RDU': 0.05714285714285714,\n",
              " 'MDW': 0.02857142857142857,\n",
              " 'DFW': 0.02857142857142857,\n",
              " 'IAH': 0.05714285714285714,\n",
              " 'SFO': 0.02857142857142857,\n",
              " 'STL': 0.02857142857142857,\n",
              " 'CVG': 0.05714285714285714,\n",
              " 'IND': 0.02857142857142857,\n",
              " 'RSW': 0.02857142857142857,\n",
              " 'BOS': 0.05714285714285714,\n",
              " 'CLE': 0.02857142857142857}"
            ]
          },
          "metadata": {
            "tags": []
          },
          "execution_count": 30
        }
      ]
    },
    {
      "cell_type": "code",
      "metadata": {
        "id": "BHxGbQ6J8Hgf",
        "colab_type": "code",
        "colab": {},
        "outputId": "4daabc82-ad95-401c-9559-6f8254f4fb8b"
      },
      "source": [
        "nx.average_shortest_path_length(FG) # Average shortest path length for ALL paths in the Graph"
      ],
      "execution_count": 0,
      "outputs": [
        {
          "output_type": "execute_result",
          "data": {
            "text/plain": [
              "2.36984126984127"
            ]
          },
          "metadata": {
            "tags": []
          },
          "execution_count": 22
        }
      ]
    },
    {
      "cell_type": "code",
      "metadata": {
        "id": "JbO2ebfH8Hgh",
        "colab_type": "code",
        "colab": {},
        "outputId": "5547a0ac-e287-49a3-88dd-a9c1056e8bd8"
      },
      "source": [
        "nx.average_degree_connectivity(FG) # For a node of degree k - What is the average of its neighbours' degree?"
      ],
      "execution_count": 0,
      "outputs": [
        {
          "output_type": "execute_result",
          "data": {
            "text/plain": [
              "{20: 1.95, 1: 19.307692307692307, 2: 19.0625, 17: 2.0588235294117645, 3: 19.0}"
            ]
          },
          "metadata": {
            "tags": []
          },
          "execution_count": 23
        }
      ]
    },
    {
      "cell_type": "code",
      "metadata": {
        "id": "CP0Mwo0e8Hgj",
        "colab_type": "code",
        "colab": {},
        "outputId": "0c42a18e-91dd-481f-e1fc-6f30485f47ac"
      },
      "source": [
        "# Let us find all the paths available\n",
        "for path in nx.all_simple_paths(FG, source='JAX', target='DFW'):\n",
        " print(path)"
      ],
      "execution_count": 0,
      "outputs": [
        {
          "output_type": "stream",
          "text": [
            "['JAX', 'JFK', 'DEN', 'LGA', 'ORD', 'EWR', 'DFW']\n",
            "['JAX', 'JFK', 'DEN', 'LGA', 'PBI', 'EWR', 'DFW']\n",
            "['JAX', 'JFK', 'DEN', 'LGA', 'IAD', 'EWR', 'DFW']\n",
            "['JAX', 'JFK', 'DEN', 'LGA', 'MIA', 'EWR', 'DFW']\n",
            "['JAX', 'JFK', 'DEN', 'LGA', 'RDU', 'EWR', 'DFW']\n",
            "['JAX', 'JFK', 'DEN', 'LGA', 'TPA', 'EWR', 'DFW']\n",
            "['JAX', 'JFK', 'DEN', 'LGA', 'MSP', 'EWR', 'DFW']\n",
            "['JAX', 'JFK', 'DEN', 'LGA', 'MCO', 'EWR', 'DFW']\n",
            "['JAX', 'JFK', 'DEN', 'LGA', 'CVG', 'EWR', 'DFW']\n",
            "['JAX', 'JFK', 'DEN', 'LGA', 'IAH', 'EWR', 'DFW']\n",
            "['JAX', 'JFK', 'SEA', 'EWR', 'DFW']\n",
            "['JAX', 'JFK', 'MCO', 'LGA', 'ORD', 'EWR', 'DFW']\n",
            "['JAX', 'JFK', 'MCO', 'LGA', 'PBI', 'EWR', 'DFW']\n",
            "['JAX', 'JFK', 'MCO', 'LGA', 'IAD', 'EWR', 'DFW']\n",
            "['JAX', 'JFK', 'MCO', 'LGA', 'MIA', 'EWR', 'DFW']\n",
            "['JAX', 'JFK', 'MCO', 'LGA', 'RDU', 'EWR', 'DFW']\n",
            "['JAX', 'JFK', 'MCO', 'LGA', 'TPA', 'EWR', 'DFW']\n",
            "['JAX', 'JFK', 'MCO', 'LGA', 'MSP', 'EWR', 'DFW']\n",
            "['JAX', 'JFK', 'MCO', 'LGA', 'CVG', 'EWR', 'DFW']\n",
            "['JAX', 'JFK', 'MCO', 'LGA', 'IAH', 'EWR', 'DFW']\n",
            "['JAX', 'JFK', 'MCO', 'EWR', 'DFW']\n",
            "['JAX', 'JFK', 'TPA', 'EWR', 'DFW']\n",
            "['JAX', 'JFK', 'TPA', 'LGA', 'ORD', 'EWR', 'DFW']\n",
            "['JAX', 'JFK', 'TPA', 'LGA', 'PBI', 'EWR', 'DFW']\n",
            "['JAX', 'JFK', 'TPA', 'LGA', 'IAD', 'EWR', 'DFW']\n",
            "['JAX', 'JFK', 'TPA', 'LGA', 'MIA', 'EWR', 'DFW']\n",
            "['JAX', 'JFK', 'TPA', 'LGA', 'RDU', 'EWR', 'DFW']\n",
            "['JAX', 'JFK', 'TPA', 'LGA', 'MSP', 'EWR', 'DFW']\n",
            "['JAX', 'JFK', 'TPA', 'LGA', 'MCO', 'EWR', 'DFW']\n",
            "['JAX', 'JFK', 'TPA', 'LGA', 'CVG', 'EWR', 'DFW']\n",
            "['JAX', 'JFK', 'TPA', 'LGA', 'IAH', 'EWR', 'DFW']\n",
            "['JAX', 'JFK', 'SJU', 'EWR', 'DFW']\n",
            "['JAX', 'JFK', 'ATL', 'LGA', 'ORD', 'EWR', 'DFW']\n",
            "['JAX', 'JFK', 'ATL', 'LGA', 'PBI', 'EWR', 'DFW']\n",
            "['JAX', 'JFK', 'ATL', 'LGA', 'IAD', 'EWR', 'DFW']\n",
            "['JAX', 'JFK', 'ATL', 'LGA', 'MIA', 'EWR', 'DFW']\n",
            "['JAX', 'JFK', 'ATL', 'LGA', 'RDU', 'EWR', 'DFW']\n",
            "['JAX', 'JFK', 'ATL', 'LGA', 'TPA', 'EWR', 'DFW']\n",
            "['JAX', 'JFK', 'ATL', 'LGA', 'MSP', 'EWR', 'DFW']\n",
            "['JAX', 'JFK', 'ATL', 'LGA', 'MCO', 'EWR', 'DFW']\n",
            "['JAX', 'JFK', 'ATL', 'LGA', 'CVG', 'EWR', 'DFW']\n",
            "['JAX', 'JFK', 'ATL', 'LGA', 'IAH', 'EWR', 'DFW']\n",
            "['JAX', 'JFK', 'DCA', 'LGA', 'ORD', 'EWR', 'DFW']\n",
            "['JAX', 'JFK', 'DCA', 'LGA', 'PBI', 'EWR', 'DFW']\n",
            "['JAX', 'JFK', 'DCA', 'LGA', 'IAD', 'EWR', 'DFW']\n",
            "['JAX', 'JFK', 'DCA', 'LGA', 'MIA', 'EWR', 'DFW']\n",
            "['JAX', 'JFK', 'DCA', 'LGA', 'RDU', 'EWR', 'DFW']\n",
            "['JAX', 'JFK', 'DCA', 'LGA', 'TPA', 'EWR', 'DFW']\n",
            "['JAX', 'JFK', 'DCA', 'LGA', 'MSP', 'EWR', 'DFW']\n",
            "['JAX', 'JFK', 'DCA', 'LGA', 'MCO', 'EWR', 'DFW']\n",
            "['JAX', 'JFK', 'DCA', 'LGA', 'CVG', 'EWR', 'DFW']\n",
            "['JAX', 'JFK', 'DCA', 'LGA', 'IAH', 'EWR', 'DFW']\n",
            "['JAX', 'JFK', 'DTW', 'LGA', 'ORD', 'EWR', 'DFW']\n",
            "['JAX', 'JFK', 'DTW', 'LGA', 'PBI', 'EWR', 'DFW']\n",
            "['JAX', 'JFK', 'DTW', 'LGA', 'IAD', 'EWR', 'DFW']\n",
            "['JAX', 'JFK', 'DTW', 'LGA', 'MIA', 'EWR', 'DFW']\n",
            "['JAX', 'JFK', 'DTW', 'LGA', 'RDU', 'EWR', 'DFW']\n",
            "['JAX', 'JFK', 'DTW', 'LGA', 'TPA', 'EWR', 'DFW']\n",
            "['JAX', 'JFK', 'DTW', 'LGA', 'MSP', 'EWR', 'DFW']\n",
            "['JAX', 'JFK', 'DTW', 'LGA', 'MCO', 'EWR', 'DFW']\n",
            "['JAX', 'JFK', 'DTW', 'LGA', 'CVG', 'EWR', 'DFW']\n",
            "['JAX', 'JFK', 'DTW', 'LGA', 'IAH', 'EWR', 'DFW']\n",
            "['JAX', 'JFK', 'LAX', 'EWR', 'DFW']\n",
            "['JAX', 'JFK', 'FLL', 'LGA', 'ORD', 'EWR', 'DFW']\n",
            "['JAX', 'JFK', 'FLL', 'LGA', 'PBI', 'EWR', 'DFW']\n",
            "['JAX', 'JFK', 'FLL', 'LGA', 'IAD', 'EWR', 'DFW']\n",
            "['JAX', 'JFK', 'FLL', 'LGA', 'MIA', 'EWR', 'DFW']\n",
            "['JAX', 'JFK', 'FLL', 'LGA', 'RDU', 'EWR', 'DFW']\n",
            "['JAX', 'JFK', 'FLL', 'LGA', 'TPA', 'EWR', 'DFW']\n",
            "['JAX', 'JFK', 'FLL', 'LGA', 'MSP', 'EWR', 'DFW']\n",
            "['JAX', 'JFK', 'FLL', 'LGA', 'MCO', 'EWR', 'DFW']\n",
            "['JAX', 'JFK', 'FLL', 'LGA', 'CVG', 'EWR', 'DFW']\n",
            "['JAX', 'JFK', 'FLL', 'LGA', 'IAH', 'EWR', 'DFW']\n",
            "['JAX', 'JFK', 'CLT', 'LGA', 'ORD', 'EWR', 'DFW']\n",
            "['JAX', 'JFK', 'CLT', 'LGA', 'PBI', 'EWR', 'DFW']\n",
            "['JAX', 'JFK', 'CLT', 'LGA', 'IAD', 'EWR', 'DFW']\n",
            "['JAX', 'JFK', 'CLT', 'LGA', 'MIA', 'EWR', 'DFW']\n",
            "['JAX', 'JFK', 'CLT', 'LGA', 'RDU', 'EWR', 'DFW']\n",
            "['JAX', 'JFK', 'CLT', 'LGA', 'TPA', 'EWR', 'DFW']\n",
            "['JAX', 'JFK', 'CLT', 'LGA', 'MSP', 'EWR', 'DFW']\n",
            "['JAX', 'JFK', 'CLT', 'LGA', 'MCO', 'EWR', 'DFW']\n",
            "['JAX', 'JFK', 'CLT', 'LGA', 'CVG', 'EWR', 'DFW']\n",
            "['JAX', 'JFK', 'CLT', 'LGA', 'IAH', 'EWR', 'DFW']\n",
            "['JAX', 'JFK', 'PBI', 'LGA', 'ORD', 'EWR', 'DFW']\n",
            "['JAX', 'JFK', 'PBI', 'LGA', 'IAD', 'EWR', 'DFW']\n",
            "['JAX', 'JFK', 'PBI', 'LGA', 'MIA', 'EWR', 'DFW']\n",
            "['JAX', 'JFK', 'PBI', 'LGA', 'RDU', 'EWR', 'DFW']\n",
            "['JAX', 'JFK', 'PBI', 'LGA', 'TPA', 'EWR', 'DFW']\n",
            "['JAX', 'JFK', 'PBI', 'LGA', 'MSP', 'EWR', 'DFW']\n",
            "['JAX', 'JFK', 'PBI', 'LGA', 'MCO', 'EWR', 'DFW']\n",
            "['JAX', 'JFK', 'PBI', 'LGA', 'CVG', 'EWR', 'DFW']\n",
            "['JAX', 'JFK', 'PBI', 'LGA', 'IAH', 'EWR', 'DFW']\n",
            "['JAX', 'JFK', 'PBI', 'EWR', 'DFW']\n",
            "['JAX', 'JFK', 'IAD', 'LGA', 'ORD', 'EWR', 'DFW']\n",
            "['JAX', 'JFK', 'IAD', 'LGA', 'PBI', 'EWR', 'DFW']\n",
            "['JAX', 'JFK', 'IAD', 'LGA', 'MIA', 'EWR', 'DFW']\n",
            "['JAX', 'JFK', 'IAD', 'LGA', 'RDU', 'EWR', 'DFW']\n",
            "['JAX', 'JFK', 'IAD', 'LGA', 'TPA', 'EWR', 'DFW']\n",
            "['JAX', 'JFK', 'IAD', 'LGA', 'MSP', 'EWR', 'DFW']\n",
            "['JAX', 'JFK', 'IAD', 'LGA', 'MCO', 'EWR', 'DFW']\n",
            "['JAX', 'JFK', 'IAD', 'LGA', 'CVG', 'EWR', 'DFW']\n",
            "['JAX', 'JFK', 'IAD', 'LGA', 'IAH', 'EWR', 'DFW']\n",
            "['JAX', 'JFK', 'IAD', 'EWR', 'DFW']\n",
            "['JAX', 'JFK', 'BOS', 'EWR', 'DFW']\n"
          ],
          "name": "stdout"
        }
      ]
    },
    {
      "cell_type": "code",
      "metadata": {
        "id": "UbpdWVzL8Hgl",
        "colab_type": "code",
        "colab": {},
        "outputId": "656454ee-72c3-4deb-f889-5c25db9a2ad5"
      },
      "source": [
        "# Let us find the dijkstra path from JAX to DFW.\n",
        "# You can read more in-depth on how dijkstra works from this resource - https://courses.csail.mit.edu/6.006/fall11/lectures/lecture16.pdf\n",
        "dijpath = nx.dijkstra_path(FG, source='JAX', target='DFW')\n",
        "dijpath"
      ],
      "execution_count": 0,
      "outputs": [
        {
          "output_type": "execute_result",
          "data": {
            "text/plain": [
              "['JAX', 'JFK', 'SEA', 'EWR', 'DFW']"
            ]
          },
          "metadata": {
            "tags": []
          },
          "execution_count": 25
        }
      ]
    },
    {
      "cell_type": "code",
      "metadata": {
        "id": "KQDOiMVE8Hgn",
        "colab_type": "code",
        "colab": {}
      },
      "source": [
        ""
      ],
      "execution_count": 0,
      "outputs": []
    }
  ]
}
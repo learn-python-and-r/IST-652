{
  "nbformat": 4,
  "nbformat_minor": 0,
  "metadata": {
    "colab": {
      "name": "Subsetting-Pandas-Dataframes.ipynb",
      "provenance": [],
      "collapsed_sections": [],
      "authorship_tag": "ABX9TyNUH/qFE1Csnlz0WCR2oBNF",
      "include_colab_link": true
    },
    "kernelspec": {
      "name": "python3",
      "display_name": "Python 3"
    }
  },
  "cells": [
    {
      "cell_type": "markdown",
      "metadata": {
        "id": "view-in-github",
        "colab_type": "text"
      },
      "source": [
        "<a href=\"https://colab.research.google.com/github/learn-python-and-r/IST-652/blob/master/Subsetting_Pandas_Dataframes.ipynb\" target=\"_parent\"><img src=\"https://colab.research.google.com/assets/colab-badge.svg\" alt=\"Open In Colab\"/></a>"
      ]
    },
    {
      "cell_type": "code",
      "metadata": {
        "id": "C6gELz8XcKRz",
        "colab_type": "code",
        "colab": {
          "base_uri": "https://localhost:8080/",
          "height": 204
        },
        "outputId": "69616b08-4fed-46ba-f9cb-024a6be004d7"
      },
      "source": [
        "import pandas as pd\n",
        "\n",
        "url = \"https://raw.githubusercontent.com/ljanastas/Data/master/minwagedata.csv\"\n",
        "# Data is imported as a data frame structure\n",
        "\n",
        "minwagedata = pd.read_csv(url)\n",
        "minwagedata.head()"
      ],
      "execution_count": null,
      "outputs": [
        {
          "output_type": "execute_result",
          "data": {
            "text/html": [
              "<div>\n",
              "<style scoped>\n",
              "    .dataframe tbody tr th:only-of-type {\n",
              "        vertical-align: middle;\n",
              "    }\n",
              "\n",
              "    .dataframe tbody tr th {\n",
              "        vertical-align: top;\n",
              "    }\n",
              "\n",
              "    .dataframe thead th {\n",
              "        text-align: right;\n",
              "    }\n",
              "</style>\n",
              "<table border=\"1\" class=\"dataframe\">\n",
              "  <thead>\n",
              "    <tr style=\"text-align: right;\">\n",
              "      <th></th>\n",
              "      <th>Year</th>\n",
              "      <th>State</th>\n",
              "      <th>Table_Data</th>\n",
              "      <th>Footnote</th>\n",
              "      <th>High.Value</th>\n",
              "      <th>Low.Value</th>\n",
              "      <th>CPI.Average</th>\n",
              "      <th>High.2018</th>\n",
              "      <th>Low.2018</th>\n",
              "    </tr>\n",
              "  </thead>\n",
              "  <tbody>\n",
              "    <tr>\n",
              "      <th>0</th>\n",
              "      <td>1968</td>\n",
              "      <td>Alabama</td>\n",
              "      <td>...</td>\n",
              "      <td>NaN</td>\n",
              "      <td>0.00000</td>\n",
              "      <td>0.00000</td>\n",
              "      <td>34.783333</td>\n",
              "      <td>0.00</td>\n",
              "      <td>0.00</td>\n",
              "    </tr>\n",
              "    <tr>\n",
              "      <th>1</th>\n",
              "      <td>1968</td>\n",
              "      <td>Alaska</td>\n",
              "      <td>2.10</td>\n",
              "      <td>NaN</td>\n",
              "      <td>2.10000</td>\n",
              "      <td>2.10000</td>\n",
              "      <td>34.783333</td>\n",
              "      <td>15.12</td>\n",
              "      <td>15.12</td>\n",
              "    </tr>\n",
              "    <tr>\n",
              "      <th>2</th>\n",
              "      <td>1968</td>\n",
              "      <td>Arizona</td>\n",
              "      <td>18.72 - 26.40/wk(b)</td>\n",
              "      <td>(b)</td>\n",
              "      <td>0.66000</td>\n",
              "      <td>0.46800</td>\n",
              "      <td>34.783333</td>\n",
              "      <td>4.75</td>\n",
              "      <td>3.37</td>\n",
              "    </tr>\n",
              "    <tr>\n",
              "      <th>3</th>\n",
              "      <td>1968</td>\n",
              "      <td>Arkansas</td>\n",
              "      <td>1.25/day(b)</td>\n",
              "      <td>(b)</td>\n",
              "      <td>0.15625</td>\n",
              "      <td>0.15625</td>\n",
              "      <td>34.783333</td>\n",
              "      <td>1.12</td>\n",
              "      <td>1.12</td>\n",
              "    </tr>\n",
              "    <tr>\n",
              "      <th>4</th>\n",
              "      <td>1968</td>\n",
              "      <td>California</td>\n",
              "      <td>1.65(b)</td>\n",
              "      <td>(b)</td>\n",
              "      <td>1.65000</td>\n",
              "      <td>1.65000</td>\n",
              "      <td>34.783333</td>\n",
              "      <td>11.88</td>\n",
              "      <td>11.88</td>\n",
              "    </tr>\n",
              "  </tbody>\n",
              "</table>\n",
              "</div>"
            ],
            "text/plain": [
              "   Year       State           Table_Data  ... CPI.Average  High.2018  Low.2018\n",
              "0  1968     Alabama                  ...  ...   34.783333       0.00      0.00\n",
              "1  1968      Alaska                 2.10  ...   34.783333      15.12     15.12\n",
              "2  1968     Arizona  18.72 - 26.40/wk(b)  ...   34.783333       4.75      3.37\n",
              "3  1968    Arkansas          1.25/day(b)  ...   34.783333       1.12      1.12\n",
              "4  1968  California              1.65(b)  ...   34.783333      11.88     11.88\n",
              "\n",
              "[5 rows x 9 columns]"
            ]
          },
          "metadata": {
            "tags": []
          },
          "execution_count": 21
        }
      ]
    },
    {
      "cell_type": "markdown",
      "metadata": {
        "id": "zhlWZc2VIkO2",
        "colab_type": "text"
      },
      "source": [
        "# Subsetting and sorting **pandas** dataframes\n",
        "\n",
        "- It is often essential to subset and sort dataframes for a variety of reasons."
      ]
    },
    {
      "cell_type": "markdown",
      "metadata": {
        "id": "_d0vgtCAhf_a",
        "colab_type": "text"
      },
      "source": [
        "Data can be sorted with the *groupby()* function. "
      ]
    },
    {
      "cell_type": "code",
      "metadata": {
        "id": "e5Wx1xBUgax_",
        "colab_type": "code",
        "colab": {
          "base_uri": "https://localhost:8080/",
          "height": 419
        },
        "outputId": "739c583d-4db9-4d58-a4ca-4992ff581068"
      },
      "source": [
        "# Sort data by year.\n",
        "grouped = minwagedata.groupby(['Year'])\n",
        "grouped.head()"
      ],
      "execution_count": null,
      "outputs": [
        {
          "output_type": "execute_result",
          "data": {
            "text/plain": [
              "      Year       State           Table_Data Footnote  High.Value  Low.Value  \\\n",
              "0     1968     Alabama                  ...      NaN     0.00000    0.00000   \n",
              "1     1968      Alaska                 2.10      NaN     2.10000    2.10000   \n",
              "2     1968     Arizona  18.72 - 26.40/wk(b)      (b)     0.66000    0.46800   \n",
              "3     1968    Arkansas          1.25/day(b)      (b)     0.15625    0.15625   \n",
              "4     1968  California              1.65(b)      (b)     1.65000    1.65000   \n",
              "...    ...         ...                  ...      ...         ...        ...   \n",
              "2695  2017     Alabama                  ...      NaN     0.00000    0.00000   \n",
              "2696  2017      Alaska                 9.80      NaN     9.80000    9.80000   \n",
              "2697  2017     Arizona                10.00      NaN    10.00000   10.00000   \n",
              "2698  2017    Arkansas              8.50[c]      [c]     8.50000    8.50000   \n",
              "2699  2017  California                10.00      NaN    10.00000   10.00000   \n",
              "\n",
              "      CPI.Average  High.2018  Low.2018  \n",
              "0       34.783333       0.00      0.00  \n",
              "1       34.783333      15.12     15.12  \n",
              "2       34.783333       4.75      3.37  \n",
              "3       34.783333       1.12      1.12  \n",
              "4       34.783333      11.88     11.88  \n",
              "...           ...        ...       ...  \n",
              "2695   245.119583       0.00      0.00  \n",
              "2696   245.119583      10.01     10.01  \n",
              "2697   245.119583      10.22     10.22  \n",
              "2698   245.119583       8.68      8.68  \n",
              "2699   245.119583      10.22     10.22  \n",
              "\n",
              "[250 rows x 9 columns]"
            ],
            "text/html": [
              "<div>\n",
              "<style scoped>\n",
              "    .dataframe tbody tr th:only-of-type {\n",
              "        vertical-align: middle;\n",
              "    }\n",
              "\n",
              "    .dataframe tbody tr th {\n",
              "        vertical-align: top;\n",
              "    }\n",
              "\n",
              "    .dataframe thead th {\n",
              "        text-align: right;\n",
              "    }\n",
              "</style>\n",
              "<table border=\"1\" class=\"dataframe\">\n",
              "  <thead>\n",
              "    <tr style=\"text-align: right;\">\n",
              "      <th></th>\n",
              "      <th>Year</th>\n",
              "      <th>State</th>\n",
              "      <th>Table_Data</th>\n",
              "      <th>Footnote</th>\n",
              "      <th>High.Value</th>\n",
              "      <th>Low.Value</th>\n",
              "      <th>CPI.Average</th>\n",
              "      <th>High.2018</th>\n",
              "      <th>Low.2018</th>\n",
              "    </tr>\n",
              "  </thead>\n",
              "  <tbody>\n",
              "    <tr>\n",
              "      <th>0</th>\n",
              "      <td>1968</td>\n",
              "      <td>Alabama</td>\n",
              "      <td>...</td>\n",
              "      <td>NaN</td>\n",
              "      <td>0.00000</td>\n",
              "      <td>0.00000</td>\n",
              "      <td>34.783333</td>\n",
              "      <td>0.00</td>\n",
              "      <td>0.00</td>\n",
              "    </tr>\n",
              "    <tr>\n",
              "      <th>1</th>\n",
              "      <td>1968</td>\n",
              "      <td>Alaska</td>\n",
              "      <td>2.10</td>\n",
              "      <td>NaN</td>\n",
              "      <td>2.10000</td>\n",
              "      <td>2.10000</td>\n",
              "      <td>34.783333</td>\n",
              "      <td>15.12</td>\n",
              "      <td>15.12</td>\n",
              "    </tr>\n",
              "    <tr>\n",
              "      <th>2</th>\n",
              "      <td>1968</td>\n",
              "      <td>Arizona</td>\n",
              "      <td>18.72 - 26.40/wk(b)</td>\n",
              "      <td>(b)</td>\n",
              "      <td>0.66000</td>\n",
              "      <td>0.46800</td>\n",
              "      <td>34.783333</td>\n",
              "      <td>4.75</td>\n",
              "      <td>3.37</td>\n",
              "    </tr>\n",
              "    <tr>\n",
              "      <th>3</th>\n",
              "      <td>1968</td>\n",
              "      <td>Arkansas</td>\n",
              "      <td>1.25/day(b)</td>\n",
              "      <td>(b)</td>\n",
              "      <td>0.15625</td>\n",
              "      <td>0.15625</td>\n",
              "      <td>34.783333</td>\n",
              "      <td>1.12</td>\n",
              "      <td>1.12</td>\n",
              "    </tr>\n",
              "    <tr>\n",
              "      <th>4</th>\n",
              "      <td>1968</td>\n",
              "      <td>California</td>\n",
              "      <td>1.65(b)</td>\n",
              "      <td>(b)</td>\n",
              "      <td>1.65000</td>\n",
              "      <td>1.65000</td>\n",
              "      <td>34.783333</td>\n",
              "      <td>11.88</td>\n",
              "      <td>11.88</td>\n",
              "    </tr>\n",
              "    <tr>\n",
              "      <th>...</th>\n",
              "      <td>...</td>\n",
              "      <td>...</td>\n",
              "      <td>...</td>\n",
              "      <td>...</td>\n",
              "      <td>...</td>\n",
              "      <td>...</td>\n",
              "      <td>...</td>\n",
              "      <td>...</td>\n",
              "      <td>...</td>\n",
              "    </tr>\n",
              "    <tr>\n",
              "      <th>2695</th>\n",
              "      <td>2017</td>\n",
              "      <td>Alabama</td>\n",
              "      <td>...</td>\n",
              "      <td>NaN</td>\n",
              "      <td>0.00000</td>\n",
              "      <td>0.00000</td>\n",
              "      <td>245.119583</td>\n",
              "      <td>0.00</td>\n",
              "      <td>0.00</td>\n",
              "    </tr>\n",
              "    <tr>\n",
              "      <th>2696</th>\n",
              "      <td>2017</td>\n",
              "      <td>Alaska</td>\n",
              "      <td>9.80</td>\n",
              "      <td>NaN</td>\n",
              "      <td>9.80000</td>\n",
              "      <td>9.80000</td>\n",
              "      <td>245.119583</td>\n",
              "      <td>10.01</td>\n",
              "      <td>10.01</td>\n",
              "    </tr>\n",
              "    <tr>\n",
              "      <th>2697</th>\n",
              "      <td>2017</td>\n",
              "      <td>Arizona</td>\n",
              "      <td>10.00</td>\n",
              "      <td>NaN</td>\n",
              "      <td>10.00000</td>\n",
              "      <td>10.00000</td>\n",
              "      <td>245.119583</td>\n",
              "      <td>10.22</td>\n",
              "      <td>10.22</td>\n",
              "    </tr>\n",
              "    <tr>\n",
              "      <th>2698</th>\n",
              "      <td>2017</td>\n",
              "      <td>Arkansas</td>\n",
              "      <td>8.50[c]</td>\n",
              "      <td>[c]</td>\n",
              "      <td>8.50000</td>\n",
              "      <td>8.50000</td>\n",
              "      <td>245.119583</td>\n",
              "      <td>8.68</td>\n",
              "      <td>8.68</td>\n",
              "    </tr>\n",
              "    <tr>\n",
              "      <th>2699</th>\n",
              "      <td>2017</td>\n",
              "      <td>California</td>\n",
              "      <td>10.00</td>\n",
              "      <td>NaN</td>\n",
              "      <td>10.00000</td>\n",
              "      <td>10.00000</td>\n",
              "      <td>245.119583</td>\n",
              "      <td>10.22</td>\n",
              "      <td>10.22</td>\n",
              "    </tr>\n",
              "  </tbody>\n",
              "</table>\n",
              "<p>250 rows × 9 columns</p>\n",
              "</div>"
            ]
          },
          "metadata": {
            "tags": []
          },
          "execution_count": 15
        }
      ]
    },
    {
      "cell_type": "markdown",
      "metadata": {
        "id": "aiV8DisSipn-",
        "colab_type": "text"
      },
      "source": [
        "We can also collapse data and get averages over years or other quantitities by combining *groupby()* and *mean()*"
      ]
    },
    {
      "cell_type": "code",
      "metadata": {
        "id": "bwUzQLjPhy_L",
        "colab_type": "code",
        "colab": {
          "base_uri": "https://localhost:8080/",
          "height": 234
        },
        "outputId": "09bbcf23-1502-478e-c4f9-d9ac43c14389"
      },
      "source": [
        "# Collapse data and average by year\n",
        "minwagedata.groupby(['Year']).mean().head()"
      ],
      "execution_count": null,
      "outputs": [
        {
          "output_type": "execute_result",
          "data": {
            "text/plain": [
              "      High.Value  Low.Value  CPI.Average  High.2018  Low.2018\n",
              "Year                                                         \n",
              "1968    0.918819   0.842208    34.783333   6.615370  6.063889\n",
              "1969    0.918819   0.842208    36.683333   6.272037  5.749444\n",
              "1970    1.015000   0.933296    38.825000   6.545741  6.018333\n",
              "1971    1.015000   0.933296    40.491667   6.275556  5.770370\n",
              "1972    1.213148   1.124407    41.816667   7.264259  6.732778"
            ],
            "text/html": [
              "<div>\n",
              "<style scoped>\n",
              "    .dataframe tbody tr th:only-of-type {\n",
              "        vertical-align: middle;\n",
              "    }\n",
              "\n",
              "    .dataframe tbody tr th {\n",
              "        vertical-align: top;\n",
              "    }\n",
              "\n",
              "    .dataframe thead th {\n",
              "        text-align: right;\n",
              "    }\n",
              "</style>\n",
              "<table border=\"1\" class=\"dataframe\">\n",
              "  <thead>\n",
              "    <tr style=\"text-align: right;\">\n",
              "      <th></th>\n",
              "      <th>High.Value</th>\n",
              "      <th>Low.Value</th>\n",
              "      <th>CPI.Average</th>\n",
              "      <th>High.2018</th>\n",
              "      <th>Low.2018</th>\n",
              "    </tr>\n",
              "    <tr>\n",
              "      <th>Year</th>\n",
              "      <th></th>\n",
              "      <th></th>\n",
              "      <th></th>\n",
              "      <th></th>\n",
              "      <th></th>\n",
              "    </tr>\n",
              "  </thead>\n",
              "  <tbody>\n",
              "    <tr>\n",
              "      <th>1968</th>\n",
              "      <td>0.918819</td>\n",
              "      <td>0.842208</td>\n",
              "      <td>34.783333</td>\n",
              "      <td>6.615370</td>\n",
              "      <td>6.063889</td>\n",
              "    </tr>\n",
              "    <tr>\n",
              "      <th>1969</th>\n",
              "      <td>0.918819</td>\n",
              "      <td>0.842208</td>\n",
              "      <td>36.683333</td>\n",
              "      <td>6.272037</td>\n",
              "      <td>5.749444</td>\n",
              "    </tr>\n",
              "    <tr>\n",
              "      <th>1970</th>\n",
              "      <td>1.015000</td>\n",
              "      <td>0.933296</td>\n",
              "      <td>38.825000</td>\n",
              "      <td>6.545741</td>\n",
              "      <td>6.018333</td>\n",
              "    </tr>\n",
              "    <tr>\n",
              "      <th>1971</th>\n",
              "      <td>1.015000</td>\n",
              "      <td>0.933296</td>\n",
              "      <td>40.491667</td>\n",
              "      <td>6.275556</td>\n",
              "      <td>5.770370</td>\n",
              "    </tr>\n",
              "    <tr>\n",
              "      <th>1972</th>\n",
              "      <td>1.213148</td>\n",
              "      <td>1.124407</td>\n",
              "      <td>41.816667</td>\n",
              "      <td>7.264259</td>\n",
              "      <td>6.732778</td>\n",
              "    </tr>\n",
              "  </tbody>\n",
              "</table>\n",
              "</div>"
            ]
          },
          "metadata": {
            "tags": []
          },
          "execution_count": 16
        }
      ]
    },
    {
      "cell_type": "markdown",
      "metadata": {
        "id": "LeSXuQSLjBDG",
        "colab_type": "text"
      },
      "source": [
        "We can do this by state as well..."
      ]
    },
    {
      "cell_type": "code",
      "metadata": {
        "id": "EcI130w9h7nS",
        "colab_type": "code",
        "colab": {
          "base_uri": "https://localhost:8080/",
          "height": 235
        },
        "outputId": "32cc0f0a-ce0a-4f97-c086-a1975660d79d"
      },
      "source": [
        "# Collapse data and average by state\n",
        "minwagedata.groupby(['State']).mean().head()"
      ],
      "execution_count": null,
      "outputs": [
        {
          "output_type": "execute_result",
          "data": {
            "text/plain": [
              "              Year  High.Value  Low.Value  CPI.Average  High.2018  Low.2018\n",
              "State                                                                      \n",
              "Alabama     1992.5     0.00000    0.00000   138.828983     0.0000    0.0000\n",
              "Alaska      1992.5     4.98700    4.98700   138.828983     9.5838    9.5838\n",
              "Arizona     1992.5     1.80460    1.77388   138.828983     2.5006    2.3162\n",
              "Arkansas    1992.5     3.89025    3.89025   138.828983     6.7816    6.7816\n",
              "California  1992.5     4.76600    4.76600   138.828983     8.6328    8.6328"
            ],
            "text/html": [
              "<div>\n",
              "<style scoped>\n",
              "    .dataframe tbody tr th:only-of-type {\n",
              "        vertical-align: middle;\n",
              "    }\n",
              "\n",
              "    .dataframe tbody tr th {\n",
              "        vertical-align: top;\n",
              "    }\n",
              "\n",
              "    .dataframe thead th {\n",
              "        text-align: right;\n",
              "    }\n",
              "</style>\n",
              "<table border=\"1\" class=\"dataframe\">\n",
              "  <thead>\n",
              "    <tr style=\"text-align: right;\">\n",
              "      <th></th>\n",
              "      <th>Year</th>\n",
              "      <th>High.Value</th>\n",
              "      <th>Low.Value</th>\n",
              "      <th>CPI.Average</th>\n",
              "      <th>High.2018</th>\n",
              "      <th>Low.2018</th>\n",
              "    </tr>\n",
              "    <tr>\n",
              "      <th>State</th>\n",
              "      <th></th>\n",
              "      <th></th>\n",
              "      <th></th>\n",
              "      <th></th>\n",
              "      <th></th>\n",
              "      <th></th>\n",
              "    </tr>\n",
              "  </thead>\n",
              "  <tbody>\n",
              "    <tr>\n",
              "      <th>Alabama</th>\n",
              "      <td>1992.5</td>\n",
              "      <td>0.00000</td>\n",
              "      <td>0.00000</td>\n",
              "      <td>138.828983</td>\n",
              "      <td>0.0000</td>\n",
              "      <td>0.0000</td>\n",
              "    </tr>\n",
              "    <tr>\n",
              "      <th>Alaska</th>\n",
              "      <td>1992.5</td>\n",
              "      <td>4.98700</td>\n",
              "      <td>4.98700</td>\n",
              "      <td>138.828983</td>\n",
              "      <td>9.5838</td>\n",
              "      <td>9.5838</td>\n",
              "    </tr>\n",
              "    <tr>\n",
              "      <th>Arizona</th>\n",
              "      <td>1992.5</td>\n",
              "      <td>1.80460</td>\n",
              "      <td>1.77388</td>\n",
              "      <td>138.828983</td>\n",
              "      <td>2.5006</td>\n",
              "      <td>2.3162</td>\n",
              "    </tr>\n",
              "    <tr>\n",
              "      <th>Arkansas</th>\n",
              "      <td>1992.5</td>\n",
              "      <td>3.89025</td>\n",
              "      <td>3.89025</td>\n",
              "      <td>138.828983</td>\n",
              "      <td>6.7816</td>\n",
              "      <td>6.7816</td>\n",
              "    </tr>\n",
              "    <tr>\n",
              "      <th>California</th>\n",
              "      <td>1992.5</td>\n",
              "      <td>4.76600</td>\n",
              "      <td>4.76600</td>\n",
              "      <td>138.828983</td>\n",
              "      <td>8.6328</td>\n",
              "      <td>8.6328</td>\n",
              "    </tr>\n",
              "  </tbody>\n",
              "</table>\n",
              "</div>"
            ]
          },
          "metadata": {
            "tags": []
          },
          "execution_count": 17
        }
      ]
    },
    {
      "cell_type": "markdown",
      "metadata": {
        "id": "Q6CFOabuisdn",
        "colab_type": "text"
      },
      "source": [
        "## Indexing **pandas** Dataframes\n",
        "\n",
        "- Dataframes in Pandas are indexed similar to dataframes in **R**. "
      ]
    },
    {
      "cell_type": "markdown",
      "metadata": {
        "id": "6u15DH6QjwVn",
        "colab_type": "text"
      },
      "source": [
        "We can get the first four rows by indexing as a list..."
      ]
    },
    {
      "cell_type": "code",
      "metadata": {
        "id": "DF-Qta-IiqC1",
        "colab_type": "code",
        "colab": {
          "base_uri": "https://localhost:8080/",
          "height": 173
        },
        "outputId": "9508d6d5-c1a2-42ef-cb23-113eb0458d5c"
      },
      "source": [
        "# Get rows 1 to 4 and save into a new dataframe\n",
        "firstfour = minwagedata[0:4]\n",
        "firstfour"
      ],
      "execution_count": null,
      "outputs": [
        {
          "output_type": "execute_result",
          "data": {
            "text/plain": [
              "   Year     State           Table_Data Footnote  High.Value  Low.Value  \\\n",
              "0  1968   Alabama                  ...      NaN     0.00000    0.00000   \n",
              "1  1968    Alaska                 2.10      NaN     2.10000    2.10000   \n",
              "2  1968   Arizona  18.72 - 26.40/wk(b)      (b)     0.66000    0.46800   \n",
              "3  1968  Arkansas          1.25/day(b)      (b)     0.15625    0.15625   \n",
              "\n",
              "   CPI.Average  High.2018  Low.2018  \n",
              "0    34.783333       0.00      0.00  \n",
              "1    34.783333      15.12     15.12  \n",
              "2    34.783333       4.75      3.37  \n",
              "3    34.783333       1.12      1.12  "
            ],
            "text/html": [
              "<div>\n",
              "<style scoped>\n",
              "    .dataframe tbody tr th:only-of-type {\n",
              "        vertical-align: middle;\n",
              "    }\n",
              "\n",
              "    .dataframe tbody tr th {\n",
              "        vertical-align: top;\n",
              "    }\n",
              "\n",
              "    .dataframe thead th {\n",
              "        text-align: right;\n",
              "    }\n",
              "</style>\n",
              "<table border=\"1\" class=\"dataframe\">\n",
              "  <thead>\n",
              "    <tr style=\"text-align: right;\">\n",
              "      <th></th>\n",
              "      <th>Year</th>\n",
              "      <th>State</th>\n",
              "      <th>Table_Data</th>\n",
              "      <th>Footnote</th>\n",
              "      <th>High.Value</th>\n",
              "      <th>Low.Value</th>\n",
              "      <th>CPI.Average</th>\n",
              "      <th>High.2018</th>\n",
              "      <th>Low.2018</th>\n",
              "    </tr>\n",
              "  </thead>\n",
              "  <tbody>\n",
              "    <tr>\n",
              "      <th>0</th>\n",
              "      <td>1968</td>\n",
              "      <td>Alabama</td>\n",
              "      <td>...</td>\n",
              "      <td>NaN</td>\n",
              "      <td>0.00000</td>\n",
              "      <td>0.00000</td>\n",
              "      <td>34.783333</td>\n",
              "      <td>0.00</td>\n",
              "      <td>0.00</td>\n",
              "    </tr>\n",
              "    <tr>\n",
              "      <th>1</th>\n",
              "      <td>1968</td>\n",
              "      <td>Alaska</td>\n",
              "      <td>2.10</td>\n",
              "      <td>NaN</td>\n",
              "      <td>2.10000</td>\n",
              "      <td>2.10000</td>\n",
              "      <td>34.783333</td>\n",
              "      <td>15.12</td>\n",
              "      <td>15.12</td>\n",
              "    </tr>\n",
              "    <tr>\n",
              "      <th>2</th>\n",
              "      <td>1968</td>\n",
              "      <td>Arizona</td>\n",
              "      <td>18.72 - 26.40/wk(b)</td>\n",
              "      <td>(b)</td>\n",
              "      <td>0.66000</td>\n",
              "      <td>0.46800</td>\n",
              "      <td>34.783333</td>\n",
              "      <td>4.75</td>\n",
              "      <td>3.37</td>\n",
              "    </tr>\n",
              "    <tr>\n",
              "      <th>3</th>\n",
              "      <td>1968</td>\n",
              "      <td>Arkansas</td>\n",
              "      <td>1.25/day(b)</td>\n",
              "      <td>(b)</td>\n",
              "      <td>0.15625</td>\n",
              "      <td>0.15625</td>\n",
              "      <td>34.783333</td>\n",
              "      <td>1.12</td>\n",
              "      <td>1.12</td>\n",
              "    </tr>\n",
              "  </tbody>\n",
              "</table>\n",
              "</div>"
            ]
          },
          "metadata": {
            "tags": []
          },
          "execution_count": 18
        }
      ]
    },
    {
      "cell_type": "markdown",
      "metadata": {
        "id": "x0iR_xuI79HW",
        "colab_type": "text"
      },
      "source": [
        "## Advanced indexing with *loc* and *iloc* functions\n",
        "\n",
        "- *loc* and *iloc* can be used to reference **pandas** dataframes as matrices.\n",
        "\n",
        "- More documention on this can be found here: https://pandas.pydata.org/pandas-docs/stable/user_guide/indexing.html\n"
      ]
    },
    {
      "cell_type": "markdown",
      "metadata": {
        "id": "dfp1SCAcnuzZ",
        "colab_type": "text"
      },
      "source": [
        "### Indexing with *loc*"
      ]
    },
    {
      "cell_type": "markdown",
      "metadata": {
        "id": "x9GzVBJinB3k",
        "colab_type": "text"
      },
      "source": [
        "Here we subset the data to include only data after 1970 for:\n",
        "- State\n",
        "- Year\n",
        "- High.2018\n",
        "- Low.2018\n"
      ]
    },
    {
      "cell_type": "code",
      "metadata": {
        "id": "XdbmF1xQjmGo",
        "colab_type": "code",
        "colab": {
          "base_uri": "https://localhost:8080/",
          "height": 204
        },
        "outputId": "aeddfd65-fbbb-48eb-a4a0-ce3179294419"
      },
      "source": [
        "# Subset the data by only observations after 1970 with the state, the high and low minimum wage in 2018 dollars\n",
        "variables = ['State','Year','High.2018','Low.2018']\n",
        "\n",
        "subsetdata = minwagedata.loc[minwagedata['Year']>1970,variables] # dataframe.loc[row subset, column subset]\n",
        "\n",
        "subsetdata.head()"
      ],
      "execution_count": null,
      "outputs": [
        {
          "output_type": "execute_result",
          "data": {
            "text/plain": [
              "          State  Year  High.2018  Low.2018\n",
              "165     Alabama  1971       0.00      0.00\n",
              "166      Alaska  1971      12.99     12.99\n",
              "167     Arizona  1971       4.08      2.89\n",
              "168    Arkansas  1971       6.80      6.80\n",
              "169  California  1971      10.20     10.20"
            ],
            "text/html": [
              "<div>\n",
              "<style scoped>\n",
              "    .dataframe tbody tr th:only-of-type {\n",
              "        vertical-align: middle;\n",
              "    }\n",
              "\n",
              "    .dataframe tbody tr th {\n",
              "        vertical-align: top;\n",
              "    }\n",
              "\n",
              "    .dataframe thead th {\n",
              "        text-align: right;\n",
              "    }\n",
              "</style>\n",
              "<table border=\"1\" class=\"dataframe\">\n",
              "  <thead>\n",
              "    <tr style=\"text-align: right;\">\n",
              "      <th></th>\n",
              "      <th>State</th>\n",
              "      <th>Year</th>\n",
              "      <th>High.2018</th>\n",
              "      <th>Low.2018</th>\n",
              "    </tr>\n",
              "  </thead>\n",
              "  <tbody>\n",
              "    <tr>\n",
              "      <th>165</th>\n",
              "      <td>Alabama</td>\n",
              "      <td>1971</td>\n",
              "      <td>0.00</td>\n",
              "      <td>0.00</td>\n",
              "    </tr>\n",
              "    <tr>\n",
              "      <th>166</th>\n",
              "      <td>Alaska</td>\n",
              "      <td>1971</td>\n",
              "      <td>12.99</td>\n",
              "      <td>12.99</td>\n",
              "    </tr>\n",
              "    <tr>\n",
              "      <th>167</th>\n",
              "      <td>Arizona</td>\n",
              "      <td>1971</td>\n",
              "      <td>4.08</td>\n",
              "      <td>2.89</td>\n",
              "    </tr>\n",
              "    <tr>\n",
              "      <th>168</th>\n",
              "      <td>Arkansas</td>\n",
              "      <td>1971</td>\n",
              "      <td>6.80</td>\n",
              "      <td>6.80</td>\n",
              "    </tr>\n",
              "    <tr>\n",
              "      <th>169</th>\n",
              "      <td>California</td>\n",
              "      <td>1971</td>\n",
              "      <td>10.20</td>\n",
              "      <td>10.20</td>\n",
              "    </tr>\n",
              "  </tbody>\n",
              "</table>\n",
              "</div>"
            ]
          },
          "metadata": {
            "tags": []
          },
          "execution_count": 19
        }
      ]
    },
    {
      "cell_type": "markdown",
      "metadata": {
        "id": "YpgrXVORnMMG",
        "colab_type": "text"
      },
      "source": [
        "Here we subset the data to include only data in Georgia for:\n",
        "\n",
        "- State\n",
        "- Year\n",
        "- High.2018\n",
        "- Low.2018\n"
      ]
    },
    {
      "cell_type": "code",
      "metadata": {
        "id": "A-AN922TOA3B",
        "colab_type": "code",
        "colab": {
          "base_uri": "https://localhost:8080/",
          "height": 203
        },
        "outputId": "4b0d641b-b7bd-483f-ec3d-ab4d1b0b156b"
      },
      "source": [
        "# Save a dataset that only has data from Georgia\n",
        "variables = ['State','Year','High.2018','Low.2018']\n",
        "georgiadata = minwagedata.loc[minwagedata['State']=='Georgia',variables]\n",
        "georgiadata.head()"
      ],
      "execution_count": null,
      "outputs": [
        {
          "output_type": "execute_result",
          "data": {
            "text/plain": [
              "       State  Year  High.2018  Low.2018\n",
              "11   Georgia  1968       0.00      0.00\n",
              "66   Georgia  1969       0.00      0.00\n",
              "121  Georgia  1970       0.00      0.00\n",
              "176  Georgia  1971       0.00      0.00\n",
              "231  Georgia  1972       7.49      7.49"
            ],
            "text/html": [
              "<div>\n",
              "<style scoped>\n",
              "    .dataframe tbody tr th:only-of-type {\n",
              "        vertical-align: middle;\n",
              "    }\n",
              "\n",
              "    .dataframe tbody tr th {\n",
              "        vertical-align: top;\n",
              "    }\n",
              "\n",
              "    .dataframe thead th {\n",
              "        text-align: right;\n",
              "    }\n",
              "</style>\n",
              "<table border=\"1\" class=\"dataframe\">\n",
              "  <thead>\n",
              "    <tr style=\"text-align: right;\">\n",
              "      <th></th>\n",
              "      <th>State</th>\n",
              "      <th>Year</th>\n",
              "      <th>High.2018</th>\n",
              "      <th>Low.2018</th>\n",
              "    </tr>\n",
              "  </thead>\n",
              "  <tbody>\n",
              "    <tr>\n",
              "      <th>11</th>\n",
              "      <td>Georgia</td>\n",
              "      <td>1968</td>\n",
              "      <td>0.00</td>\n",
              "      <td>0.00</td>\n",
              "    </tr>\n",
              "    <tr>\n",
              "      <th>66</th>\n",
              "      <td>Georgia</td>\n",
              "      <td>1969</td>\n",
              "      <td>0.00</td>\n",
              "      <td>0.00</td>\n",
              "    </tr>\n",
              "    <tr>\n",
              "      <th>121</th>\n",
              "      <td>Georgia</td>\n",
              "      <td>1970</td>\n",
              "      <td>0.00</td>\n",
              "      <td>0.00</td>\n",
              "    </tr>\n",
              "    <tr>\n",
              "      <th>176</th>\n",
              "      <td>Georgia</td>\n",
              "      <td>1971</td>\n",
              "      <td>0.00</td>\n",
              "      <td>0.00</td>\n",
              "    </tr>\n",
              "    <tr>\n",
              "      <th>231</th>\n",
              "      <td>Georgia</td>\n",
              "      <td>1972</td>\n",
              "      <td>7.49</td>\n",
              "      <td>7.49</td>\n",
              "    </tr>\n",
              "  </tbody>\n",
              "</table>\n",
              "</div>"
            ]
          },
          "metadata": {
            "tags": []
          },
          "execution_count": 20
        }
      ]
    },
    {
      "cell_type": "markdown",
      "metadata": {
        "id": "L4ibn30MnedQ",
        "colab_type": "text"
      },
      "source": [
        "Here we subset the data to include only data in Georgia after 1970 for:\n",
        "\n",
        "- State\n",
        "- Year\n",
        "- High.2018\n",
        "- Low.2018\n"
      ]
    },
    {
      "cell_type": "code",
      "metadata": {
        "id": "Lj_u0oIyOjLe",
        "colab_type": "code",
        "colab": {
          "base_uri": "https://localhost:8080/",
          "height": 203
        },
        "outputId": "c3641e66-67ee-4909-bbcc-1fe84bbc788b"
      },
      "source": [
        "# Save a dataset that only has data from Georgia when \"High.Value\" is more than 0\n",
        "variables = ['State','Year','High.2018','Low.2018']\n",
        "georgiadata = minwagedata.loc[(minwagedata['State']=='Georgia')&(minwagedata['Year']>1970),variables]\n",
        "georgiadata.head()"
      ],
      "execution_count": null,
      "outputs": [
        {
          "output_type": "execute_result",
          "data": {
            "text/plain": [
              "       State  Year  High.2018  Low.2018\n",
              "176  Georgia  1971       0.00      0.00\n",
              "231  Georgia  1972       7.49      7.49\n",
              "286  Georgia  1973       7.05      7.05\n",
              "341  Georgia  1974       6.35      6.35\n",
              "396  Georgia  1975       5.82      5.82"
            ],
            "text/html": [
              "<div>\n",
              "<style scoped>\n",
              "    .dataframe tbody tr th:only-of-type {\n",
              "        vertical-align: middle;\n",
              "    }\n",
              "\n",
              "    .dataframe tbody tr th {\n",
              "        vertical-align: top;\n",
              "    }\n",
              "\n",
              "    .dataframe thead th {\n",
              "        text-align: right;\n",
              "    }\n",
              "</style>\n",
              "<table border=\"1\" class=\"dataframe\">\n",
              "  <thead>\n",
              "    <tr style=\"text-align: right;\">\n",
              "      <th></th>\n",
              "      <th>State</th>\n",
              "      <th>Year</th>\n",
              "      <th>High.2018</th>\n",
              "      <th>Low.2018</th>\n",
              "    </tr>\n",
              "  </thead>\n",
              "  <tbody>\n",
              "    <tr>\n",
              "      <th>176</th>\n",
              "      <td>Georgia</td>\n",
              "      <td>1971</td>\n",
              "      <td>0.00</td>\n",
              "      <td>0.00</td>\n",
              "    </tr>\n",
              "    <tr>\n",
              "      <th>231</th>\n",
              "      <td>Georgia</td>\n",
              "      <td>1972</td>\n",
              "      <td>7.49</td>\n",
              "      <td>7.49</td>\n",
              "    </tr>\n",
              "    <tr>\n",
              "      <th>286</th>\n",
              "      <td>Georgia</td>\n",
              "      <td>1973</td>\n",
              "      <td>7.05</td>\n",
              "      <td>7.05</td>\n",
              "    </tr>\n",
              "    <tr>\n",
              "      <th>341</th>\n",
              "      <td>Georgia</td>\n",
              "      <td>1974</td>\n",
              "      <td>6.35</td>\n",
              "      <td>6.35</td>\n",
              "    </tr>\n",
              "    <tr>\n",
              "      <th>396</th>\n",
              "      <td>Georgia</td>\n",
              "      <td>1975</td>\n",
              "      <td>5.82</td>\n",
              "      <td>5.82</td>\n",
              "    </tr>\n",
              "  </tbody>\n",
              "</table>\n",
              "</div>"
            ]
          },
          "metadata": {
            "tags": []
          },
          "execution_count": 21
        }
      ]
    },
    {
      "cell_type": "markdown",
      "metadata": {
        "id": "eU9DgpDnn0h2",
        "colab_type": "text"
      },
      "source": [
        "### Indexing with *iloc*\n",
        "\n",
        "- *iloc* allows us to choose specific numerical rows and columns. "
      ]
    },
    {
      "cell_type": "markdown",
      "metadata": {
        "id": "Rs1QQ8s2oIev",
        "colab_type": "text"
      },
      "source": [
        "Create a subset with the 1st 10 observations from column 3"
      ]
    },
    {
      "cell_type": "code",
      "metadata": {
        "id": "Jbn2Rx_c9Ey_",
        "colab_type": "code",
        "colab": {
          "base_uri": "https://localhost:8080/",
          "height": 203
        },
        "outputId": "59ff203e-b132-4094-b852-552ea4f4a558"
      },
      "source": [
        "# Get the 1st 10 observations from columns 3 and 4\n",
        "subsetdata = minwagedata.iloc[0:10,3:5]\n",
        "subsetdata.head()"
      ],
      "execution_count": null,
      "outputs": [
        {
          "output_type": "execute_result",
          "data": {
            "text/plain": [
              "  Footnote  High.Value\n",
              "0      NaN     0.00000\n",
              "1      NaN     2.10000\n",
              "2      (b)     0.66000\n",
              "3      (b)     0.15625\n",
              "4      (b)     1.65000"
            ],
            "text/html": [
              "<div>\n",
              "<style scoped>\n",
              "    .dataframe tbody tr th:only-of-type {\n",
              "        vertical-align: middle;\n",
              "    }\n",
              "\n",
              "    .dataframe tbody tr th {\n",
              "        vertical-align: top;\n",
              "    }\n",
              "\n",
              "    .dataframe thead th {\n",
              "        text-align: right;\n",
              "    }\n",
              "</style>\n",
              "<table border=\"1\" class=\"dataframe\">\n",
              "  <thead>\n",
              "    <tr style=\"text-align: right;\">\n",
              "      <th></th>\n",
              "      <th>Footnote</th>\n",
              "      <th>High.Value</th>\n",
              "    </tr>\n",
              "  </thead>\n",
              "  <tbody>\n",
              "    <tr>\n",
              "      <th>0</th>\n",
              "      <td>NaN</td>\n",
              "      <td>0.00000</td>\n",
              "    </tr>\n",
              "    <tr>\n",
              "      <th>1</th>\n",
              "      <td>NaN</td>\n",
              "      <td>2.10000</td>\n",
              "    </tr>\n",
              "    <tr>\n",
              "      <th>2</th>\n",
              "      <td>(b)</td>\n",
              "      <td>0.66000</td>\n",
              "    </tr>\n",
              "    <tr>\n",
              "      <th>3</th>\n",
              "      <td>(b)</td>\n",
              "      <td>0.15625</td>\n",
              "    </tr>\n",
              "    <tr>\n",
              "      <th>4</th>\n",
              "      <td>(b)</td>\n",
              "      <td>1.65000</td>\n",
              "    </tr>\n",
              "  </tbody>\n",
              "</table>\n",
              "</div>"
            ]
          },
          "metadata": {
            "tags": []
          },
          "execution_count": 37
        }
      ]
    }
  ]
}
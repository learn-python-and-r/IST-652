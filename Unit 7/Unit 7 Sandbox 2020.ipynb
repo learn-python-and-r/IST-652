{
 "cells": [
  {
   "cell_type": "markdown",
   "metadata": {},
   "source": [
    "# Getting Started with MongoDB\n",
    "\n",
    "Steps:\n",
    "1. Install MongoDB here: https://docs.mongodb.com/manual/tutorial/install-mongodb-on-os-x/\n",
    "\n",
    "\n",
    "2. Install pymongo here: https://api.mongodb.com/python/current/installation.html\n",
    "\n",
    "3. Now you can use the pymongo package."
   ]
  },
  {
   "cell_type": "code",
   "execution_count": 7,
   "metadata": {},
   "outputs": [
    {
     "name": "stdout",
     "output_type": "stream",
     "text": [
      "['admin', 'config', 'local', 'peopledb']\n"
     ]
    }
   ],
   "source": [
    "from pymongo import MongoClient\n",
    "\n",
    "client =  MongoClient('localhost',27017)\n",
    "\n",
    "# Show existing databases\n",
    "print(client.list_database_names())"
   ]
  },
  {
   "cell_type": "markdown",
   "metadata": {},
   "source": [
    "## Getting Started with Mongo DB (courtesy of John Green)\n",
    "\n",
    "- review mongoDB tutorial\n",
    "- discuss code (courtesy of John)"
   ]
  },
  {
   "cell_type": "code",
   "execution_count": 5,
   "metadata": {},
   "outputs": [
    {
     "name": "stdout",
     "output_type": "stream",
     "text": [
      "['admin', 'config', 'local', 'peopledb']\n",
      "['people']\n",
      "<class 'pymongo.collection.Collection'>\n",
      "{'_id': ObjectId('5f3b04d49a6fddf828c794df'), 'name': 'Briana Day', 'age': 19, 'position': 'Center'}\n",
      "{'_id': ObjectId('5f3b04d49a6fddf828c794e1'), 'name': 'Gabby Cooper', 'age': 18, 'position': 'Guard'}\n",
      "{'_id': ObjectId('5f3b0b4e9a6fddf828c794e5'), 'name': 'Briana Day', 'age': 19, 'position': 'Center'}\n",
      "{'_id': ObjectId('5f3b0b4e9a6fddf828c794e7'), 'name': 'Gabby Cooper', 'age': 18, 'position': 'Guard'}\n"
     ]
    }
   ],
   "source": [
    "import pymongo\n",
    "from pymongo import MongoClient\n",
    "client = MongoClient('localhost', 27017)\n",
    "print(client.list_database_names())\n",
    "\n",
    "db = client.peopledb\n",
    "peoplecoll = db.people\n",
    "\n",
    "print(db.list_collection_names())\n",
    "print(type(peoplecoll))\n",
    "\n",
    "peoplelist = [{ \"name\": \"Britney Sykes\", \"age\": 21 , 'position':'Guard'}, { \"name\": \"Briana Day\", \"age\": 19, 'position':'Center'}, { \"name\": \"Alexis Peterson\", \"age\": 21, 'position':'Guard' }, { \"name\": \"Gabby Cooper\", \"age\": 18, 'position':'Guard'}]\n",
    "peoplecoll.insert_many(peoplelist[:])\n",
    "\n",
    "docs = peoplecoll.find()\n",
    "for doc in docs:\n",
    "    if (doc['age'] < int(20)):\n",
    "        print(doc)"
   ]
  },
  {
   "cell_type": "markdown",
   "metadata": {},
   "source": [
    "## Getting Started with Mongo DB (courtesy of Katherine Hanks)\n",
    "\n",
    "- review mongoDB tutorial\n",
    "- discuss code (courtesy of John)"
   ]
  },
  {
   "cell_type": "code",
   "execution_count": 8,
   "metadata": {},
   "outputs": [
    {
     "name": "stdout",
     "output_type": "stream",
     "text": [
      "{'_id': ObjectId('5f3b04d49a6fddf828c794de'), 'name': 'Britney Sykes', 'age': 21, 'position': 'Guard'}\n",
      "{'_id': ObjectId('5f3b04d49a6fddf828c794df'), 'name': 'Briana Day', 'age': 19, 'position': 'Center'}\n",
      "{'_id': ObjectId('5f3b04d49a6fddf828c794e0'), 'name': 'Alexis Peterson', 'age': 21, 'position': 'Guard'}\n",
      "{'_id': ObjectId('5f3b04d49a6fddf828c794e1'), 'name': 'Gabby Cooper', 'age': 18, 'position': 'Guard'}\n",
      "{'_id': ObjectId('5f3b0b4e9a6fddf828c794e4'), 'name': 'Britney Sykes', 'age': 21, 'position': 'Guard'}\n",
      "{'_id': ObjectId('5f3b0b4e9a6fddf828c794e5'), 'name': 'Briana Day', 'age': 19, 'position': 'Center'}\n",
      "{'_id': ObjectId('5f3b0b4e9a6fddf828c794e6'), 'name': 'Alexis Peterson', 'age': 21, 'position': 'Guard'}\n",
      "{'_id': ObjectId('5f3b0b4e9a6fddf828c794e7'), 'name': 'Gabby Cooper', 'age': 18, 'position': 'Guard'}\n",
      "{'_id': ObjectId('5f3b0e419a6fddf828c794eb'), 'name': 'John Smith', 'age': 30}\n",
      "{'_id': ObjectId('5f3b0e419a6fddf828c794ec'), 'name': 'BoBennett', 'age': 23}\n",
      "{'_id': ObjectId('5f3b0e419a6fddf828c794ed'), 'name': 'Anna Jones', 'age': 25}\n",
      "{'_id': ObjectId('5f3b04d49a6fddf828c794de'), 'name': 'Britney Sykes', 'age': 21, 'position': 'Guard'}\n",
      "{'_id': ObjectId('5f3b04d49a6fddf828c794df'), 'name': 'Briana Day', 'age': 19, 'position': 'Center'}\n",
      "{'_id': ObjectId('5f3b04d49a6fddf828c794e0'), 'name': 'Alexis Peterson', 'age': 21, 'position': 'Guard'}\n",
      "{'_id': ObjectId('5f3b04d49a6fddf828c794e1'), 'name': 'Gabby Cooper', 'age': 18, 'position': 'Guard'}\n",
      "{'_id': ObjectId('5f3b0b4e9a6fddf828c794e4'), 'name': 'Britney Sykes', 'age': 21, 'position': 'Guard'}\n",
      "{'_id': ObjectId('5f3b0b4e9a6fddf828c794e5'), 'name': 'Briana Day', 'age': 19, 'position': 'Center'}\n",
      "{'_id': ObjectId('5f3b0b4e9a6fddf828c794e6'), 'name': 'Alexis Peterson', 'age': 21, 'position': 'Guard'}\n",
      "{'_id': ObjectId('5f3b0b4e9a6fddf828c794e7'), 'name': 'Gabby Cooper', 'age': 18, 'position': 'Guard'}\n",
      "{'_id': ObjectId('5f3b0e419a6fddf828c794eb'), 'name': 'John Smith', 'age': 30}\n",
      "{'_id': ObjectId('5f3b0e419a6fddf828c794ec'), 'name': 'BoBennett', 'age': 23}\n",
      "{'_id': ObjectId('5f3b0e419a6fddf828c794ed'), 'name': 'Anna Jones', 'age': 25}\n",
      "{'_id': ObjectId('5f3b0e419a6fddf828c794ed'), 'name': 'Anna Jones', 'age': 25}\n",
      "{'_id': ObjectId('5f3b04d49a6fddf828c794df'), 'name': 'Briana Day', 'age': 19, 'position': 'Center'}\n",
      "{'_id': ObjectId('5f3b04d49a6fddf828c794e1'), 'name': 'Gabby Cooper', 'age': 18, 'position': 'Guard'}\n",
      "{'_id': ObjectId('5f3b0b4e9a6fddf828c794e5'), 'name': 'Briana Day', 'age': 19, 'position': 'Center'}\n",
      "{'_id': ObjectId('5f3b0b4e9a6fddf828c794e7'), 'name': 'Gabby Cooper', 'age': 18, 'position': 'Guard'}\n"
     ]
    }
   ],
   "source": [
    "import pymongo\n",
    "import json\n",
    "from pymongo import MongoClient\n",
    "client = MongoClient('localhost', 27017)\n",
    "client.list_database_names()\n",
    "db = client.peopledb\n",
    "db.list_collection_names()\n",
    "#create a collection\n",
    "peoplecoll = db.people\n",
    "type(peoplecoll)\n",
    "# list of dictionaries to be used as documents in the collection\n",
    "peoplelist = [{ \"name\": \"John Smith\", \"age\": 30 }, { \"name\": \"BoBennett\", \"age\": 23 }, { \"name\": \"Anna Jones\", \"age\": 25 }]\n",
    "#insert one doc\n",
    "peoplecoll.insert_one({'name':'John Smith', 'age':30})\n",
    "peoplecoll.insert_many(peoplelist[1:])\n",
    "docs = peoplecoll.find()\n",
    "type(docs)\n",
    "for doc in docs:\n",
    "    print(doc)\n",
    "morepeoplelist = [{ \"name\": \"Britney Sykes\", \"age\": 21 ,'position':'Guard'}, { \"name\": \"Briana Day\", \"age\": 21,'position':'Center'}, { \"name\": \"Alexis Peterson\", \"age\": 21,'position':'Guard' }, { \"name\": \"Gabby Cooper\", \"age\": 18,'position':'Guard'}]\n",
    "docs = peoplecoll.find()\n",
    "for doc in docs:\n",
    "    print(doc)\n",
    "#mongodb query\n",
    "peoplecoll.find_one()\n",
    "result = peoplecoll.find_one({'name':'Anna Jones'})\n",
    "print(result)\n",
    "#more than one result\n",
    "results = peoplecoll.find({'age': {'$lt': 20}})\n",
    "for result in results:\n",
    "    print(result)\n",
    "#{'_id': ObjectId('5f37e196c5959bde3923c70e'), 'name': 'Gabby Cooper', 'age': 18, 'position': 'Guard'}"
   ]
  },
  {
   "cell_type": "markdown",
   "metadata": {},
   "source": [
    "# JSON Example "
   ]
  },
  {
   "cell_type": "code",
   "execution_count": 9,
   "metadata": {},
   "outputs": [
    {
     "data": {
      "text/plain": [
       "dict_keys(['type', 'metadata', 'features', 'bbox'])"
      ]
     },
     "execution_count": 9,
     "metadata": {},
     "output_type": "execute_result"
    }
   ],
   "source": [
    "import urllib.request\n",
    "import json\n",
    "\n",
    "earthquake_url =\"http://earthquake.usgs.gov/earthquakes/feed/v1.0/summary/significant_month.geojson\"\n",
    "\n",
    "response = urllib.request.urlopen(earthquake_url)\n",
    "\n",
    "json_string = response.read().decode('utf-8')\n",
    "\n",
    "eq_parsed_json = json.loads(json_string)\n",
    "\n",
    "type(eq_parsed_json)\n",
    "\n",
    "eq_parsed_json.keys() # Lists the keys at the top level"
   ]
  },
  {
   "cell_type": "code",
   "execution_count": 15,
   "metadata": {},
   "outputs": [
    {
     "data": {
      "text/plain": [
       "{'api': '1.10.3',\n",
       " 'count': 12,\n",
       " 'generated': 1597706836000,\n",
       " 'status': 200,\n",
       " 'title': 'USGS Significant Earthquakes, Past Month',\n",
       " 'url': 'https://earthquake.usgs.gov/earthquakes/feed/v1.0/summary/significant_month.geojson'}"
      ]
     },
     "execution_count": 15,
     "metadata": {},
     "output_type": "execute_result"
    }
   ],
   "source": [
    "#eq_parsed_json['type']\n",
    "\n",
    "eq_parsed_json['metadata']\n",
    "\n",
    "#title = eq_parsed_json['metadata']['title']\n",
    "\n",
    "#title\n"
   ]
  },
  {
   "cell_type": "code",
   "execution_count": 19,
   "metadata": {},
   "outputs": [
    {
     "data": {
      "text/plain": [
       "[5.11, 6, 5.1, 4.8, 6.3, 6.4, 6.4, 3.81, 4.17, 6.4, 6.3, 7.8]"
      ]
     },
     "execution_count": 19,
     "metadata": {},
     "output_type": "execute_result"
    }
   ],
   "source": [
    "quakelist = eq_parsed_json['features']\n",
    "quakelist\n",
    "\n",
    "len(quakelist)\n",
    "\n",
    "mags = []\n",
    "# Create a list of the earthquake magnitudes\n",
    "for quake in quakelist:\n",
    "    mags.append(quake['properties']['mag'])\n",
    "\n",
    "mags"
   ]
  },
  {
   "cell_type": "code",
   "execution_count": 20,
   "metadata": {},
   "outputs": [
    {
     "data": {
      "text/plain": [
       "{'geometry': {'coordinates': [-115.6613333, 31.5366667, 16.22],\n",
       "  'type': 'Point'},\n",
       " 'id': 'ci39347679',\n",
       " 'properties': {'alert': 'green',\n",
       "  'cdi': 4.3,\n",
       "  'code': '39347679',\n",
       "  'detail': 'https://earthquake.usgs.gov/earthquakes/feed/v1.0/detail/ci39347679.geojson',\n",
       "  'dmin': 0.5267,\n",
       "  'felt': 1432,\n",
       "  'gap': 231,\n",
       "  'ids': ',us6000bfz8,ci39347679,at00qf7sez,',\n",
       "  'mag': 5.11,\n",
       "  'magType': 'mw',\n",
       "  'mmi': 6.67,\n",
       "  'net': 'ci',\n",
       "  'nst': 42,\n",
       "  'place': '88km ESE of Maneadero, B.C., MX',\n",
       "  'rms': 0.34,\n",
       "  'sig': 832,\n",
       "  'sources': ',us,ci,at,',\n",
       "  'status': 'reviewed',\n",
       "  'time': 1597678233530,\n",
       "  'title': 'M 5.1 - 88km ESE of Maneadero, B.C., MX',\n",
       "  'tsunami': 1,\n",
       "  'type': 'earthquake',\n",
       "  'types': ',dyfi,impact-link,losspager,moment-tensor,nearby-cities,origin,phase-data,scitech-link,shakemap,',\n",
       "  'tz': None,\n",
       "  'updated': 1597706607429,\n",
       "  'url': 'https://earthquake.usgs.gov/earthquakes/eventpage/ci39347679'},\n",
       " 'type': 'Feature'}"
      ]
     },
     "execution_count": 20,
     "metadata": {},
     "output_type": "execute_result"
    }
   ],
   "source": [
    "quakelist[0]"
   ]
  },
  {
   "cell_type": "code",
   "execution_count": 22,
   "metadata": {},
   "outputs": [
    {
     "name": "stdout",
     "output_type": "stream",
     "text": [
      "88km ESE of Maneadero, B.C., MX\n",
      "66 km ESE of Vikindu, Tanzania\n",
      "4 km SE of Sparta, North Carolina\n",
      "2 km SSE of Magas Arriba, Puerto Rico\n",
      "Prince Edward Islands region\n",
      "71 km E of Lakatoro, Vanuatu\n",
      "11 km SE of Litayan, Philippines\n",
      "1km NNE of San Fernando, CA\n",
      "1km SE of Sylmar, CA\n",
      "South Sandwich Islands region\n",
      "western Xizang\n",
      "105 km SSE of Perryville, Alaska\n"
     ]
    },
    {
     "data": {
      "text/plain": [
       "['88km ESE of Maneadero, B.C., MX',\n",
       " '66 km ESE of Vikindu, Tanzania',\n",
       " '4 km SE of Sparta, North Carolina',\n",
       " '2 km SSE of Magas Arriba, Puerto Rico',\n",
       " 'Prince Edward Islands region',\n",
       " '71 km E of Lakatoro, Vanuatu',\n",
       " '11 km SE of Litayan, Philippines',\n",
       " '1km NNE of San Fernando, CA',\n",
       " '1km SE of Sylmar, CA',\n",
       " 'South Sandwich Islands region',\n",
       " 'western Xizang',\n",
       " '105 km SSE of Perryville, Alaska']"
      ]
     },
     "execution_count": 22,
     "metadata": {},
     "output_type": "execute_result"
    }
   ],
   "source": [
    "# Printing the place of each earthquake\n",
    "quakeplaces = [] # list of quake locations\n",
    "\n",
    "for quake in quakelist:\n",
    "    print(quake['properties']['place'])\n",
    "    quakeplace = quake['properties']['place']\n",
    "    quakeplaces.append(quakeplace)\n",
    "    \n",
    "quakeplaces"
   ]
  },
  {
   "cell_type": "markdown",
   "metadata": {},
   "source": [
    "## MongoDB with JSON (courtesy of Rebecca)"
   ]
  },
  {
   "cell_type": "code",
   "execution_count": 23,
   "metadata": {},
   "outputs": [
    {
     "name": "stdout",
     "output_type": "stream",
     "text": [
      "Collected data from USGS Significant Earthquakes, Past Month\n",
      "Connected successfully!!!\n",
      "Added 12 to earthquakes collection in usgs database\n"
     ]
    }
   ],
   "source": [
    "''' \n",
    "This program accesses the USGS earthquake data feed. This URL is for\n",
    "       significant quakes in the last 30 days.\n",
    "It then saves the earthquakes to a database named usgs and a collection called earthquakes.\n",
    "The mongod server must be running for this program to work!\n",
    "'''\n",
    "\n",
    "import urllib.request\n",
    "import json\n",
    "import pymongo\n",
    "\n",
    "\n",
    "# get the bbc rss feed of news stories and connect to it\n",
    "earthquake_url = \"http://earthquake.usgs.gov/earthquakes/feed/v1.0/summary/significant_month.geojson\"\n",
    "\n",
    "try:\n",
    "    response = urllib.request.urlopen(earthquake_url)\n",
    "except urllib.error.URLError as e:\n",
    "    if hasattr(e, 'reason'):\n",
    "        print('We failed to reach a server.')\n",
    "        print('Reason: ', e.reason)\n",
    "    elif hasattr(e, 'code'):\n",
    "        print('The server couldn\\'t fulfill the request.')\n",
    "        print('Error code: ', e.code)\n",
    "else:\n",
    "    # the url request was successful - convert the response to a string\n",
    "    json_string = response.read().decode('utf-8')\n",
    "\n",
    "    # the json package loads() converts the string to python dictionaries and lists\n",
    "    eq_json = json.loads(json_string)\n",
    "    \n",
    "    # from the json dictionary we get the title to print\n",
    "    title = eq_json['metadata']['title']\n",
    "    print('Collected data from', title)\n",
    "    #  and we get the list of earthquakes\n",
    "    quakelist = eq_json['features']\n",
    "\n",
    "    # Connection to Mongo DB\n",
    "    try:\n",
    "        client=pymongo.MongoClient('localhost', 27017)\n",
    "        print (\"Connected successfully!!!\")\n",
    "    except pymongo.errors.ConnectionFailure as e:\n",
    "        print (\"Could not connect to MongoDB: %s\" % e )\n",
    "    else:\n",
    "\n",
    "        # use database named usgs or create it if not there already\n",
    "        eqdb = client.usgs\n",
    "        # create collection named earthquakes or create it if not there already\n",
    "        quakecoll = eqdb.earthquakes\n",
    "        # add all the earthquakes to the list\n",
    "        quakecoll.insert_many(quakelist)\n",
    "        print(\"Added\", len(quakelist), \"to earthquakes collection in usgs database\")\n",
    "  \n",
    "# for item in quakecoll.find({},{\"mag\":{'$lt':5}}):\n",
    " #   print(item)\n",
    "  \n",
    "# close the database connection\n",
    "client.close()"
   ]
  },
  {
   "cell_type": "markdown",
   "metadata": {},
   "source": [
    "# Breakout Group Exercise"
   ]
  },
  {
   "cell_type": "code",
   "execution_count": 31,
   "metadata": {},
   "outputs": [],
   "source": [
    "# Create a list of each of coordinates from \"quakelist\"\n",
    "# ie  'coordinates': [-97.9879, 38.0101, 5]},"
   ]
  },
  {
   "cell_type": "code",
   "execution_count": 5,
   "metadata": {},
   "outputs": [
    {
     "data": {
      "text/plain": [
       "dict_keys(['type', 'properties', 'geometry', 'id'])"
      ]
     },
     "execution_count": 5,
     "metadata": {},
     "output_type": "execute_result"
    }
   ],
   "source": [
    "quake1 = quakelist[0]\n",
    "type(quake1)\n",
    "quake1.keys()"
   ]
  },
  {
   "cell_type": "code",
   "execution_count": 6,
   "metadata": {},
   "outputs": [
    {
     "name": "stdout",
     "output_type": "stream",
     "text": [
      "{\n",
      "  \"type\": \"Feature\",\n",
      "  \"properties\": {\n",
      "    \"mag\": 4.2,\n",
      "    \"place\": \"4km WSW of South Hutchinson, Kansas\",\n",
      "    \"time\": 1565960350388,\n",
      "    \"updated\": 1566045597598,\n",
      "    \"tz\": -360,\n",
      "    \"url\": \"https://earthquake.usgs.gov/earthquakes/eventpage/us600055xa\",\n",
      "    \"detail\": \"https://earthquake.usgs.gov/earthquakes/feed/v1.0/detail/us600055xa.geojson\",\n",
      "    \"felt\": 1019,\n",
      "    \"cdi\": 6.1,\n",
      "    \"mmi\": 5.593,\n",
      "    \"alert\": null,\n",
      "    \"status\": \"reviewed\",\n",
      "    \"tsunami\": 0,\n",
      "    \"sig\": 881,\n",
      "    \"net\": \"us\",\n",
      "    \"code\": \"600055xa\",\n",
      "    \"ids\": \",us600055xa,\",\n",
      "    \"sources\": \",us,\",\n",
      "    \"types\": \",dyfi,geoserve,moment-tensor,origin,phase-data,shakemap,\",\n",
      "    \"nst\": null,\n",
      "    \"dmin\": 0.702,\n",
      "    \"rms\": 0.29,\n",
      "    \"gap\": 186,\n",
      "    \"magType\": \"mwr\",\n",
      "    \"type\": \"earthquake\",\n",
      "    \"title\": \"M 4.2 - 4km WSW of South Hutchinson, Kansas\"\n",
      "  },\n",
      "  \"geometry\": {\n",
      "    \"type\": \"Point\",\n",
      "    \"coordinates\": [\n",
      "      -97.9879,\n",
      "      38.0101,\n",
      "      5\n",
      "    ]\n",
      "  },\n",
      "  \"id\": \"us600055xa\"\n",
      "}\n"
     ]
    }
   ],
   "source": [
    "print(json.dumps(quake1, indent=2))"
   ]
  },
  {
   "cell_type": "code",
   "execution_count": null,
   "metadata": {},
   "outputs": [],
   "source": []
  }
 ],
 "metadata": {
  "kernelspec": {
   "display_name": "Python 3",
   "language": "python",
   "name": "python3"
  },
  "language_info": {
   "codemirror_mode": {
    "name": "ipython",
    "version": 3
   },
   "file_extension": ".py",
   "mimetype": "text/x-python",
   "name": "python",
   "nbconvert_exporter": "python",
   "pygments_lexer": "ipython3",
   "version": "3.7.6"
  }
 },
 "nbformat": 4,
 "nbformat_minor": 2
}

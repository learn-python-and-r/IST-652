{
  "nbformat": 4,
  "nbformat_minor": 0,
  "metadata": {
    "colab": {
      "name": "Unit-10-Sandbox-I.ipynb",
      "provenance": [],
      "collapsed_sections": [],
      "authorship_tag": "ABX9TyNi6ADPflPudIj6WtHPSGth",
      "include_colab_link": true
    },
    "kernelspec": {
      "name": "python3",
      "display_name": "Python 3"
    }
  },
  "cells": [
    {
      "cell_type": "markdown",
      "metadata": {
        "id": "view-in-github",
        "colab_type": "text"
      },
      "source": [
        "<a href=\"https://colab.research.google.com/github/learn-python-and-r/IST-652/blob/master/Unit_10_Sandbox_I.ipynb\" target=\"_parent\"><img src=\"https://colab.research.google.com/assets/colab-badge.svg\" alt=\"Open In Colab\"/></a>"
      ]
    },
    {
      "cell_type": "markdown",
      "metadata": {
        "id": "ZOf88sLB5bCS",
        "colab_type": "text"
      },
      "source": [
        "# Topics covered:\n",
        "\n",
        "- Quiz 2 long form questions.\n",
        "- Network analysis example.\n",
        "- Presentations"
      ]
    },
    {
      "cell_type": "markdown",
      "metadata": {
        "id": "ziGcI8zR5m4m",
        "colab_type": "text"
      },
      "source": [
        "# Quiz 2"
      ]
    },
    {
      "cell_type": "markdown",
      "metadata": {
        "id": "wsWCvg3A5qDo",
        "colab_type": "text"
      },
      "source": [
        "## Q 10\n",
        "Question 10\n",
        "Suppose that you have dictionaries with word frequencies. Each dictionary has strings for the keys and numbers for the values (representing the frequencies of the words in the strings). Here is an example dictionary:\n",
        "\n",
        "word_freq = {'the':58,'people':6,'beautiful':8,'cats':13}\n",
        "\n",
        "Write a function that takes as parameters a word frequency dictionary and a threshold number that is an integer. This function should return a result that is a list of all the words whose frequency is greater than the threshold.\n",
        "\n",
        "For example, suppose that you name your function top_words. If you call the function with the above dictionary and the threshold of 10:\n",
        "\n",
        "top_words(word_freq, 10)\n",
        "\n",
        "you should get the result\n",
        "['the', 'cats'],\n",
        "where the words can occur in any order.\n",
        "\n",
        "Please submit the code for this function and the output using the word frequency dictionary listed below. Please show the output of your code using three separate threshold numbers:\n",
        "\n",
        "word_freq = {'the':58, 'people':6, 'beautiful':8, 'cats':13, 'finally':9, 'this': 19, 'class': 21, 'is': 101, 'almost': 1, 'over':4}"
      ]
    },
    {
      "cell_type": "markdown",
      "metadata": {
        "id": "FaOWv7CJ6Stc",
        "colab_type": "text"
      },
      "source": [
        "### Courtesy of Teresa Cameron"
      ]
    },
    {
      "cell_type": "code",
      "metadata": {
        "id": "RYurUNIF50WL",
        "colab_type": "code",
        "colab": {}
      },
      "source": [
        "# Input the dictionary\n",
        "word_freq = {'the':58, 'people':6, 'beautiful':8, 'cats':13, 'finally':9, 'this': 19, 'class': 21, 'is': 101, 'almost': 1, 'over':4}\n",
        "\n",
        "def top_words(dict, n):\n",
        "    toplist = []\n",
        "    for key, value in dict.items():\n",
        "        if value > n:\n",
        "            toplist.append(key)\n",
        "    print(toplist)\n"
      ],
      "execution_count": 0,
      "outputs": []
    },
    {
      "cell_type": "code",
      "metadata": {
        "id": "c6jOpWua5YE4",
        "colab_type": "code",
        "outputId": "22bde3e6-244b-4f18-e803-c4a9861a8fde",
        "colab": {
          "base_uri": "https://localhost:8080/",
          "height": 69
        }
      },
      "source": [
        "top_words(word_freq, 10)\n",
        "top_words(word_freq, 15)\n",
        "top_words(word_freq, 50)"
      ],
      "execution_count": 7,
      "outputs": [
        {
          "output_type": "stream",
          "text": [
            "['the', 'cats', 'this', 'class', 'is']\n",
            "['the', 'this', 'class', 'is']\n",
            "['the', 'is']\n"
          ],
          "name": "stdout"
        }
      ]
    },
    {
      "cell_type": "markdown",
      "metadata": {
        "id": "yLyx7WR06We8",
        "colab_type": "text"
      },
      "source": [
        "### Courtesy of Leland Bell"
      ]
    },
    {
      "cell_type": "code",
      "metadata": {
        "id": "hPc3yDWQ6cl5",
        "colab_type": "code",
        "colab": {}
      },
      "source": [
        "word_freq = {'the':58, 'people':6, 'beautiful':8, 'cats':13, 'finally':9, 'this': 19, 'class': 21, 'is': 101, 'almost': 1, 'over':4}\n",
        "\n",
        "def top_words(d, thresh):\n",
        "\treturn [k for k,v in d.items() if v > thresh]"
      ],
      "execution_count": 0,
      "outputs": []
    },
    {
      "cell_type": "code",
      "metadata": {
        "id": "PHp4jbHh6hwB",
        "colab_type": "code",
        "outputId": "57ab2047-581a-4bf2-f6c8-8f08f69e7cb3",
        "colab": {
          "base_uri": "https://localhost:8080/",
          "height": 69
        }
      },
      "source": [
        "print(top_words(word_freq, 10))\n",
        "print(top_words(word_freq, 5))\n",
        "print(top_words(word_freq, 100))"
      ],
      "execution_count": 9,
      "outputs": [
        {
          "output_type": "stream",
          "text": [
            "['the', 'cats', 'this', 'class', 'is']\n",
            "['the', 'people', 'beautiful', 'cats', 'finally', 'this', 'class', 'is']\n",
            "['is']\n"
          ],
          "name": "stdout"
        }
      ]
    },
    {
      "cell_type": "markdown",
      "metadata": {
        "id": "OIAftE_C6sGN",
        "colab_type": "text"
      },
      "source": [
        "## Q 11\n",
        "## Question 11\n",
        "For this question, you are to write a program that reads the data in the file EUR.pop.rev.csv. For each line in this file there is a country and seven population numbers between 1989 and 1995.\n",
        "\n",
        "Choose one of the following to accomplish:\n",
        "\n",
        "a. Read the data using the csv reader and represent one or more columns of the data in a NumPy array as in read_gasoline_numeric.py.\n",
        "b. Read the data into a pandas DataFrame using read_csv function.\n",
        "\n",
        "Your program must also accomplish all of the following:\n",
        "\n",
        "1. Replace missing data with 0\n",
        "2. Print each country that has more than 1,000,000 people in 1995\n",
        "3. Print the average population in the United Kingdom over those seven years\n",
        "\n",
        "Submit your code along with the output of your program.\n",
        "\n",
        "You can use code from the class as a template, but it is essential to use appropriate variable names throughout and that you write original comments for what your program does."
      ]
    },
    {
      "cell_type": "markdown",
      "metadata": {
        "id": "56qo9uKU7E2a",
        "colab_type": "text"
      },
      "source": [
        "### Courtesy of STEPHEN OMONDI"
      ]
    },
    {
      "cell_type": "code",
      "metadata": {
        "id": "oNjAwovoC5kg",
        "colab_type": "code",
        "colab": {}
      },
      "source": [
        "# Indexing data with .loc and .iloc\n",
        "# With .loc\n",
        "# Create a subset dataframe with the first 10 rows and the first 2 columns\n",
        "# dataframe.iloc[0:10,1:2]\n",
        "# dataframe.iloc[row #,col #]"
      ],
      "execution_count": 0,
      "outputs": []
    },
    {
      "cell_type": "code",
      "metadata": {
        "id": "ysixtVe369_n",
        "colab_type": "code",
        "colab": {}
      },
      "source": [
        "# import pandas\n",
        "import pandas as pd\n",
        "\n",
        "# get the filesource\n",
        "filename = \"C:\\Academics\\Scripting for Data Science\\Homeworks\\Homework 2\\Eur.pop.rev\\Eur.pop.rev.csv\"\n",
        "\n",
        "# read the file as a pandas object\n",
        "europop = pd.read_csv(filename)\n",
        "\n",
        "# print the file\n",
        "europop\n",
        "\n",
        "# drop the first row and the last 2 rows\n",
        "new_europop = europop[1:21]\n",
        "new_europop\n",
        "\n",
        "# create a list of new headings\n",
        "newHeadings = ['Country', 1989, 1990, 1991, 1992, 1993, 1994, 1995]\n",
        "\n",
        "# assign new headings\n",
        "new_europop.columns = newHeadings\n",
        "\n",
        "# remove the first row in the new headings and the last two rows\n",
        "final_europop = new_europop[1:18]\n",
        "final_europop\n",
        "\n",
        "# find all rows with null values\n",
        "final_europop.isnull().sum()\n",
        "\n",
        "### Part 1: Replace missing data with zero\n",
        "# Replace missing data with 0\n",
        "final_europop[1990].fillna(0, inplace = True)\n",
        "final_europop\n",
        "\n",
        "# set country as index\n",
        "df = final_europop.set_index(\"Country\")\n",
        "df\n",
        "\n",
        "# convert values to integer\n",
        "pop95 = pd.to_numeric(df[1995])\n",
        "pop95\n",
        "\n",
        "### Part 2. Print each country that has more than 1,000,000 people in 1995\n",
        "# Print each country that has more than 1,000,000 people in 1995\n",
        "for index in pop95.index:\n",
        "    if pop95[index] > 1000000:\n",
        "        print(\"{} : {:,}\".format(index, pop95[index]))\n",
        "\n",
        "\n",
        "### Part 3. Print the average population in the United Kingdom over those seven years\n",
        "import numpy as np\n",
        "# function that calculates the average populations given year\n",
        "yearlyAVGs = []\n",
        "def getSumAvg(yearsList):\n",
        "    for year in yearsList:\n",
        "        theDF= pd.to_numeric(df[year])      # pop in that year\n",
        "        avg_theDF = np.mean(theDF)          # average population that year\n",
        "        yearlyAVGs.append(avg_theDF)\n",
        "    return sum(yearlyAVGs)\n",
        "\n",
        "# Print the average population in the United Kingdom over those seven years\n",
        "yearlyAVGs = []\n",
        "print(\"{:,}\".format(getSumAvg([1989, 1990, 1991, 1992, 1993, 1994, 1995])))\n",
        " \n",
        " \n",
        "KEY OUTPUTS\n",
        "Part 1: Replace missing data with zero\n",
        " \n",
        "\n",
        " \n",
        "Part 2. Print each country that has more than 1,000,000 people in 1995\n",
        "Austria : 8,054,800\n",
        "Belgium : 10,143,047\n",
        "Denmark : 5,251,027\n",
        "Finland : 5,116,800\n",
        "France : 58,265,400\n",
        "Germany : 81,845,000\n",
        "Ireland : 3,591,200\n",
        "Italy : 57,268,578\n",
        "Netherland : 15,492,800\n",
        "Norway : 4,370,000\n",
        "Portugal : 9,920,800\n",
        "Spain : 39,241,900\n",
        "Sweden : 8,837,000\n",
        "Switzerland : 7,060,400\n",
        "United Kingdom : 58,684,000\n",
        " \n",
        "Part 3. Print the average population in the United Kingdom over those seven years\n",
        "146,214,942.11764705"
      ],
      "execution_count": 0,
      "outputs": []
    }
  ]
}
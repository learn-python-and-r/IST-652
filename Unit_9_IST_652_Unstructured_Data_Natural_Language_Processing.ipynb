{
  "nbformat": 4,
  "nbformat_minor": 0,
  "metadata": {
    "colab": {
      "name": "Unit 9 - IST 652_Unstructured Data_Natural Language Processing.ipynb",
      "provenance": [],
      "collapsed_sections": [],
      "authorship_tag": "ABX9TyMjmHW92CFbvvvWbhdrUcSD",
      "include_colab_link": true
    },
    "kernelspec": {
      "name": "python3",
      "display_name": "Python 3"
    }
  },
  "cells": [
    {
      "cell_type": "markdown",
      "metadata": {
        "id": "view-in-github",
        "colab_type": "text"
      },
      "source": [
        "<a href=\"https://colab.research.google.com/github/learn-python-and-r/IST-652/blob/master/Unit_9_IST_652_Unstructured_Data_Natural_Language_Processing.ipynb\" target=\"_parent\"><img src=\"https://colab.research.google.com/assets/colab-badge.svg\" alt=\"Open In Colab\"/></a>"
      ]
    },
    {
      "cell_type": "markdown",
      "metadata": {
        "id": "CublISCvewUY",
        "colab_type": "text"
      },
      "source": [
        "# Natural Language Processing\n",
        "\n",
        "### Topic outline\n",
        "\n",
        "- Collecting text data from Twitter.\n",
        "\n",
        "- Text processing basics:\n",
        "  - Tokenization.\n",
        "  - Text formatting and cleaning\n",
        "\n",
        "### Packages discussed\n",
        "\n",
        "- tweepy\n",
        "- nltk\n"
      ]
    },
    {
      "cell_type": "markdown",
      "metadata": {
        "id": "P0cbQHohhlJ4",
        "colab_type": "text"
      },
      "source": [
        "# Collecting text data from Twitter.\n",
        "- signing up for a developer account.\n",
        "- authentication\n",
        "- searching and extracting text data from the Twitter API."
      ]
    },
    {
      "cell_type": "markdown",
      "metadata": {
        "id": "zAncPr4Zh3vW",
        "colab_type": "text"
      },
      "source": [
        "# Signing up for a developer account\n",
        "\n",
        "https://developer.twitter.com/en\n",
        "\n",
        "- Once you sign up for this account you can get the authentication credentials you need.\n",
        "\n",
        "- **PRO TIP** ONLY FILL OUT THE REQUIRED INFO. ANY ADDITIONAL INFO THAT YOU FILL OUT MAY DELAY YOUR ABILITY TO CONNECT! "
      ]
    },
    {
      "cell_type": "markdown",
      "metadata": {
        "id": "cPf_hP4YifvS",
        "colab_type": "text"
      },
      "source": [
        "# Authentication\n",
        "\n",
        "- pass your credentials to Twitter to gain access to their data stream.\n",
        "\n",
        "- first have to install the *tweepy* package."
      ]
    },
    {
      "cell_type": "code",
      "metadata": {
        "id": "9iqlkpd4elag",
        "colab_type": "code",
        "outputId": "b9b0cbe0-09d1-40c3-dd00-db00c2659267",
        "colab": {
          "base_uri": "https://localhost:8080/",
          "height": 247
        }
      },
      "source": [
        "# Install twitter package\n",
        "!pip install tweepy\n",
        "!pip install nltk"
      ],
      "execution_count": 0,
      "outputs": [
        {
          "output_type": "stream",
          "text": [
            "Requirement already satisfied: tweepy in /opt/anaconda3/lib/python3.7/site-packages (3.8.0)\r\n",
            "Requirement already satisfied: six>=1.10.0 in /opt/anaconda3/lib/python3.7/site-packages (from tweepy) (1.14.0)\r\n",
            "Requirement already satisfied: PySocks>=1.5.7 in /opt/anaconda3/lib/python3.7/site-packages (from tweepy) (1.7.1)\r\n",
            "Requirement already satisfied: requests>=2.11.1 in /opt/anaconda3/lib/python3.7/site-packages (from tweepy) (2.22.0)\r\n",
            "Requirement already satisfied: requests-oauthlib>=0.7.0 in /opt/anaconda3/lib/python3.7/site-packages (from tweepy) (1.3.0)\r\n",
            "Requirement already satisfied: chardet<3.1.0,>=3.0.2 in /opt/anaconda3/lib/python3.7/site-packages (from requests>=2.11.1->tweepy) (3.0.4)\n",
            "Requirement already satisfied: idna<2.9,>=2.5 in /opt/anaconda3/lib/python3.7/site-packages (from requests>=2.11.1->tweepy) (2.8)\n",
            "Requirement already satisfied: certifi>=2017.4.17 in /opt/anaconda3/lib/python3.7/site-packages (from requests>=2.11.1->tweepy) (2019.11.28)\n",
            "Requirement already satisfied: urllib3!=1.25.0,!=1.25.1,<1.26,>=1.21.1 in /opt/anaconda3/lib/python3.7/site-packages (from requests>=2.11.1->tweepy) (1.25.8)\n",
            "Requirement already satisfied: oauthlib>=3.0.0 in /opt/anaconda3/lib/python3.7/site-packages (from requests-oauthlib>=0.7.0->tweepy) (3.1.0)\n",
            "Requirement already satisfied: nltk in /opt/anaconda3/lib/python3.7/site-packages (3.4.5)\n",
            "Requirement already satisfied: six in /opt/anaconda3/lib/python3.7/site-packages (from nltk) (1.14.0)\n"
          ],
          "name": "stdout"
        }
      ]
    },
    {
      "cell_type": "markdown",
      "metadata": {
        "id": "YMs6C7mtiu2c",
        "colab_type": "text"
      },
      "source": [
        "- next we enter our credentials that we retreive from our developer account"
      ]
    },
    {
      "cell_type": "code",
      "metadata": {
        "id": "17LNjy4ui338",
        "colab_type": "code",
        "outputId": "d9fbc187-3c81-48be-b0c2-64ee54fd5de8",
        "colab": {
          "base_uri": "https://localhost:8080/",
          "height": 34
        }
      },
      "source": [
        "import tweepy\n",
        "\n",
        "CONSUMER_KEY = '5zLyTQPA00z5xamvWnBnvkIdn' #API Key\n",
        "CONSUMER_SECRET = 'K3ruTTW4yrbWuIiQ1EArEoBRVtsWY9CmIG46PMGOyq0byxhuTS' # API secret Key\n",
        "OAUTH_TOKEN = '18249358-Iam7USUCf0UFlyK5uIOvUajSczOJZSQgJsJXgs4Pq' # Access Token\n",
        "OAUTH_SECRET = 'g6SnD2m7bUjUEhHW2C3tTAK3GHfHPi4ln8OPpR32Qg0xh' # Access Token Secret\n",
        "\n",
        " # Authorization to consumer key and consumer secret \n",
        "auth = tweepy.OAuthHandler(CONSUMER_KEY, CONSUMER_SECRET) \n",
        "  \n",
        "# Access to user's access key and access secret \n",
        "auth.set_access_token(OAUTH_TOKEN, OAUTH_SECRET) \n",
        "  \n",
        "# Calling api \n",
        "api = tweepy.API(auth) \n",
        "\n",
        "api"
      ],
      "execution_count": 0,
      "outputs": [
        {
          "output_type": "execute_result",
          "data": {
            "text/plain": [
              "<tweepy.api.API at 0x7fb3b83e8490>"
            ]
          },
          "metadata": {
            "tags": []
          },
          "execution_count": 2
        }
      ]
    },
    {
      "cell_type": "markdown",
      "metadata": {
        "id": "2RHFTTBEnyI7",
        "colab_type": "text"
      },
      "source": [
        "# searching and extracting text data from the Twitter API.\n",
        "\n",
        "- We are going to extract tweet information from a single user but there are MANY other things that you can do with tweepy\n",
        "\n",
        "- Check out the documentation here: http://docs.tweepy.org/en/v3.5.0/api.html#tweepy-api-twitter-api-wrapper"
      ]
    },
    {
      "cell_type": "code",
      "metadata": {
        "id": "TanSVnx4oZ_b",
        "colab_type": "code",
        "outputId": "186aa637-fe6c-4cd0-98a9-061bff85b53c",
        "colab": {
          "base_uri": "https://localhost:8080/",
          "height": 34
        }
      },
      "source": [
        "# Collect tweet info from a single user\n",
        "tweets = api.user_timeline(screen_name='@SyracuseU')\n",
        "len(tweets) "
      ],
      "execution_count": 0,
      "outputs": [
        {
          "output_type": "execute_result",
          "data": {
            "text/plain": [
              "20"
            ]
          },
          "metadata": {
            "tags": []
          },
          "execution_count": 30
        }
      ]
    },
    {
      "cell_type": "code",
      "metadata": {
        "id": "T5kRblD5CC12",
        "colab_type": "code",
        "outputId": "0ec3d427-a1e6-4856-e380-b449b8c47282",
        "colab": {
          "base_uri": "https://localhost:8080/",
          "height": 54
        }
      },
      "source": [
        "tweets[0]"
      ],
      "execution_count": 0,
      "outputs": [
        {
          "output_type": "execute_result",
          "data": {
            "text/plain": [
              "Status(_api=<tweepy.api.API object at 0x7fb3b83e8490>, _json={'created_at': 'Sat May 30 20:32:47 +0000 2020', 'id': 1266829932858146820, 'id_str': '1266829932858146820', 'text': 'RT @SUcampus: In the midst of this time of tremendous pain, sorrow, anger and concern, University leaders discuss the impact of racism and…', 'truncated': False, 'entities': {'hashtags': [], 'symbols': [], 'user_mentions': [{'screen_name': 'SUcampus', 'name': 'SU Campus', 'id': 407922176, 'id_str': '407922176', 'indices': [3, 12]}], 'urls': []}, 'source': '<a href=\"https://www.hootsuite.com\" rel=\"nofollow\">Hootsuite Inc.</a>', 'in_reply_to_status_id': None, 'in_reply_to_status_id_str': None, 'in_reply_to_user_id': None, 'in_reply_to_user_id_str': None, 'in_reply_to_screen_name': None, 'user': {'id': 125688706, 'id_str': '125688706', 'name': 'Syracuse University', 'screen_name': 'SyracuseU', 'location': 'Syracuse, New York', 'description': 'Syracuse University is dedicated to rigorous scholarship and transformative research. #SyracuseU on-campus news: @SUCampus. Instagram: @SyracuseU. Go Orange! 🍊', 'url': 'https://t.co/AgQgM86G8n', 'entities': {'url': {'urls': [{'url': 'https://t.co/AgQgM86G8n', 'expanded_url': 'http://syracuse.edu', 'display_url': 'syracuse.edu', 'indices': [0, 23]}]}, 'description': {'urls': []}}, 'protected': False, 'followers_count': 80658, 'friends_count': 781, 'listed_count': 1054, 'created_at': 'Tue Mar 23 15:07:30 +0000 2010', 'favourites_count': 2675, 'utc_offset': None, 'time_zone': None, 'geo_enabled': False, 'verified': True, 'statuses_count': 30223, 'lang': None, 'contributors_enabled': False, 'is_translator': False, 'is_translation_enabled': False, 'profile_background_color': 'DC6928', 'profile_background_image_url': 'http://abs.twimg.com/images/themes/theme1/bg.png', 'profile_background_image_url_https': 'https://abs.twimg.com/images/themes/theme1/bg.png', 'profile_background_tile': False, 'profile_image_url': 'http://pbs.twimg.com/profile_images/1018915015460605954/7tq4oci5_normal.jpg', 'profile_image_url_https': 'https://pbs.twimg.com/profile_images/1018915015460605954/7tq4oci5_normal.jpg', 'profile_banner_url': 'https://pbs.twimg.com/profile_banners/125688706/1494349479', 'profile_link_color': 'D44500', 'profile_sidebar_border_color': 'FF7F0F', 'profile_sidebar_fill_color': 'CCCCCC', 'profile_text_color': '333333', 'profile_use_background_image': False, 'has_extended_profile': False, 'default_profile': False, 'default_profile_image': False, 'following': False, 'follow_request_sent': False, 'notifications': False, 'translator_type': 'none'}, 'geo': None, 'coordinates': None, 'place': None, 'contributors': None, 'retweeted_status': {'created_at': 'Sat May 30 20:31:03 +0000 2020', 'id': 1266829497195802624, 'id_str': '1266829497195802624', 'text': 'In the midst of this time of tremendous pain, sorrow, anger and concern, University leaders discuss the impact of r… https://t.co/domjlJBS4V', 'truncated': True, 'entities': {'hashtags': [], 'symbols': [], 'user_mentions': [], 'urls': [{'url': 'https://t.co/domjlJBS4V', 'expanded_url': 'https://twitter.com/i/web/status/1266829497195802624', 'display_url': 'twitter.com/i/web/status/1…', 'indices': [117, 140]}]}, 'source': '<a href=\"https://www.hootsuite.com\" rel=\"nofollow\">Hootsuite Inc.</a>', 'in_reply_to_status_id': None, 'in_reply_to_status_id_str': None, 'in_reply_to_user_id': None, 'in_reply_to_user_id_str': None, 'in_reply_to_screen_name': None, 'user': {'id': 407922176, 'id_str': '407922176', 'name': 'SU Campus', 'screen_name': 'SUcampus', 'location': 'Syracuse, NY', 'description': \"Syracuse University's official account for campus news, info & events! We’re also on Facebook: @SUCampus. Follow the official #SyracuseU account: @SyracuseU.\", 'url': 'https://t.co/PxXfd6LoRk', 'entities': {'url': {'urls': [{'url': 'https://t.co/PxXfd6LoRk', 'expanded_url': 'http://www.syracuse.edu', 'display_url': 'syracuse.edu', 'indices': [0, 23]}]}, 'description': {'urls': []}}, 'protected': False, 'followers_count': 10914, 'friends_count': 83, 'listed_count': 153, 'created_at': 'Tue Nov 08 18:51:43 +0000 2011', 'favourites_count': 31, 'utc_offset': None, 'time_zone': None, 'geo_enabled': False, 'verified': False, 'statuses_count': 5277, 'lang': None, 'contributors_enabled': False, 'is_translator': False, 'is_translation_enabled': False, 'profile_background_color': '022330', 'profile_background_image_url': 'http://abs.twimg.com/images/themes/theme15/bg.png', 'profile_background_image_url_https': 'https://abs.twimg.com/images/themes/theme15/bg.png', 'profile_background_tile': True, 'profile_image_url': 'http://pbs.twimg.com/profile_images/1027228994826117120/fNRtdyG0_normal.jpg', 'profile_image_url_https': 'https://pbs.twimg.com/profile_images/1027228994826117120/fNRtdyG0_normal.jpg', 'profile_banner_url': 'https://pbs.twimg.com/profile_banners/407922176/1398262642', 'profile_link_color': 'E68910', 'profile_sidebar_border_color': 'FFFFFF', 'profile_sidebar_fill_color': 'C0DFEC', 'profile_text_color': '333333', 'profile_use_background_image': False, 'has_extended_profile': False, 'default_profile': False, 'default_profile_image': False, 'following': False, 'follow_request_sent': False, 'notifications': False, 'translator_type': 'none'}, 'geo': None, 'coordinates': None, 'place': None, 'contributors': None, 'is_quote_status': False, 'retweet_count': 11, 'favorite_count': 30, 'favorited': False, 'retweeted': False, 'possibly_sensitive': False, 'lang': 'en'}, 'is_quote_status': False, 'retweet_count': 11, 'favorite_count': 0, 'favorited': False, 'retweeted': False, 'lang': 'en'}, created_at=datetime.datetime(2020, 5, 30, 20, 32, 47), id=1266829932858146820, id_str='1266829932858146820', text='RT @SUcampus: In the midst of this time of tremendous pain, sorrow, anger and concern, University leaders discuss the impact of racism and…', truncated=False, entities={'hashtags': [], 'symbols': [], 'user_mentions': [{'screen_name': 'SUcampus', 'name': 'SU Campus', 'id': 407922176, 'id_str': '407922176', 'indices': [3, 12]}], 'urls': []}, source='Hootsuite Inc.', source_url='https://www.hootsuite.com', in_reply_to_status_id=None, in_reply_to_status_id_str=None, in_reply_to_user_id=None, in_reply_to_user_id_str=None, in_reply_to_screen_name=None, author=User(_api=<tweepy.api.API object at 0x7fb3b83e8490>, _json={'id': 125688706, 'id_str': '125688706', 'name': 'Syracuse University', 'screen_name': 'SyracuseU', 'location': 'Syracuse, New York', 'description': 'Syracuse University is dedicated to rigorous scholarship and transformative research. #SyracuseU on-campus news: @SUCampus. Instagram: @SyracuseU. Go Orange! 🍊', 'url': 'https://t.co/AgQgM86G8n', 'entities': {'url': {'urls': [{'url': 'https://t.co/AgQgM86G8n', 'expanded_url': 'http://syracuse.edu', 'display_url': 'syracuse.edu', 'indices': [0, 23]}]}, 'description': {'urls': []}}, 'protected': False, 'followers_count': 80658, 'friends_count': 781, 'listed_count': 1054, 'created_at': 'Tue Mar 23 15:07:30 +0000 2010', 'favourites_count': 2675, 'utc_offset': None, 'time_zone': None, 'geo_enabled': False, 'verified': True, 'statuses_count': 30223, 'lang': None, 'contributors_enabled': False, 'is_translator': False, 'is_translation_enabled': False, 'profile_background_color': 'DC6928', 'profile_background_image_url': 'http://abs.twimg.com/images/themes/theme1/bg.png', 'profile_background_image_url_https': 'https://abs.twimg.com/images/themes/theme1/bg.png', 'profile_background_tile': False, 'profile_image_url': 'http://pbs.twimg.com/profile_images/1018915015460605954/7tq4oci5_normal.jpg', 'profile_image_url_https': 'https://pbs.twimg.com/profile_images/1018915015460605954/7tq4oci5_normal.jpg', 'profile_banner_url': 'https://pbs.twimg.com/profile_banners/125688706/1494349479', 'profile_link_color': 'D44500', 'profile_sidebar_border_color': 'FF7F0F', 'profile_sidebar_fill_color': 'CCCCCC', 'profile_text_color': '333333', 'profile_use_background_image': False, 'has_extended_profile': False, 'default_profile': False, 'default_profile_image': False, 'following': False, 'follow_request_sent': False, 'notifications': False, 'translator_type': 'none'}, id=125688706, id_str='125688706', name='Syracuse University', screen_name='SyracuseU', location='Syracuse, New York', description='Syracuse University is dedicated to rigorous scholarship and transformative research. #SyracuseU on-campus news: @SUCampus. Instagram: @SyracuseU. Go Orange! 🍊', url='https://t.co/AgQgM86G8n', entities={'url': {'urls': [{'url': 'https://t.co/AgQgM86G8n', 'expanded_url': 'http://syracuse.edu', 'display_url': 'syracuse.edu', 'indices': [0, 23]}]}, 'description': {'urls': []}}, protected=False, followers_count=80658, friends_count=781, listed_count=1054, created_at=datetime.datetime(2010, 3, 23, 15, 7, 30), favourites_count=2675, utc_offset=None, time_zone=None, geo_enabled=False, verified=True, statuses_count=30223, lang=None, contributors_enabled=False, is_translator=False, is_translation_enabled=False, profile_background_color='DC6928', profile_background_image_url='http://abs.twimg.com/images/themes/theme1/bg.png', profile_background_image_url_https='https://abs.twimg.com/images/themes/theme1/bg.png', profile_background_tile=False, profile_image_url='http://pbs.twimg.com/profile_images/1018915015460605954/7tq4oci5_normal.jpg', profile_image_url_https='https://pbs.twimg.com/profile_images/1018915015460605954/7tq4oci5_normal.jpg', profile_banner_url='https://pbs.twimg.com/profile_banners/125688706/1494349479', profile_link_color='D44500', profile_sidebar_border_color='FF7F0F', profile_sidebar_fill_color='CCCCCC', profile_text_color='333333', profile_use_background_image=False, has_extended_profile=False, default_profile=False, default_profile_image=False, following=False, follow_request_sent=False, notifications=False, translator_type='none'), user=User(_api=<tweepy.api.API object at 0x7fb3b83e8490>, _json={'id': 125688706, 'id_str': '125688706', 'name': 'Syracuse University', 'screen_name': 'SyracuseU', 'location': 'Syracuse, New York', 'description': 'Syracuse University is dedicated to rigorous scholarship and transformative research. #SyracuseU on-campus news: @SUCampus. Instagram: @SyracuseU. Go Orange! 🍊', 'url': 'https://t.co/AgQgM86G8n', 'entities': {'url': {'urls': [{'url': 'https://t.co/AgQgM86G8n', 'expanded_url': 'http://syracuse.edu', 'display_url': 'syracuse.edu', 'indices': [0, 23]}]}, 'description': {'urls': []}}, 'protected': False, 'followers_count': 80658, 'friends_count': 781, 'listed_count': 1054, 'created_at': 'Tue Mar 23 15:07:30 +0000 2010', 'favourites_count': 2675, 'utc_offset': None, 'time_zone': None, 'geo_enabled': False, 'verified': True, 'statuses_count': 30223, 'lang': None, 'contributors_enabled': False, 'is_translator': False, 'is_translation_enabled': False, 'profile_background_color': 'DC6928', 'profile_background_image_url': 'http://abs.twimg.com/images/themes/theme1/bg.png', 'profile_background_image_url_https': 'https://abs.twimg.com/images/themes/theme1/bg.png', 'profile_background_tile': False, 'profile_image_url': 'http://pbs.twimg.com/profile_images/1018915015460605954/7tq4oci5_normal.jpg', 'profile_image_url_https': 'https://pbs.twimg.com/profile_images/1018915015460605954/7tq4oci5_normal.jpg', 'profile_banner_url': 'https://pbs.twimg.com/profile_banners/125688706/1494349479', 'profile_link_color': 'D44500', 'profile_sidebar_border_color': 'FF7F0F', 'profile_sidebar_fill_color': 'CCCCCC', 'profile_text_color': '333333', 'profile_use_background_image': False, 'has_extended_profile': False, 'default_profile': False, 'default_profile_image': False, 'following': False, 'follow_request_sent': False, 'notifications': False, 'translator_type': 'none'}, id=125688706, id_str='125688706', name='Syracuse University', screen_name='SyracuseU', location='Syracuse, New York', description='Syracuse University is dedicated to rigorous scholarship and transformative research. #SyracuseU on-campus news: @SUCampus. Instagram: @SyracuseU. Go Orange! 🍊', url='https://t.co/AgQgM86G8n', entities={'url': {'urls': [{'url': 'https://t.co/AgQgM86G8n', 'expanded_url': 'http://syracuse.edu', 'display_url': 'syracuse.edu', 'indices': [0, 23]}]}, 'description': {'urls': []}}, protected=False, followers_count=80658, friends_count=781, listed_count=1054, created_at=datetime.datetime(2010, 3, 23, 15, 7, 30), favourites_count=2675, utc_offset=None, time_zone=None, geo_enabled=False, verified=True, statuses_count=30223, lang=None, contributors_enabled=False, is_translator=False, is_translation_enabled=False, profile_background_color='DC6928', profile_background_image_url='http://abs.twimg.com/images/themes/theme1/bg.png', profile_background_image_url_https='https://abs.twimg.com/images/themes/theme1/bg.png', profile_background_tile=False, profile_image_url='http://pbs.twimg.com/profile_images/1018915015460605954/7tq4oci5_normal.jpg', profile_image_url_https='https://pbs.twimg.com/profile_images/1018915015460605954/7tq4oci5_normal.jpg', profile_banner_url='https://pbs.twimg.com/profile_banners/125688706/1494349479', profile_link_color='D44500', profile_sidebar_border_color='FF7F0F', profile_sidebar_fill_color='CCCCCC', profile_text_color='333333', profile_use_background_image=False, has_extended_profile=False, default_profile=False, default_profile_image=False, following=False, follow_request_sent=False, notifications=False, translator_type='none'), geo=None, coordinates=None, place=None, contributors=None, retweeted_status=Status(_api=<tweepy.api.API object at 0x7fb3b83e8490>, _json={'created_at': 'Sat May 30 20:31:03 +0000 2020', 'id': 1266829497195802624, 'id_str': '1266829497195802624', 'text': 'In the midst of this time of tremendous pain, sorrow, anger and concern, University leaders discuss the impact of r… https://t.co/domjlJBS4V', 'truncated': True, 'entities': {'hashtags': [], 'symbols': [], 'user_mentions': [], 'urls': [{'url': 'https://t.co/domjlJBS4V', 'expanded_url': 'https://twitter.com/i/web/status/1266829497195802624', 'display_url': 'twitter.com/i/web/status/1…', 'indices': [117, 140]}]}, 'source': '<a href=\"https://www.hootsuite.com\" rel=\"nofollow\">Hootsuite Inc.</a>', 'in_reply_to_status_id': None, 'in_reply_to_status_id_str': None, 'in_reply_to_user_id': None, 'in_reply_to_user_id_str': None, 'in_reply_to_screen_name': None, 'user': {'id': 407922176, 'id_str': '407922176', 'name': 'SU Campus', 'screen_name': 'SUcampus', 'location': 'Syracuse, NY', 'description': \"Syracuse University's official account for campus news, info & events! We’re also on Facebook: @SUCampus. Follow the official #SyracuseU account: @SyracuseU.\", 'url': 'https://t.co/PxXfd6LoRk', 'entities': {'url': {'urls': [{'url': 'https://t.co/PxXfd6LoRk', 'expanded_url': 'http://www.syracuse.edu', 'display_url': 'syracuse.edu', 'indices': [0, 23]}]}, 'description': {'urls': []}}, 'protected': False, 'followers_count': 10914, 'friends_count': 83, 'listed_count': 153, 'created_at': 'Tue Nov 08 18:51:43 +0000 2011', 'favourites_count': 31, 'utc_offset': None, 'time_zone': None, 'geo_enabled': False, 'verified': False, 'statuses_count': 5277, 'lang': None, 'contributors_enabled': False, 'is_translator': False, 'is_translation_enabled': False, 'profile_background_color': '022330', 'profile_background_image_url': 'http://abs.twimg.com/images/themes/theme15/bg.png', 'profile_background_image_url_https': 'https://abs.twimg.com/images/themes/theme15/bg.png', 'profile_background_tile': True, 'profile_image_url': 'http://pbs.twimg.com/profile_images/1027228994826117120/fNRtdyG0_normal.jpg', 'profile_image_url_https': 'https://pbs.twimg.com/profile_images/1027228994826117120/fNRtdyG0_normal.jpg', 'profile_banner_url': 'https://pbs.twimg.com/profile_banners/407922176/1398262642', 'profile_link_color': 'E68910', 'profile_sidebar_border_color': 'FFFFFF', 'profile_sidebar_fill_color': 'C0DFEC', 'profile_text_color': '333333', 'profile_use_background_image': False, 'has_extended_profile': False, 'default_profile': False, 'default_profile_image': False, 'following': False, 'follow_request_sent': False, 'notifications': False, 'translator_type': 'none'}, 'geo': None, 'coordinates': None, 'place': None, 'contributors': None, 'is_quote_status': False, 'retweet_count': 11, 'favorite_count': 30, 'favorited': False, 'retweeted': False, 'possibly_sensitive': False, 'lang': 'en'}, created_at=datetime.datetime(2020, 5, 30, 20, 31, 3), id=1266829497195802624, id_str='1266829497195802624', text='In the midst of this time of tremendous pain, sorrow, anger and concern, University leaders discuss the impact of r… https://t.co/domjlJBS4V', truncated=True, entities={'hashtags': [], 'symbols': [], 'user_mentions': [], 'urls': [{'url': 'https://t.co/domjlJBS4V', 'expanded_url': 'https://twitter.com/i/web/status/1266829497195802624', 'display_url': 'twitter.com/i/web/status/1…', 'indices': [117, 140]}]}, source='Hootsuite Inc.', source_url='https://www.hootsuite.com', in_reply_to_status_id=None, in_reply_to_status_id_str=None, in_reply_to_user_id=None, in_reply_to_user_id_str=None, in_reply_to_screen_name=None, author=User(_api=<tweepy.api.API object at 0x7fb3b83e8490>, _json={'id': 407922176, 'id_str': '407922176', 'name': 'SU Campus', 'screen_name': 'SUcampus', 'location': 'Syracuse, NY', 'description': \"Syracuse University's official account for campus news, info & events! We’re also on Facebook: @SUCampus. Follow the official #SyracuseU account: @SyracuseU.\", 'url': 'https://t.co/PxXfd6LoRk', 'entities': {'url': {'urls': [{'url': 'https://t.co/PxXfd6LoRk', 'expanded_url': 'http://www.syracuse.edu', 'display_url': 'syracuse.edu', 'indices': [0, 23]}]}, 'description': {'urls': []}}, 'protected': False, 'followers_count': 10914, 'friends_count': 83, 'listed_count': 153, 'created_at': 'Tue Nov 08 18:51:43 +0000 2011', 'favourites_count': 31, 'utc_offset': None, 'time_zone': None, 'geo_enabled': False, 'verified': False, 'statuses_count': 5277, 'lang': None, 'contributors_enabled': False, 'is_translator': False, 'is_translation_enabled': False, 'profile_background_color': '022330', 'profile_background_image_url': 'http://abs.twimg.com/images/themes/theme15/bg.png', 'profile_background_image_url_https': 'https://abs.twimg.com/images/themes/theme15/bg.png', 'profile_background_tile': True, 'profile_image_url': 'http://pbs.twimg.com/profile_images/1027228994826117120/fNRtdyG0_normal.jpg', 'profile_image_url_https': 'https://pbs.twimg.com/profile_images/1027228994826117120/fNRtdyG0_normal.jpg', 'profile_banner_url': 'https://pbs.twimg.com/profile_banners/407922176/1398262642', 'profile_link_color': 'E68910', 'profile_sidebar_border_color': 'FFFFFF', 'profile_sidebar_fill_color': 'C0DFEC', 'profile_text_color': '333333', 'profile_use_background_image': False, 'has_extended_profile': False, 'default_profile': False, 'default_profile_image': False, 'following': False, 'follow_request_sent': False, 'notifications': False, 'translator_type': 'none'}, id=407922176, id_str='407922176', name='SU Campus', screen_name='SUcampus', location='Syracuse, NY', description=\"Syracuse University's official account for campus news, info & events! We’re also on Facebook: @SUCampus. Follow the official #SyracuseU account: @SyracuseU.\", url='https://t.co/PxXfd6LoRk', entities={'url': {'urls': [{'url': 'https://t.co/PxXfd6LoRk', 'expanded_url': 'http://www.syracuse.edu', 'display_url': 'syracuse.edu', 'indices': [0, 23]}]}, 'description': {'urls': []}}, protected=False, followers_count=10914, friends_count=83, listed_count=153, created_at=datetime.datetime(2011, 11, 8, 18, 51, 43), favourites_count=31, utc_offset=None, time_zone=None, geo_enabled=False, verified=False, statuses_count=5277, lang=None, contributors_enabled=False, is_translator=False, is_translation_enabled=False, profile_background_color='022330', profile_background_image_url='http://abs.twimg.com/images/themes/theme15/bg.png', profile_background_image_url_https='https://abs.twimg.com/images/themes/theme15/bg.png', profile_background_tile=True, profile_image_url='http://pbs.twimg.com/profile_images/1027228994826117120/fNRtdyG0_normal.jpg', profile_image_url_https='https://pbs.twimg.com/profile_images/1027228994826117120/fNRtdyG0_normal.jpg', profile_banner_url='https://pbs.twimg.com/profile_banners/407922176/1398262642', profile_link_color='E68910', profile_sidebar_border_color='FFFFFF', profile_sidebar_fill_color='C0DFEC', profile_text_color='333333', profile_use_background_image=False, has_extended_profile=False, default_profile=False, default_profile_image=False, following=False, follow_request_sent=False, notifications=False, translator_type='none'), user=User(_api=<tweepy.api.API object at 0x7fb3b83e8490>, _json={'id': 407922176, 'id_str': '407922176', 'name': 'SU Campus', 'screen_name': 'SUcampus', 'location': 'Syracuse, NY', 'description': \"Syracuse University's official account for campus news, info & events! We’re also on Facebook: @SUCampus. Follow the official #SyracuseU account: @SyracuseU.\", 'url': 'https://t.co/PxXfd6LoRk', 'entities': {'url': {'urls': [{'url': 'https://t.co/PxXfd6LoRk', 'expanded_url': 'http://www.syracuse.edu', 'display_url': 'syracuse.edu', 'indices': [0, 23]}]}, 'description': {'urls': []}}, 'protected': False, 'followers_count': 10914, 'friends_count': 83, 'listed_count': 153, 'created_at': 'Tue Nov 08 18:51:43 +0000 2011', 'favourites_count': 31, 'utc_offset': None, 'time_zone': None, 'geo_enabled': False, 'verified': False, 'statuses_count': 5277, 'lang': None, 'contributors_enabled': False, 'is_translator': False, 'is_translation_enabled': False, 'profile_background_color': '022330', 'profile_background_image_url': 'http://abs.twimg.com/images/themes/theme15/bg.png', 'profile_background_image_url_https': 'https://abs.twimg.com/images/themes/theme15/bg.png', 'profile_background_tile': True, 'profile_image_url': 'http://pbs.twimg.com/profile_images/1027228994826117120/fNRtdyG0_normal.jpg', 'profile_image_url_https': 'https://pbs.twimg.com/profile_images/1027228994826117120/fNRtdyG0_normal.jpg', 'profile_banner_url': 'https://pbs.twimg.com/profile_banners/407922176/1398262642', 'profile_link_color': 'E68910', 'profile_sidebar_border_color': 'FFFFFF', 'profile_sidebar_fill_color': 'C0DFEC', 'profile_text_color': '333333', 'profile_use_background_image': False, 'has_extended_profile': False, 'default_profile': False, 'default_profile_image': False, 'following': False, 'follow_request_sent': False, 'notifications': False, 'translator_type': 'none'}, id=407922176, id_str='407922176', name='SU Campus', screen_name='SUcampus', location='Syracuse, NY', description=\"Syracuse University's official account for campus news, info & events! We’re also on Facebook: @SUCampus. Follow the official #SyracuseU account: @SyracuseU.\", url='https://t.co/PxXfd6LoRk', entities={'url': {'urls': [{'url': 'https://t.co/PxXfd6LoRk', 'expanded_url': 'http://www.syracuse.edu', 'display_url': 'syracuse.edu', 'indices': [0, 23]}]}, 'description': {'urls': []}}, protected=False, followers_count=10914, friends_count=83, listed_count=153, created_at=datetime.datetime(2011, 11, 8, 18, 51, 43), favourites_count=31, utc_offset=None, time_zone=None, geo_enabled=False, verified=False, statuses_count=5277, lang=None, contributors_enabled=False, is_translator=False, is_translation_enabled=False, profile_background_color='022330', profile_background_image_url='http://abs.twimg.com/images/themes/theme15/bg.png', profile_background_image_url_https='https://abs.twimg.com/images/themes/theme15/bg.png', profile_background_tile=True, profile_image_url='http://pbs.twimg.com/profile_images/1027228994826117120/fNRtdyG0_normal.jpg', profile_image_url_https='https://pbs.twimg.com/profile_images/1027228994826117120/fNRtdyG0_normal.jpg', profile_banner_url='https://pbs.twimg.com/profile_banners/407922176/1398262642', profile_link_color='E68910', profile_sidebar_border_color='FFFFFF', profile_sidebar_fill_color='C0DFEC', profile_text_color='333333', profile_use_background_image=False, has_extended_profile=False, default_profile=False, default_profile_image=False, following=False, follow_request_sent=False, notifications=False, translator_type='none'), geo=None, coordinates=None, place=None, contributors=None, is_quote_status=False, retweet_count=11, favorite_count=30, favorited=False, retweeted=False, possibly_sensitive=False, lang='en'), is_quote_status=False, retweet_count=11, favorite_count=0, favorited=False, retweeted=False, lang='en')"
            ]
          },
          "metadata": {
            "tags": []
          },
          "execution_count": 56
        }
      ]
    },
    {
      "cell_type": "code",
      "metadata": {
        "id": "vL74O1ncKDFM",
        "colab_type": "code",
        "outputId": "9bec04ca-3077-45a0-c156-5845aad03a7a",
        "colab": {
          "base_uri": "https://localhost:8080/",
          "height": 1000
        }
      },
      "source": [
        "tweets[0]._json"
      ],
      "execution_count": 0,
      "outputs": [
        {
          "output_type": "execute_result",
          "data": {
            "text/plain": [
              "{'created_at': 'Sat May 30 20:32:47 +0000 2020',\n",
              " 'id': 1266829932858146820,\n",
              " 'id_str': '1266829932858146820',\n",
              " 'text': 'RT @SUcampus: In the midst of this time of tremendous pain, sorrow, anger and concern, University leaders discuss the impact of racism and…',\n",
              " 'truncated': False,\n",
              " 'entities': {'hashtags': [],\n",
              "  'symbols': [],\n",
              "  'user_mentions': [{'screen_name': 'SUcampus',\n",
              "    'name': 'SU Campus',\n",
              "    'id': 407922176,\n",
              "    'id_str': '407922176',\n",
              "    'indices': [3, 12]}],\n",
              "  'urls': []},\n",
              " 'source': '<a href=\"https://www.hootsuite.com\" rel=\"nofollow\">Hootsuite Inc.</a>',\n",
              " 'in_reply_to_status_id': None,\n",
              " 'in_reply_to_status_id_str': None,\n",
              " 'in_reply_to_user_id': None,\n",
              " 'in_reply_to_user_id_str': None,\n",
              " 'in_reply_to_screen_name': None,\n",
              " 'user': {'id': 125688706,\n",
              "  'id_str': '125688706',\n",
              "  'name': 'Syracuse University',\n",
              "  'screen_name': 'SyracuseU',\n",
              "  'location': 'Syracuse, New York',\n",
              "  'description': 'Syracuse University is dedicated to rigorous scholarship and transformative research. #SyracuseU on-campus news: @SUCampus. Instagram: @SyracuseU. Go Orange! 🍊',\n",
              "  'url': 'https://t.co/AgQgM86G8n',\n",
              "  'entities': {'url': {'urls': [{'url': 'https://t.co/AgQgM86G8n',\n",
              "      'expanded_url': 'http://syracuse.edu',\n",
              "      'display_url': 'syracuse.edu',\n",
              "      'indices': [0, 23]}]},\n",
              "   'description': {'urls': []}},\n",
              "  'protected': False,\n",
              "  'followers_count': 80658,\n",
              "  'friends_count': 781,\n",
              "  'listed_count': 1054,\n",
              "  'created_at': 'Tue Mar 23 15:07:30 +0000 2010',\n",
              "  'favourites_count': 2675,\n",
              "  'utc_offset': None,\n",
              "  'time_zone': None,\n",
              "  'geo_enabled': False,\n",
              "  'verified': True,\n",
              "  'statuses_count': 30223,\n",
              "  'lang': None,\n",
              "  'contributors_enabled': False,\n",
              "  'is_translator': False,\n",
              "  'is_translation_enabled': False,\n",
              "  'profile_background_color': 'DC6928',\n",
              "  'profile_background_image_url': 'http://abs.twimg.com/images/themes/theme1/bg.png',\n",
              "  'profile_background_image_url_https': 'https://abs.twimg.com/images/themes/theme1/bg.png',\n",
              "  'profile_background_tile': False,\n",
              "  'profile_image_url': 'http://pbs.twimg.com/profile_images/1018915015460605954/7tq4oci5_normal.jpg',\n",
              "  'profile_image_url_https': 'https://pbs.twimg.com/profile_images/1018915015460605954/7tq4oci5_normal.jpg',\n",
              "  'profile_banner_url': 'https://pbs.twimg.com/profile_banners/125688706/1494349479',\n",
              "  'profile_link_color': 'D44500',\n",
              "  'profile_sidebar_border_color': 'FF7F0F',\n",
              "  'profile_sidebar_fill_color': 'CCCCCC',\n",
              "  'profile_text_color': '333333',\n",
              "  'profile_use_background_image': False,\n",
              "  'has_extended_profile': False,\n",
              "  'default_profile': False,\n",
              "  'default_profile_image': False,\n",
              "  'following': False,\n",
              "  'follow_request_sent': False,\n",
              "  'notifications': False,\n",
              "  'translator_type': 'none'},\n",
              " 'geo': None,\n",
              " 'coordinates': None,\n",
              " 'place': None,\n",
              " 'contributors': None,\n",
              " 'retweeted_status': {'created_at': 'Sat May 30 20:31:03 +0000 2020',\n",
              "  'id': 1266829497195802624,\n",
              "  'id_str': '1266829497195802624',\n",
              "  'text': 'In the midst of this time of tremendous pain, sorrow, anger and concern, University leaders discuss the impact of r… https://t.co/domjlJBS4V',\n",
              "  'truncated': True,\n",
              "  'entities': {'hashtags': [],\n",
              "   'symbols': [],\n",
              "   'user_mentions': [],\n",
              "   'urls': [{'url': 'https://t.co/domjlJBS4V',\n",
              "     'expanded_url': 'https://twitter.com/i/web/status/1266829497195802624',\n",
              "     'display_url': 'twitter.com/i/web/status/1…',\n",
              "     'indices': [117, 140]}]},\n",
              "  'source': '<a href=\"https://www.hootsuite.com\" rel=\"nofollow\">Hootsuite Inc.</a>',\n",
              "  'in_reply_to_status_id': None,\n",
              "  'in_reply_to_status_id_str': None,\n",
              "  'in_reply_to_user_id': None,\n",
              "  'in_reply_to_user_id_str': None,\n",
              "  'in_reply_to_screen_name': None,\n",
              "  'user': {'id': 407922176,\n",
              "   'id_str': '407922176',\n",
              "   'name': 'SU Campus',\n",
              "   'screen_name': 'SUcampus',\n",
              "   'location': 'Syracuse, NY',\n",
              "   'description': \"Syracuse University's official account for campus news, info & events! We’re also on Facebook: @SUCampus. Follow the official #SyracuseU account: @SyracuseU.\",\n",
              "   'url': 'https://t.co/PxXfd6LoRk',\n",
              "   'entities': {'url': {'urls': [{'url': 'https://t.co/PxXfd6LoRk',\n",
              "       'expanded_url': 'http://www.syracuse.edu',\n",
              "       'display_url': 'syracuse.edu',\n",
              "       'indices': [0, 23]}]},\n",
              "    'description': {'urls': []}},\n",
              "   'protected': False,\n",
              "   'followers_count': 10914,\n",
              "   'friends_count': 83,\n",
              "   'listed_count': 153,\n",
              "   'created_at': 'Tue Nov 08 18:51:43 +0000 2011',\n",
              "   'favourites_count': 31,\n",
              "   'utc_offset': None,\n",
              "   'time_zone': None,\n",
              "   'geo_enabled': False,\n",
              "   'verified': False,\n",
              "   'statuses_count': 5277,\n",
              "   'lang': None,\n",
              "   'contributors_enabled': False,\n",
              "   'is_translator': False,\n",
              "   'is_translation_enabled': False,\n",
              "   'profile_background_color': '022330',\n",
              "   'profile_background_image_url': 'http://abs.twimg.com/images/themes/theme15/bg.png',\n",
              "   'profile_background_image_url_https': 'https://abs.twimg.com/images/themes/theme15/bg.png',\n",
              "   'profile_background_tile': True,\n",
              "   'profile_image_url': 'http://pbs.twimg.com/profile_images/1027228994826117120/fNRtdyG0_normal.jpg',\n",
              "   'profile_image_url_https': 'https://pbs.twimg.com/profile_images/1027228994826117120/fNRtdyG0_normal.jpg',\n",
              "   'profile_banner_url': 'https://pbs.twimg.com/profile_banners/407922176/1398262642',\n",
              "   'profile_link_color': 'E68910',\n",
              "   'profile_sidebar_border_color': 'FFFFFF',\n",
              "   'profile_sidebar_fill_color': 'C0DFEC',\n",
              "   'profile_text_color': '333333',\n",
              "   'profile_use_background_image': False,\n",
              "   'has_extended_profile': False,\n",
              "   'default_profile': False,\n",
              "   'default_profile_image': False,\n",
              "   'following': False,\n",
              "   'follow_request_sent': False,\n",
              "   'notifications': False,\n",
              "   'translator_type': 'none'},\n",
              "  'geo': None,\n",
              "  'coordinates': None,\n",
              "  'place': None,\n",
              "  'contributors': None,\n",
              "  'is_quote_status': False,\n",
              "  'retweet_count': 11,\n",
              "  'favorite_count': 30,\n",
              "  'favorited': False,\n",
              "  'retweeted': False,\n",
              "  'possibly_sensitive': False,\n",
              "  'lang': 'en'},\n",
              " 'is_quote_status': False,\n",
              " 'retweet_count': 11,\n",
              " 'favorite_count': 0,\n",
              " 'favorited': False,\n",
              " 'retweeted': False,\n",
              " 'lang': 'en'}"
            ]
          },
          "metadata": {
            "tags": []
          },
          "execution_count": 32
        }
      ]
    },
    {
      "cell_type": "markdown",
      "metadata": {
        "id": "g78bBGRUqU0b",
        "colab_type": "text"
      },
      "source": [
        "These are limited to 20 but you can use the 'pages' option to get more"
      ]
    },
    {
      "cell_type": "code",
      "metadata": {
        "id": "78CFraMdqbNw",
        "colab_type": "code",
        "colab": {}
      },
      "source": [
        "# Note each page will have 20 tweets\n",
        "syrtweets = []\n",
        "no_of_pages = 2\n",
        "for i in range(no_of_pages):\n",
        "    syrtweets.append(api.user_timeline('@SyracuseU', page = i))"
      ],
      "execution_count": 0,
      "outputs": []
    },
    {
      "cell_type": "code",
      "metadata": {
        "id": "OTt7O-1xrmBv",
        "colab_type": "code",
        "outputId": "361c5424-ac00-4f1f-8ea2-5e8c517f88af",
        "colab": {
          "base_uri": "https://localhost:8080/",
          "height": 54
        }
      },
      "source": [
        "# This is a list that has 2 'pages' containing 20 tweet objects each\n",
        "print(syrtweets[0][0])\n",
        "\n",
        "# Let's put all these objects in one list\n",
        "syrtweets_clean = []\n",
        "for page in syrtweets:\n",
        "  for tweet in page:\n",
        "    syrtweets_clean.append(tweet)\n"
      ],
      "execution_count": 0,
      "outputs": [
        {
          "output_type": "stream",
          "text": [
            "Status(_api=<tweepy.api.API object at 0x7fb3b83e8490>, _json={'created_at': 'Sat May 30 20:32:47 +0000 2020', 'id': 1266829932858146820, 'id_str': '1266829932858146820', 'text': 'RT @SUcampus: In the midst of this time of tremendous pain, sorrow, anger and concern, University leaders discuss the impact of racism and…', 'truncated': False, 'entities': {'hashtags': [], 'symbols': [], 'user_mentions': [{'screen_name': 'SUcampus', 'name': 'SU Campus', 'id': 407922176, 'id_str': '407922176', 'indices': [3, 12]}], 'urls': []}, 'source': '<a href=\"https://www.hootsuite.com\" rel=\"nofollow\">Hootsuite Inc.</a>', 'in_reply_to_status_id': None, 'in_reply_to_status_id_str': None, 'in_reply_to_user_id': None, 'in_reply_to_user_id_str': None, 'in_reply_to_screen_name': None, 'user': {'id': 125688706, 'id_str': '125688706', 'name': 'Syracuse University', 'screen_name': 'SyracuseU', 'location': 'Syracuse, New York', 'description': 'Syracuse University is dedicated to rigorous scholarship and transformative research. #SyracuseU on-campus news: @SUCampus. Instagram: @SyracuseU. Go Orange! 🍊', 'url': 'https://t.co/AgQgM86G8n', 'entities': {'url': {'urls': [{'url': 'https://t.co/AgQgM86G8n', 'expanded_url': 'http://syracuse.edu', 'display_url': 'syracuse.edu', 'indices': [0, 23]}]}, 'description': {'urls': []}}, 'protected': False, 'followers_count': 80658, 'friends_count': 781, 'listed_count': 1054, 'created_at': 'Tue Mar 23 15:07:30 +0000 2010', 'favourites_count': 2675, 'utc_offset': None, 'time_zone': None, 'geo_enabled': False, 'verified': True, 'statuses_count': 30223, 'lang': None, 'contributors_enabled': False, 'is_translator': False, 'is_translation_enabled': False, 'profile_background_color': 'DC6928', 'profile_background_image_url': 'http://abs.twimg.com/images/themes/theme1/bg.png', 'profile_background_image_url_https': 'https://abs.twimg.com/images/themes/theme1/bg.png', 'profile_background_tile': False, 'profile_image_url': 'http://pbs.twimg.com/profile_images/1018915015460605954/7tq4oci5_normal.jpg', 'profile_image_url_https': 'https://pbs.twimg.com/profile_images/1018915015460605954/7tq4oci5_normal.jpg', 'profile_banner_url': 'https://pbs.twimg.com/profile_banners/125688706/1494349479', 'profile_link_color': 'D44500', 'profile_sidebar_border_color': 'FF7F0F', 'profile_sidebar_fill_color': 'CCCCCC', 'profile_text_color': '333333', 'profile_use_background_image': False, 'has_extended_profile': False, 'default_profile': False, 'default_profile_image': False, 'following': False, 'follow_request_sent': False, 'notifications': False, 'translator_type': 'none'}, 'geo': None, 'coordinates': None, 'place': None, 'contributors': None, 'retweeted_status': {'created_at': 'Sat May 30 20:31:03 +0000 2020', 'id': 1266829497195802624, 'id_str': '1266829497195802624', 'text': 'In the midst of this time of tremendous pain, sorrow, anger and concern, University leaders discuss the impact of r… https://t.co/domjlJBS4V', 'truncated': True, 'entities': {'hashtags': [], 'symbols': [], 'user_mentions': [], 'urls': [{'url': 'https://t.co/domjlJBS4V', 'expanded_url': 'https://twitter.com/i/web/status/1266829497195802624', 'display_url': 'twitter.com/i/web/status/1…', 'indices': [117, 140]}]}, 'source': '<a href=\"https://www.hootsuite.com\" rel=\"nofollow\">Hootsuite Inc.</a>', 'in_reply_to_status_id': None, 'in_reply_to_status_id_str': None, 'in_reply_to_user_id': None, 'in_reply_to_user_id_str': None, 'in_reply_to_screen_name': None, 'user': {'id': 407922176, 'id_str': '407922176', 'name': 'SU Campus', 'screen_name': 'SUcampus', 'location': 'Syracuse, NY', 'description': \"Syracuse University's official account for campus news, info & events! We’re also on Facebook: @SUCampus. Follow the official #SyracuseU account: @SyracuseU.\", 'url': 'https://t.co/PxXfd6LoRk', 'entities': {'url': {'urls': [{'url': 'https://t.co/PxXfd6LoRk', 'expanded_url': 'http://www.syracuse.edu', 'display_url': 'syracuse.edu', 'indices': [0, 23]}]}, 'description': {'urls': []}}, 'protected': False, 'followers_count': 10914, 'friends_count': 83, 'listed_count': 153, 'created_at': 'Tue Nov 08 18:51:43 +0000 2011', 'favourites_count': 31, 'utc_offset': None, 'time_zone': None, 'geo_enabled': False, 'verified': False, 'statuses_count': 5277, 'lang': None, 'contributors_enabled': False, 'is_translator': False, 'is_translation_enabled': False, 'profile_background_color': '022330', 'profile_background_image_url': 'http://abs.twimg.com/images/themes/theme15/bg.png', 'profile_background_image_url_https': 'https://abs.twimg.com/images/themes/theme15/bg.png', 'profile_background_tile': True, 'profile_image_url': 'http://pbs.twimg.com/profile_images/1027228994826117120/fNRtdyG0_normal.jpg', 'profile_image_url_https': 'https://pbs.twimg.com/profile_images/1027228994826117120/fNRtdyG0_normal.jpg', 'profile_banner_url': 'https://pbs.twimg.com/profile_banners/407922176/1398262642', 'profile_link_color': 'E68910', 'profile_sidebar_border_color': 'FFFFFF', 'profile_sidebar_fill_color': 'C0DFEC', 'profile_text_color': '333333', 'profile_use_background_image': False, 'has_extended_profile': False, 'default_profile': False, 'default_profile_image': False, 'following': False, 'follow_request_sent': False, 'notifications': False, 'translator_type': 'none'}, 'geo': None, 'coordinates': None, 'place': None, 'contributors': None, 'is_quote_status': False, 'retweet_count': 11, 'favorite_count': 30, 'favorited': False, 'retweeted': False, 'possibly_sensitive': False, 'lang': 'en'}, 'is_quote_status': False, 'retweet_count': 11, 'favorite_count': 0, 'favorited': False, 'retweeted': False, 'lang': 'en'}, created_at=datetime.datetime(2020, 5, 30, 20, 32, 47), id=1266829932858146820, id_str='1266829932858146820', text='RT @SUcampus: In the midst of this time of tremendous pain, sorrow, anger and concern, University leaders discuss the impact of racism and…', truncated=False, entities={'hashtags': [], 'symbols': [], 'user_mentions': [{'screen_name': 'SUcampus', 'name': 'SU Campus', 'id': 407922176, 'id_str': '407922176', 'indices': [3, 12]}], 'urls': []}, source='Hootsuite Inc.', source_url='https://www.hootsuite.com', in_reply_to_status_id=None, in_reply_to_status_id_str=None, in_reply_to_user_id=None, in_reply_to_user_id_str=None, in_reply_to_screen_name=None, author=User(_api=<tweepy.api.API object at 0x7fb3b83e8490>, _json={'id': 125688706, 'id_str': '125688706', 'name': 'Syracuse University', 'screen_name': 'SyracuseU', 'location': 'Syracuse, New York', 'description': 'Syracuse University is dedicated to rigorous scholarship and transformative research. #SyracuseU on-campus news: @SUCampus. Instagram: @SyracuseU. Go Orange! 🍊', 'url': 'https://t.co/AgQgM86G8n', 'entities': {'url': {'urls': [{'url': 'https://t.co/AgQgM86G8n', 'expanded_url': 'http://syracuse.edu', 'display_url': 'syracuse.edu', 'indices': [0, 23]}]}, 'description': {'urls': []}}, 'protected': False, 'followers_count': 80658, 'friends_count': 781, 'listed_count': 1054, 'created_at': 'Tue Mar 23 15:07:30 +0000 2010', 'favourites_count': 2675, 'utc_offset': None, 'time_zone': None, 'geo_enabled': False, 'verified': True, 'statuses_count': 30223, 'lang': None, 'contributors_enabled': False, 'is_translator': False, 'is_translation_enabled': False, 'profile_background_color': 'DC6928', 'profile_background_image_url': 'http://abs.twimg.com/images/themes/theme1/bg.png', 'profile_background_image_url_https': 'https://abs.twimg.com/images/themes/theme1/bg.png', 'profile_background_tile': False, 'profile_image_url': 'http://pbs.twimg.com/profile_images/1018915015460605954/7tq4oci5_normal.jpg', 'profile_image_url_https': 'https://pbs.twimg.com/profile_images/1018915015460605954/7tq4oci5_normal.jpg', 'profile_banner_url': 'https://pbs.twimg.com/profile_banners/125688706/1494349479', 'profile_link_color': 'D44500', 'profile_sidebar_border_color': 'FF7F0F', 'profile_sidebar_fill_color': 'CCCCCC', 'profile_text_color': '333333', 'profile_use_background_image': False, 'has_extended_profile': False, 'default_profile': False, 'default_profile_image': False, 'following': False, 'follow_request_sent': False, 'notifications': False, 'translator_type': 'none'}, id=125688706, id_str='125688706', name='Syracuse University', screen_name='SyracuseU', location='Syracuse, New York', description='Syracuse University is dedicated to rigorous scholarship and transformative research. #SyracuseU on-campus news: @SUCampus. Instagram: @SyracuseU. Go Orange! 🍊', url='https://t.co/AgQgM86G8n', entities={'url': {'urls': [{'url': 'https://t.co/AgQgM86G8n', 'expanded_url': 'http://syracuse.edu', 'display_url': 'syracuse.edu', 'indices': [0, 23]}]}, 'description': {'urls': []}}, protected=False, followers_count=80658, friends_count=781, listed_count=1054, created_at=datetime.datetime(2010, 3, 23, 15, 7, 30), favourites_count=2675, utc_offset=None, time_zone=None, geo_enabled=False, verified=True, statuses_count=30223, lang=None, contributors_enabled=False, is_translator=False, is_translation_enabled=False, profile_background_color='DC6928', profile_background_image_url='http://abs.twimg.com/images/themes/theme1/bg.png', profile_background_image_url_https='https://abs.twimg.com/images/themes/theme1/bg.png', profile_background_tile=False, profile_image_url='http://pbs.twimg.com/profile_images/1018915015460605954/7tq4oci5_normal.jpg', profile_image_url_https='https://pbs.twimg.com/profile_images/1018915015460605954/7tq4oci5_normal.jpg', profile_banner_url='https://pbs.twimg.com/profile_banners/125688706/1494349479', profile_link_color='D44500', profile_sidebar_border_color='FF7F0F', profile_sidebar_fill_color='CCCCCC', profile_text_color='333333', profile_use_background_image=False, has_extended_profile=False, default_profile=False, default_profile_image=False, following=False, follow_request_sent=False, notifications=False, translator_type='none'), user=User(_api=<tweepy.api.API object at 0x7fb3b83e8490>, _json={'id': 125688706, 'id_str': '125688706', 'name': 'Syracuse University', 'screen_name': 'SyracuseU', 'location': 'Syracuse, New York', 'description': 'Syracuse University is dedicated to rigorous scholarship and transformative research. #SyracuseU on-campus news: @SUCampus. Instagram: @SyracuseU. Go Orange! 🍊', 'url': 'https://t.co/AgQgM86G8n', 'entities': {'url': {'urls': [{'url': 'https://t.co/AgQgM86G8n', 'expanded_url': 'http://syracuse.edu', 'display_url': 'syracuse.edu', 'indices': [0, 23]}]}, 'description': {'urls': []}}, 'protected': False, 'followers_count': 80658, 'friends_count': 781, 'listed_count': 1054, 'created_at': 'Tue Mar 23 15:07:30 +0000 2010', 'favourites_count': 2675, 'utc_offset': None, 'time_zone': None, 'geo_enabled': False, 'verified': True, 'statuses_count': 30223, 'lang': None, 'contributors_enabled': False, 'is_translator': False, 'is_translation_enabled': False, 'profile_background_color': 'DC6928', 'profile_background_image_url': 'http://abs.twimg.com/images/themes/theme1/bg.png', 'profile_background_image_url_https': 'https://abs.twimg.com/images/themes/theme1/bg.png', 'profile_background_tile': False, 'profile_image_url': 'http://pbs.twimg.com/profile_images/1018915015460605954/7tq4oci5_normal.jpg', 'profile_image_url_https': 'https://pbs.twimg.com/profile_images/1018915015460605954/7tq4oci5_normal.jpg', 'profile_banner_url': 'https://pbs.twimg.com/profile_banners/125688706/1494349479', 'profile_link_color': 'D44500', 'profile_sidebar_border_color': 'FF7F0F', 'profile_sidebar_fill_color': 'CCCCCC', 'profile_text_color': '333333', 'profile_use_background_image': False, 'has_extended_profile': False, 'default_profile': False, 'default_profile_image': False, 'following': False, 'follow_request_sent': False, 'notifications': False, 'translator_type': 'none'}, id=125688706, id_str='125688706', name='Syracuse University', screen_name='SyracuseU', location='Syracuse, New York', description='Syracuse University is dedicated to rigorous scholarship and transformative research. #SyracuseU on-campus news: @SUCampus. Instagram: @SyracuseU. Go Orange! 🍊', url='https://t.co/AgQgM86G8n', entities={'url': {'urls': [{'url': 'https://t.co/AgQgM86G8n', 'expanded_url': 'http://syracuse.edu', 'display_url': 'syracuse.edu', 'indices': [0, 23]}]}, 'description': {'urls': []}}, protected=False, followers_count=80658, friends_count=781, listed_count=1054, created_at=datetime.datetime(2010, 3, 23, 15, 7, 30), favourites_count=2675, utc_offset=None, time_zone=None, geo_enabled=False, verified=True, statuses_count=30223, lang=None, contributors_enabled=False, is_translator=False, is_translation_enabled=False, profile_background_color='DC6928', profile_background_image_url='http://abs.twimg.com/images/themes/theme1/bg.png', profile_background_image_url_https='https://abs.twimg.com/images/themes/theme1/bg.png', profile_background_tile=False, profile_image_url='http://pbs.twimg.com/profile_images/1018915015460605954/7tq4oci5_normal.jpg', profile_image_url_https='https://pbs.twimg.com/profile_images/1018915015460605954/7tq4oci5_normal.jpg', profile_banner_url='https://pbs.twimg.com/profile_banners/125688706/1494349479', profile_link_color='D44500', profile_sidebar_border_color='FF7F0F', profile_sidebar_fill_color='CCCCCC', profile_text_color='333333', profile_use_background_image=False, has_extended_profile=False, default_profile=False, default_profile_image=False, following=False, follow_request_sent=False, notifications=False, translator_type='none'), geo=None, coordinates=None, place=None, contributors=None, retweeted_status=Status(_api=<tweepy.api.API object at 0x7fb3b83e8490>, _json={'created_at': 'Sat May 30 20:31:03 +0000 2020', 'id': 1266829497195802624, 'id_str': '1266829497195802624', 'text': 'In the midst of this time of tremendous pain, sorrow, anger and concern, University leaders discuss the impact of r… https://t.co/domjlJBS4V', 'truncated': True, 'entities': {'hashtags': [], 'symbols': [], 'user_mentions': [], 'urls': [{'url': 'https://t.co/domjlJBS4V', 'expanded_url': 'https://twitter.com/i/web/status/1266829497195802624', 'display_url': 'twitter.com/i/web/status/1…', 'indices': [117, 140]}]}, 'source': '<a href=\"https://www.hootsuite.com\" rel=\"nofollow\">Hootsuite Inc.</a>', 'in_reply_to_status_id': None, 'in_reply_to_status_id_str': None, 'in_reply_to_user_id': None, 'in_reply_to_user_id_str': None, 'in_reply_to_screen_name': None, 'user': {'id': 407922176, 'id_str': '407922176', 'name': 'SU Campus', 'screen_name': 'SUcampus', 'location': 'Syracuse, NY', 'description': \"Syracuse University's official account for campus news, info & events! We’re also on Facebook: @SUCampus. Follow the official #SyracuseU account: @SyracuseU.\", 'url': 'https://t.co/PxXfd6LoRk', 'entities': {'url': {'urls': [{'url': 'https://t.co/PxXfd6LoRk', 'expanded_url': 'http://www.syracuse.edu', 'display_url': 'syracuse.edu', 'indices': [0, 23]}]}, 'description': {'urls': []}}, 'protected': False, 'followers_count': 10914, 'friends_count': 83, 'listed_count': 153, 'created_at': 'Tue Nov 08 18:51:43 +0000 2011', 'favourites_count': 31, 'utc_offset': None, 'time_zone': None, 'geo_enabled': False, 'verified': False, 'statuses_count': 5277, 'lang': None, 'contributors_enabled': False, 'is_translator': False, 'is_translation_enabled': False, 'profile_background_color': '022330', 'profile_background_image_url': 'http://abs.twimg.com/images/themes/theme15/bg.png', 'profile_background_image_url_https': 'https://abs.twimg.com/images/themes/theme15/bg.png', 'profile_background_tile': True, 'profile_image_url': 'http://pbs.twimg.com/profile_images/1027228994826117120/fNRtdyG0_normal.jpg', 'profile_image_url_https': 'https://pbs.twimg.com/profile_images/1027228994826117120/fNRtdyG0_normal.jpg', 'profile_banner_url': 'https://pbs.twimg.com/profile_banners/407922176/1398262642', 'profile_link_color': 'E68910', 'profile_sidebar_border_color': 'FFFFFF', 'profile_sidebar_fill_color': 'C0DFEC', 'profile_text_color': '333333', 'profile_use_background_image': False, 'has_extended_profile': False, 'default_profile': False, 'default_profile_image': False, 'following': False, 'follow_request_sent': False, 'notifications': False, 'translator_type': 'none'}, 'geo': None, 'coordinates': None, 'place': None, 'contributors': None, 'is_quote_status': False, 'retweet_count': 11, 'favorite_count': 30, 'favorited': False, 'retweeted': False, 'possibly_sensitive': False, 'lang': 'en'}, created_at=datetime.datetime(2020, 5, 30, 20, 31, 3), id=1266829497195802624, id_str='1266829497195802624', text='In the midst of this time of tremendous pain, sorrow, anger and concern, University leaders discuss the impact of r… https://t.co/domjlJBS4V', truncated=True, entities={'hashtags': [], 'symbols': [], 'user_mentions': [], 'urls': [{'url': 'https://t.co/domjlJBS4V', 'expanded_url': 'https://twitter.com/i/web/status/1266829497195802624', 'display_url': 'twitter.com/i/web/status/1…', 'indices': [117, 140]}]}, source='Hootsuite Inc.', source_url='https://www.hootsuite.com', in_reply_to_status_id=None, in_reply_to_status_id_str=None, in_reply_to_user_id=None, in_reply_to_user_id_str=None, in_reply_to_screen_name=None, author=User(_api=<tweepy.api.API object at 0x7fb3b83e8490>, _json={'id': 407922176, 'id_str': '407922176', 'name': 'SU Campus', 'screen_name': 'SUcampus', 'location': 'Syracuse, NY', 'description': \"Syracuse University's official account for campus news, info & events! We’re also on Facebook: @SUCampus. Follow the official #SyracuseU account: @SyracuseU.\", 'url': 'https://t.co/PxXfd6LoRk', 'entities': {'url': {'urls': [{'url': 'https://t.co/PxXfd6LoRk', 'expanded_url': 'http://www.syracuse.edu', 'display_url': 'syracuse.edu', 'indices': [0, 23]}]}, 'description': {'urls': []}}, 'protected': False, 'followers_count': 10914, 'friends_count': 83, 'listed_count': 153, 'created_at': 'Tue Nov 08 18:51:43 +0000 2011', 'favourites_count': 31, 'utc_offset': None, 'time_zone': None, 'geo_enabled': False, 'verified': False, 'statuses_count': 5277, 'lang': None, 'contributors_enabled': False, 'is_translator': False, 'is_translation_enabled': False, 'profile_background_color': '022330', 'profile_background_image_url': 'http://abs.twimg.com/images/themes/theme15/bg.png', 'profile_background_image_url_https': 'https://abs.twimg.com/images/themes/theme15/bg.png', 'profile_background_tile': True, 'profile_image_url': 'http://pbs.twimg.com/profile_images/1027228994826117120/fNRtdyG0_normal.jpg', 'profile_image_url_https': 'https://pbs.twimg.com/profile_images/1027228994826117120/fNRtdyG0_normal.jpg', 'profile_banner_url': 'https://pbs.twimg.com/profile_banners/407922176/1398262642', 'profile_link_color': 'E68910', 'profile_sidebar_border_color': 'FFFFFF', 'profile_sidebar_fill_color': 'C0DFEC', 'profile_text_color': '333333', 'profile_use_background_image': False, 'has_extended_profile': False, 'default_profile': False, 'default_profile_image': False, 'following': False, 'follow_request_sent': False, 'notifications': False, 'translator_type': 'none'}, id=407922176, id_str='407922176', name='SU Campus', screen_name='SUcampus', location='Syracuse, NY', description=\"Syracuse University's official account for campus news, info & events! We’re also on Facebook: @SUCampus. Follow the official #SyracuseU account: @SyracuseU.\", url='https://t.co/PxXfd6LoRk', entities={'url': {'urls': [{'url': 'https://t.co/PxXfd6LoRk', 'expanded_url': 'http://www.syracuse.edu', 'display_url': 'syracuse.edu', 'indices': [0, 23]}]}, 'description': {'urls': []}}, protected=False, followers_count=10914, friends_count=83, listed_count=153, created_at=datetime.datetime(2011, 11, 8, 18, 51, 43), favourites_count=31, utc_offset=None, time_zone=None, geo_enabled=False, verified=False, statuses_count=5277, lang=None, contributors_enabled=False, is_translator=False, is_translation_enabled=False, profile_background_color='022330', profile_background_image_url='http://abs.twimg.com/images/themes/theme15/bg.png', profile_background_image_url_https='https://abs.twimg.com/images/themes/theme15/bg.png', profile_background_tile=True, profile_image_url='http://pbs.twimg.com/profile_images/1027228994826117120/fNRtdyG0_normal.jpg', profile_image_url_https='https://pbs.twimg.com/profile_images/1027228994826117120/fNRtdyG0_normal.jpg', profile_banner_url='https://pbs.twimg.com/profile_banners/407922176/1398262642', profile_link_color='E68910', profile_sidebar_border_color='FFFFFF', profile_sidebar_fill_color='C0DFEC', profile_text_color='333333', profile_use_background_image=False, has_extended_profile=False, default_profile=False, default_profile_image=False, following=False, follow_request_sent=False, notifications=False, translator_type='none'), user=User(_api=<tweepy.api.API object at 0x7fb3b83e8490>, _json={'id': 407922176, 'id_str': '407922176', 'name': 'SU Campus', 'screen_name': 'SUcampus', 'location': 'Syracuse, NY', 'description': \"Syracuse University's official account for campus news, info & events! We’re also on Facebook: @SUCampus. Follow the official #SyracuseU account: @SyracuseU.\", 'url': 'https://t.co/PxXfd6LoRk', 'entities': {'url': {'urls': [{'url': 'https://t.co/PxXfd6LoRk', 'expanded_url': 'http://www.syracuse.edu', 'display_url': 'syracuse.edu', 'indices': [0, 23]}]}, 'description': {'urls': []}}, 'protected': False, 'followers_count': 10914, 'friends_count': 83, 'listed_count': 153, 'created_at': 'Tue Nov 08 18:51:43 +0000 2011', 'favourites_count': 31, 'utc_offset': None, 'time_zone': None, 'geo_enabled': False, 'verified': False, 'statuses_count': 5277, 'lang': None, 'contributors_enabled': False, 'is_translator': False, 'is_translation_enabled': False, 'profile_background_color': '022330', 'profile_background_image_url': 'http://abs.twimg.com/images/themes/theme15/bg.png', 'profile_background_image_url_https': 'https://abs.twimg.com/images/themes/theme15/bg.png', 'profile_background_tile': True, 'profile_image_url': 'http://pbs.twimg.com/profile_images/1027228994826117120/fNRtdyG0_normal.jpg', 'profile_image_url_https': 'https://pbs.twimg.com/profile_images/1027228994826117120/fNRtdyG0_normal.jpg', 'profile_banner_url': 'https://pbs.twimg.com/profile_banners/407922176/1398262642', 'profile_link_color': 'E68910', 'profile_sidebar_border_color': 'FFFFFF', 'profile_sidebar_fill_color': 'C0DFEC', 'profile_text_color': '333333', 'profile_use_background_image': False, 'has_extended_profile': False, 'default_profile': False, 'default_profile_image': False, 'following': False, 'follow_request_sent': False, 'notifications': False, 'translator_type': 'none'}, id=407922176, id_str='407922176', name='SU Campus', screen_name='SUcampus', location='Syracuse, NY', description=\"Syracuse University's official account for campus news, info & events! We’re also on Facebook: @SUCampus. Follow the official #SyracuseU account: @SyracuseU.\", url='https://t.co/PxXfd6LoRk', entities={'url': {'urls': [{'url': 'https://t.co/PxXfd6LoRk', 'expanded_url': 'http://www.syracuse.edu', 'display_url': 'syracuse.edu', 'indices': [0, 23]}]}, 'description': {'urls': []}}, protected=False, followers_count=10914, friends_count=83, listed_count=153, created_at=datetime.datetime(2011, 11, 8, 18, 51, 43), favourites_count=31, utc_offset=None, time_zone=None, geo_enabled=False, verified=False, statuses_count=5277, lang=None, contributors_enabled=False, is_translator=False, is_translation_enabled=False, profile_background_color='022330', profile_background_image_url='http://abs.twimg.com/images/themes/theme15/bg.png', profile_background_image_url_https='https://abs.twimg.com/images/themes/theme15/bg.png', profile_background_tile=True, profile_image_url='http://pbs.twimg.com/profile_images/1027228994826117120/fNRtdyG0_normal.jpg', profile_image_url_https='https://pbs.twimg.com/profile_images/1027228994826117120/fNRtdyG0_normal.jpg', profile_banner_url='https://pbs.twimg.com/profile_banners/407922176/1398262642', profile_link_color='E68910', profile_sidebar_border_color='FFFFFF', profile_sidebar_fill_color='C0DFEC', profile_text_color='333333', profile_use_background_image=False, has_extended_profile=False, default_profile=False, default_profile_image=False, following=False, follow_request_sent=False, notifications=False, translator_type='none'), geo=None, coordinates=None, place=None, contributors=None, is_quote_status=False, retweet_count=11, favorite_count=30, favorited=False, retweeted=False, possibly_sensitive=False, lang='en'), is_quote_status=False, retweet_count=11, favorite_count=0, favorited=False, retweeted=False, lang='en')\n"
          ],
          "name": "stdout"
        }
      ]
    },
    {
      "cell_type": "code",
      "metadata": {
        "id": "Ysm0CsL5sdIe",
        "colab_type": "code",
        "outputId": "c7b0809a-6e59-4636-cf0c-a24bf5b0f875",
        "colab": {
          "base_uri": "https://localhost:8080/",
          "height": 34
        }
      },
      "source": [
        "len(syrtweets_clean)"
      ],
      "execution_count": 0,
      "outputs": [
        {
          "output_type": "execute_result",
          "data": {
            "text/plain": [
              "40"
            ]
          },
          "metadata": {
            "tags": []
          },
          "execution_count": 43
        }
      ]
    },
    {
      "cell_type": "code",
      "metadata": {
        "id": "_YoRH-9_FDVl",
        "colab_type": "code",
        "outputId": "0b3933e8-aeae-45a2-ddc5-2985bfc3d9bc",
        "colab": {
          "base_uri": "https://localhost:8080/",
          "height": 166
        }
      },
      "source": [
        "syrtweets_clean[0]"
      ],
      "execution_count": 0,
      "outputs": [
        {
          "output_type": "error",
          "ename": "AttributeError",
          "evalue": "ignored",
          "traceback": [
            "\u001b[0;31m---------------------------------------------------------------------------\u001b[0m",
            "\u001b[0;31mAttributeError\u001b[0m                            Traceback (most recent call last)",
            "\u001b[0;32m<ipython-input-49-afb27706618a>\u001b[0m in \u001b[0;36m<module>\u001b[0;34m\u001b[0m\n\u001b[0;32m----> 1\u001b[0;31m \u001b[0msyrtweets_clean\u001b[0m\u001b[0;34m[\u001b[0m\u001b[0;36m0\u001b[0m\u001b[0;34m]\u001b[0m\u001b[0;34m.\u001b[0m\u001b[0m_json\u001b[0m\u001b[0;34m\u001b[0m\u001b[0;34m\u001b[0m\u001b[0m\n\u001b[0m",
            "\u001b[0;31mAttributeError\u001b[0m: 'dict' object has no attribute '_json'"
          ]
        }
      ]
    },
    {
      "cell_type": "markdown",
      "metadata": {
        "id": "dv8QSZO-sj38",
        "colab_type": "text"
      },
      "source": [
        "-  What info can we get from these tweet objects?"
      ]
    },
    {
      "cell_type": "code",
      "metadata": {
        "id": "5m4-80XWsqMM",
        "colab_type": "code",
        "colab": {}
      },
      "source": [
        "# First let's extract the JSON info\n",
        "syrtweets_clean = [x._json for x in syrtweets_clean]\n",
        "syrtweets_clean0"
      ],
      "execution_count": 0,
      "outputs": []
    },
    {
      "cell_type": "code",
      "metadata": {
        "id": "_KaWY7zKGuz8",
        "colab_type": "code",
        "colab": {}
      },
      "source": [
        "# Another option to collect text data only\n",
        "#syrtweets_clean = [x.text for x in syrtweets_clean]"
      ],
      "execution_count": 0,
      "outputs": []
    },
    {
      "cell_type": "code",
      "metadata": {
        "id": "_ZMrbLnjtnrj",
        "colab_type": "code",
        "outputId": "a33e2734-2a9a-482e-efbe-dce68de2d79a",
        "colab": {
          "base_uri": "https://localhost:8080/",
          "height": 1000
        }
      },
      "source": [
        "syrtweets_clean[0]"
      ],
      "execution_count": 0,
      "outputs": [
        {
          "output_type": "execute_result",
          "data": {
            "text/plain": [
              "{'created_at': 'Sat May 30 20:32:47 +0000 2020',\n",
              " 'id': 1266829932858146820,\n",
              " 'id_str': '1266829932858146820',\n",
              " 'text': 'RT @SUcampus: In the midst of this time of tremendous pain, sorrow, anger and concern, University leaders discuss the impact of racism and…',\n",
              " 'truncated': False,\n",
              " 'entities': {'hashtags': [],\n",
              "  'symbols': [],\n",
              "  'user_mentions': [{'screen_name': 'SUcampus',\n",
              "    'name': 'SU Campus',\n",
              "    'id': 407922176,\n",
              "    'id_str': '407922176',\n",
              "    'indices': [3, 12]}],\n",
              "  'urls': []},\n",
              " 'source': '<a href=\"https://www.hootsuite.com\" rel=\"nofollow\">Hootsuite Inc.</a>',\n",
              " 'in_reply_to_status_id': None,\n",
              " 'in_reply_to_status_id_str': None,\n",
              " 'in_reply_to_user_id': None,\n",
              " 'in_reply_to_user_id_str': None,\n",
              " 'in_reply_to_screen_name': None,\n",
              " 'user': {'id': 125688706,\n",
              "  'id_str': '125688706',\n",
              "  'name': 'Syracuse University',\n",
              "  'screen_name': 'SyracuseU',\n",
              "  'location': 'Syracuse, New York',\n",
              "  'description': 'Syracuse University is dedicated to rigorous scholarship and transformative research. #SyracuseU on-campus news: @SUCampus. Instagram: @SyracuseU. Go Orange! 🍊',\n",
              "  'url': 'https://t.co/AgQgM86G8n',\n",
              "  'entities': {'url': {'urls': [{'url': 'https://t.co/AgQgM86G8n',\n",
              "      'expanded_url': 'http://syracuse.edu',\n",
              "      'display_url': 'syracuse.edu',\n",
              "      'indices': [0, 23]}]},\n",
              "   'description': {'urls': []}},\n",
              "  'protected': False,\n",
              "  'followers_count': 80658,\n",
              "  'friends_count': 781,\n",
              "  'listed_count': 1054,\n",
              "  'created_at': 'Tue Mar 23 15:07:30 +0000 2010',\n",
              "  'favourites_count': 2675,\n",
              "  'utc_offset': None,\n",
              "  'time_zone': None,\n",
              "  'geo_enabled': False,\n",
              "  'verified': True,\n",
              "  'statuses_count': 30223,\n",
              "  'lang': None,\n",
              "  'contributors_enabled': False,\n",
              "  'is_translator': False,\n",
              "  'is_translation_enabled': False,\n",
              "  'profile_background_color': 'DC6928',\n",
              "  'profile_background_image_url': 'http://abs.twimg.com/images/themes/theme1/bg.png',\n",
              "  'profile_background_image_url_https': 'https://abs.twimg.com/images/themes/theme1/bg.png',\n",
              "  'profile_background_tile': False,\n",
              "  'profile_image_url': 'http://pbs.twimg.com/profile_images/1018915015460605954/7tq4oci5_normal.jpg',\n",
              "  'profile_image_url_https': 'https://pbs.twimg.com/profile_images/1018915015460605954/7tq4oci5_normal.jpg',\n",
              "  'profile_banner_url': 'https://pbs.twimg.com/profile_banners/125688706/1494349479',\n",
              "  'profile_link_color': 'D44500',\n",
              "  'profile_sidebar_border_color': 'FF7F0F',\n",
              "  'profile_sidebar_fill_color': 'CCCCCC',\n",
              "  'profile_text_color': '333333',\n",
              "  'profile_use_background_image': False,\n",
              "  'has_extended_profile': False,\n",
              "  'default_profile': False,\n",
              "  'default_profile_image': False,\n",
              "  'following': False,\n",
              "  'follow_request_sent': False,\n",
              "  'notifications': False,\n",
              "  'translator_type': 'none'},\n",
              " 'geo': None,\n",
              " 'coordinates': None,\n",
              " 'place': None,\n",
              " 'contributors': None,\n",
              " 'retweeted_status': {'created_at': 'Sat May 30 20:31:03 +0000 2020',\n",
              "  'id': 1266829497195802624,\n",
              "  'id_str': '1266829497195802624',\n",
              "  'text': 'In the midst of this time of tremendous pain, sorrow, anger and concern, University leaders discuss the impact of r… https://t.co/domjlJBS4V',\n",
              "  'truncated': True,\n",
              "  'entities': {'hashtags': [],\n",
              "   'symbols': [],\n",
              "   'user_mentions': [],\n",
              "   'urls': [{'url': 'https://t.co/domjlJBS4V',\n",
              "     'expanded_url': 'https://twitter.com/i/web/status/1266829497195802624',\n",
              "     'display_url': 'twitter.com/i/web/status/1…',\n",
              "     'indices': [117, 140]}]},\n",
              "  'source': '<a href=\"https://www.hootsuite.com\" rel=\"nofollow\">Hootsuite Inc.</a>',\n",
              "  'in_reply_to_status_id': None,\n",
              "  'in_reply_to_status_id_str': None,\n",
              "  'in_reply_to_user_id': None,\n",
              "  'in_reply_to_user_id_str': None,\n",
              "  'in_reply_to_screen_name': None,\n",
              "  'user': {'id': 407922176,\n",
              "   'id_str': '407922176',\n",
              "   'name': 'SU Campus',\n",
              "   'screen_name': 'SUcampus',\n",
              "   'location': 'Syracuse, NY',\n",
              "   'description': \"Syracuse University's official account for campus news, info & events! We’re also on Facebook: @SUCampus. Follow the official #SyracuseU account: @SyracuseU.\",\n",
              "   'url': 'https://t.co/PxXfd6LoRk',\n",
              "   'entities': {'url': {'urls': [{'url': 'https://t.co/PxXfd6LoRk',\n",
              "       'expanded_url': 'http://www.syracuse.edu',\n",
              "       'display_url': 'syracuse.edu',\n",
              "       'indices': [0, 23]}]},\n",
              "    'description': {'urls': []}},\n",
              "   'protected': False,\n",
              "   'followers_count': 10914,\n",
              "   'friends_count': 83,\n",
              "   'listed_count': 153,\n",
              "   'created_at': 'Tue Nov 08 18:51:43 +0000 2011',\n",
              "   'favourites_count': 31,\n",
              "   'utc_offset': None,\n",
              "   'time_zone': None,\n",
              "   'geo_enabled': False,\n",
              "   'verified': False,\n",
              "   'statuses_count': 5277,\n",
              "   'lang': None,\n",
              "   'contributors_enabled': False,\n",
              "   'is_translator': False,\n",
              "   'is_translation_enabled': False,\n",
              "   'profile_background_color': '022330',\n",
              "   'profile_background_image_url': 'http://abs.twimg.com/images/themes/theme15/bg.png',\n",
              "   'profile_background_image_url_https': 'https://abs.twimg.com/images/themes/theme15/bg.png',\n",
              "   'profile_background_tile': True,\n",
              "   'profile_image_url': 'http://pbs.twimg.com/profile_images/1027228994826117120/fNRtdyG0_normal.jpg',\n",
              "   'profile_image_url_https': 'https://pbs.twimg.com/profile_images/1027228994826117120/fNRtdyG0_normal.jpg',\n",
              "   'profile_banner_url': 'https://pbs.twimg.com/profile_banners/407922176/1398262642',\n",
              "   'profile_link_color': 'E68910',\n",
              "   'profile_sidebar_border_color': 'FFFFFF',\n",
              "   'profile_sidebar_fill_color': 'C0DFEC',\n",
              "   'profile_text_color': '333333',\n",
              "   'profile_use_background_image': False,\n",
              "   'has_extended_profile': False,\n",
              "   'default_profile': False,\n",
              "   'default_profile_image': False,\n",
              "   'following': False,\n",
              "   'follow_request_sent': False,\n",
              "   'notifications': False,\n",
              "   'translator_type': 'none'},\n",
              "  'geo': None,\n",
              "  'coordinates': None,\n",
              "  'place': None,\n",
              "  'contributors': None,\n",
              "  'is_quote_status': False,\n",
              "  'retweet_count': 11,\n",
              "  'favorite_count': 30,\n",
              "  'favorited': False,\n",
              "  'retweeted': False,\n",
              "  'possibly_sensitive': False,\n",
              "  'lang': 'en'},\n",
              " 'is_quote_status': False,\n",
              " 'retweet_count': 11,\n",
              " 'favorite_count': 0,\n",
              " 'favorited': False,\n",
              " 'retweeted': False,\n",
              " 'lang': 'en'}"
            ]
          },
          "metadata": {
            "tags": []
          },
          "execution_count": 48
        }
      ]
    },
    {
      "cell_type": "markdown",
      "metadata": {
        "id": "SMMEjH8Ut3Da",
        "colab_type": "text"
      },
      "source": [
        "- let's extract the text only"
      ]
    },
    {
      "cell_type": "code",
      "metadata": {
        "id": "i8D__aLQt8oS",
        "colab_type": "code",
        "colab": {}
      },
      "source": [
        "tweettext = [x['text'] for x in syrtweets_clean]"
      ],
      "execution_count": 0,
      "outputs": []
    },
    {
      "cell_type": "markdown",
      "metadata": {
        "id": "tesZGQHCzWuY",
        "colab_type": "text"
      },
      "source": [
        " - These tweets are ugly and have too many characters and other garbage. We need to clean them."
      ]
    },
    {
      "cell_type": "code",
      "metadata": {
        "id": "vFcOxu5bzI_5",
        "colab_type": "code",
        "outputId": "dd954910-5427-4875-a6a7-daf911347195",
        "colab": {
          "base_uri": "https://localhost:8080/",
          "height": 299
        }
      },
      "source": [
        "# These tweets are ugly and have too many characters and other garbage\n",
        "tweettext[0:15]"
      ],
      "execution_count": 0,
      "outputs": [
        {
          "output_type": "execute_result",
          "data": {
            "text/plain": [
              "['RT @SUcampus: In the midst of this time of tremendous pain, sorrow, anger and concern, University leaders discuss the impact of racism and…',\n",
              " 'RT @NewhouseSU: We are proud to announce that @NewhouseSU has earned the @AEJMC Equity &amp; Diversity Award. \\n\\n“Diversity, equity and inclusio…',\n",
              " 'Moving from the studio to a Zoom call, first-year acting students channel their inner creativity and improvisation… https://t.co/R8OUoOMed9',\n",
              " 'RT @SUcampus: See the latest update on the framework to ensure #SyracuseU is fully equipped and prepared to safely resume campus operations…',\n",
              " 'ours too https://t.co/JvfgASUKkp',\n",
              " 'Otto is doing their part 🧡 https://t.co/qbXupbn5Tz',\n",
              " 'RT @Cuse: The Boeheim Family is committed to supporting Orange student-athletes through the challenges we now face.\\n\\n#TogetherCuse 🍊\\nhttps:…',\n",
              " \"Motivated by a desire to make the most of opportunities that are scarce in his home country, Konstantinos '22 is re… https://t.co/94MAHM22Ws\",\n",
              " \"mornin' 🧡 https://t.co/9ZTWpvLDjW\",\n",
              " 'RT @TheOttoOrange: It’s the start of summer! The perfect season to wear orange (plus winter, spring, and fall too) Happy Memorial day!! htt…',\n",
              " 'A small-town kid who bled Orange, Bill Harris ’65, G’79 reflects on decades of commitment to the Syracuse community… https://t.co/ikC6rDg0pO',\n",
              " 'RT @IVMFSyracuseU: Today, and every day, we remember the fallen who lost their lives while serving our great nation and honor their sacrifi…',\n",
              " 'Raise your hand if you’re ready for the weekend ✋Wishing #OrangeNation a happy and safe holiday!\\n\\n(📸 IG: theblondeb… https://t.co/5Slq1rizN1',\n",
              " \"Deciding to study architecture after serving in the U.S. Army, Aaron Cass '21 finds remote learning success and a c… https://t.co/R9uGiUblUJ\",\n",
              " '🐐x2 https://t.co/7CpcmYXxrl']"
            ]
          },
          "metadata": {
            "tags": []
          },
          "execution_count": 57
        }
      ]
    },
    {
      "cell_type": "code",
      "metadata": {
        "id": "i89L44gXw6J2",
        "colab_type": "code",
        "outputId": "95078d8e-9dd2-4892-ed25-c3dd496c7e10",
        "colab": {
          "base_uri": "https://localhost:8080/",
          "height": 34
        }
      },
      "source": [
        "!pip install tweet-preprocessor"
      ],
      "execution_count": 0,
      "outputs": [
        {
          "output_type": "stream",
          "text": [
            "Requirement already satisfied: tweet-preprocessor in /opt/anaconda3/lib/python3.7/site-packages (0.6.0)\r\n"
          ],
          "name": "stdout"
        }
      ]
    },
    {
      "cell_type": "code",
      "metadata": {
        "id": "I3Y4PKD6xGnL",
        "colab_type": "code",
        "colab": {}
      },
      "source": [
        "from preprocessor.api import clean, tokenize, parse\n",
        "# Clean the tweet text using pre processor\n",
        "tweettext_clean = [clean(x) for x in tweettext]"
      ],
      "execution_count": 0,
      "outputs": []
    },
    {
      "cell_type": "code",
      "metadata": {
        "id": "0MZdb3nGuoPZ",
        "colab_type": "code",
        "outputId": "28e4600b-0caa-46d7-e0ae-4204f93d2aa3",
        "colab": {
          "base_uri": "https://localhost:8080/",
          "height": 192
        }
      },
      "source": [
        "# This looks better\n",
        "tweettext_clean[0:10]"
      ],
      "execution_count": 0,
      "outputs": [
        {
          "output_type": "execute_result",
          "data": {
            "text/plain": [
              "[': In the midst of this time of tremendous pain, sorrow, anger and concern, University leaders discuss the impact of racism and',\n",
              " ': We are proud to announce that has earned the Equity &amp; Diversity Award. Diversity, equity and inclusio',\n",
              " 'Moving from the studio to a Zoom call, first-year acting students channel their inner creativity and improvisation',\n",
              " ': See the latest update on the framework to ensure is fully equipped and prepared to safely resume campus operations',\n",
              " 'ours too',\n",
              " 'Otto is doing their part',\n",
              " ': The Boeheim Family is committed to supporting Orange student-athletes through the challenges we now face. https:',\n",
              " \"Motivated by a desire to make the most of opportunities that are scarce in his home country, Konstantinos '22 is re\",\n",
              " \"mornin'\",\n",
              " ': Its the start of summer! The perfect season to wear orange (plus winter, spring, and fall too) Happy Memorial day!! htt']"
            ]
          },
          "metadata": {
            "tags": []
          },
          "execution_count": 60
        }
      ]
    },
    {
      "cell_type": "markdown",
      "metadata": {
        "id": "Ijk9rmd80dcO",
        "colab_type": "text"
      },
      "source": [
        "# **Exercise** (3 minutes)\n",
        "\n",
        "Using the 'syrtweets_clean' objects, extract the number of retweets for each tweet and save those retweets in a list."
      ]
    },
    {
      "cell_type": "code",
      "metadata": {
        "id": "IZkWWl1O1PMU",
        "colab_type": "code",
        "outputId": "2c07a430-e738-49a7-d2bb-e45a070f5e69",
        "colab": {
          "base_uri": "https://localhost:8080/",
          "height": 34
        }
      },
      "source": [
        "## Code here ##\n",
        "# Hint you can find this using the key 'retweet_count'\n",
        "\n",
        "#retweet_nums = [x['retweet_count'] for x in trumptweets_clean]\n",
        "#retweet_nums[0:10]\n",
        "\n",
        "retweet_nums = [x['retweet_count'] for x in syrtweets_clean] "
      ],
      "execution_count": 0,
      "outputs": [
        {
          "output_type": "execute_result",
          "data": {
            "text/plain": [
              "[15, 4, 9, 13, 99, 38, 1, 28, 15]"
            ]
          },
          "metadata": {
            "tags": []
          },
          "execution_count": 63
        }
      ]
    },
    {
      "cell_type": "markdown",
      "metadata": {
        "id": "e_Gmd4HB1tBj",
        "colab_type": "text"
      },
      "source": [
        "# Text processing basics:\n",
        "\n",
        "Tokenization.\n",
        "Text formatting and cleaning."
      ]
    },
    {
      "cell_type": "code",
      "metadata": {
        "id": "0zWTw0K_Ew5i",
        "colab_type": "code",
        "outputId": "c7b1ef67-7cf9-4f6b-c307-3fec7215a947",
        "colab": {
          "base_uri": "https://localhost:8080/",
          "height": 69
        }
      },
      "source": [
        "!pip install stop_words\n",
        "!pip install nltk"
      ],
      "execution_count": 0,
      "outputs": [
        {
          "output_type": "stream",
          "text": [
            "Requirement already satisfied: stop_words in /opt/anaconda3/lib/python3.7/site-packages (2018.7.23)\n",
            "Requirement already satisfied: nltk in /opt/anaconda3/lib/python3.7/site-packages (3.4.5)\n",
            "Requirement already satisfied: six in /opt/anaconda3/lib/python3.7/site-packages (from nltk) (1.14.0)\n"
          ],
          "name": "stdout"
        }
      ]
    },
    {
      "cell_type": "code",
      "metadata": {
        "id": "gFMQdbCcPWa3",
        "colab_type": "code",
        "outputId": "84b8c559-6892-4b46-99a1-d31657e5c064",
        "colab": {
          "base_uri": "https://localhost:8080/",
          "height": 34
        }
      },
      "source": [
        "tweettext_clean[0]"
      ],
      "execution_count": 0,
      "outputs": [
        {
          "output_type": "execute_result",
          "data": {
            "text/plain": [
              "': In the midst of this time of tremendous pain, sorrow, anger and concern, University leaders discuss the impact of racism and'"
            ]
          },
          "metadata": {
            "tags": []
          },
          "execution_count": 65
        }
      ]
    },
    {
      "cell_type": "code",
      "metadata": {
        "id": "DlgMxzUtP2oC",
        "colab_type": "code",
        "outputId": "4b5c01dd-43d5-4ed3-8715-89235c6efaba",
        "colab": {
          "base_uri": "https://localhost:8080/",
          "height": 69
        }
      },
      "source": [
        "import nltk\n",
        "nltk.download('punkt')"
      ],
      "execution_count": 0,
      "outputs": [
        {
          "output_type": "stream",
          "text": [
            "[nltk_data] Downloading package punkt to /Users/jason/nltk_data...\n",
            "[nltk_data]   Package punkt is already up-to-date!\n"
          ],
          "name": "stderr"
        },
        {
          "output_type": "execute_result",
          "data": {
            "text/plain": [
              "True"
            ]
          },
          "metadata": {
            "tags": []
          },
          "execution_count": 66
        }
      ]
    },
    {
      "cell_type": "markdown",
      "metadata": {
        "id": "kghMJ2kjFO4B",
        "colab_type": "text"
      },
      "source": [
        "-  the first thing we need to do to begin processing these tweets is to tokenize them, or split them in some way.\n",
        "\n",
        "- the can be done by sentence or n-gram where n is the number of word-phrases that the tokenizer extracts"
      ]
    },
    {
      "cell_type": "code",
      "metadata": {
        "id": "Rj8wAWm2QeXT",
        "colab_type": "code",
        "outputId": "6d70eeef-8920-40d3-bc4e-86e2e5ed52a7",
        "colab": {
          "base_uri": "https://localhost:8080/",
          "height": 34
        }
      },
      "source": [
        "# This is the second semi-cleaned tweet\n",
        "tweettext_clean[1]"
      ],
      "execution_count": 0,
      "outputs": [
        {
          "output_type": "execute_result",
          "data": {
            "text/plain": [
              "': We are proud to announce that has earned the Equity &amp; Diversity Award. Diversity, equity and inclusio'"
            ]
          },
          "metadata": {
            "tags": []
          },
          "execution_count": 67
        }
      ]
    },
    {
      "cell_type": "code",
      "metadata": {
        "id": "8m6At2vgFhVY",
        "colab_type": "code",
        "outputId": "37d1719a-b368-4505-c0a9-679a187fda99",
        "colab": {
          "base_uri": "https://localhost:8080/",
          "height": 34
        }
      },
      "source": [
        "# Sentence tokenization\n",
        "from nltk.tokenize import sent_tokenize\n",
        "\n",
        "tokenized_tweet_sent=sent_tokenize(tweettext_clean[1])\n",
        "print(tokenized_tweet_sent)"
      ],
      "execution_count": 0,
      "outputs": [
        {
          "output_type": "stream",
          "text": [
            "[': We are proud to announce that has earned the Equity &amp; Diversity Award.', 'Diversity, equity and inclusio']\n"
          ],
          "name": "stdout"
        }
      ]
    },
    {
      "cell_type": "code",
      "metadata": {
        "id": "2Lp8OY2VFx_A",
        "colab_type": "code",
        "outputId": "6f3d516b-57f0-4728-d563-7f89fe39ffaf",
        "colab": {
          "base_uri": "https://localhost:8080/",
          "height": 54
        }
      },
      "source": [
        "# 1-gram (word) tokenization\n",
        "\n",
        "from nltk.tokenize import word_tokenize\n",
        "tokenized_tweet_word=word_tokenize(tweettext_clean[1])\n",
        "print(tokenized_tweet_word)"
      ],
      "execution_count": 0,
      "outputs": [
        {
          "output_type": "stream",
          "text": [
            "[':', 'We', 'are', 'proud', 'to', 'announce', 'that', 'has', 'earned', 'the', 'Equity', '&', 'amp', ';', 'Diversity', 'Award', '.', 'Diversity', ',', 'equity', 'and', 'inclusio']\n"
          ],
          "name": "stdout"
        }
      ]
    },
    {
      "cell_type": "code",
      "metadata": {
        "id": "53c7fFWqGZjx",
        "colab_type": "code",
        "outputId": "93367786-0525-451d-d277-b4e156395a98",
        "colab": {
          "base_uri": "https://localhost:8080/",
          "height": 297
        }
      },
      "source": [
        "# n-gram tokenization\n",
        "from nltk import ngrams\n",
        "\n",
        "tokenized_tweet_2gram = ngrams(tweettext_clean[1].split(), 3)\n",
        "\n",
        "for gram in tokenized_tweet_2gram:\n",
        "  print(' '.join(gram))\n"
      ],
      "execution_count": 0,
      "outputs": [
        {
          "output_type": "stream",
          "text": [
            ": We are\n",
            "We are proud\n",
            "are proud to\n",
            "proud to announce\n",
            "to announce that\n",
            "announce that has\n",
            "that has earned\n",
            "has earned the\n",
            "earned the Equity\n",
            "the Equity &amp;\n",
            "Equity &amp; Diversity\n",
            "&amp; Diversity Award.\n",
            "Diversity Award. Diversity,\n",
            "Award. Diversity, equity\n",
            "Diversity, equity and\n",
            "equity and inclusio\n"
          ],
          "name": "stdout"
        }
      ]
    },
    {
      "cell_type": "code",
      "metadata": {
        "id": "GGY4j7W3Jznp",
        "colab_type": "code",
        "outputId": "53e86f25-162e-4208-edcf-d7b68deab703",
        "colab": {
          "base_uri": "https://localhost:8080/",
          "height": 34
        }
      },
      "source": [
        "# We can then store this in a list for analysis\n",
        "bigram_list = []\n",
        "tokenized_tweet_2gram = ngrams(tweettext_clean[1].split(), 2)\n",
        "for gram in tokenized_tweet_2gram:\n",
        "  bigram_list.append((' '.join(gram)))\n",
        "\n",
        "bigram_list[0:3]"
      ],
      "execution_count": 0,
      "outputs": [
        {
          "output_type": "execute_result",
          "data": {
            "text/plain": [
              "[': We', 'We are', 'are proud']"
            ]
          },
          "metadata": {
            "tags": []
          },
          "execution_count": 73
        }
      ]
    },
    {
      "cell_type": "markdown",
      "metadata": {
        "id": "a5NH7TBcKUWi",
        "colab_type": "text"
      },
      "source": [
        "# **Exercise** (5 minutes)\n",
        "\n",
        "Create a list called \"tokenized_tweets\" which contains a tokenized version of every tweet in the list \"tweettext_clean\""
      ]
    },
    {
      "cell_type": "code",
      "metadata": {
        "id": "zGzbX2-aLAwQ",
        "colab_type": "code",
        "outputId": "84ef6c8b-8b0d-469f-c2b2-a8a6ebba07f2",
        "colab": {
          "base_uri": "https://localhost:8080/",
          "height": 34
        }
      },
      "source": [
        "# Code here\n",
        "\n",
        "tokenized_tweets_all = []\n",
        "for tweet in tweettext_clean:\n",
        "  temp_token = word_tokenize(tweet)\n",
        "  tokenized_tweets_all.append(temp_token)\n",
        "\n",
        "tokenized_tweets_all[4]"
      ],
      "execution_count": 0,
      "outputs": [
        {
          "output_type": "execute_result",
          "data": {
            "text/plain": [
              "['CHINA', '!']"
            ]
          },
          "metadata": {
            "tags": []
          },
          "execution_count": 46
        }
      ]
    },
    {
      "cell_type": "code",
      "metadata": {
        "id": "Nm4e5BqqXnxD",
        "colab_type": "code",
        "outputId": "1d08fa6b-86dd-4e78-874c-b755e3aaa388",
        "colab": {
          "base_uri": "https://localhost:8080/",
          "height": 192
        }
      },
      "source": [
        "tweettext_clean[0:10]"
      ],
      "execution_count": 0,
      "outputs": [
        {
          "output_type": "execute_result",
          "data": {
            "text/plain": [
              "[': In the midst of this time of tremendous pain, sorrow, anger and concern, University leaders discuss the impact of racism and',\n",
              " ': We are proud to announce that has earned the Equity &amp; Diversity Award. Diversity, equity and inclusio',\n",
              " 'Moving from the studio to a Zoom call, first-year acting students channel their inner creativity and improvisation',\n",
              " ': See the latest update on the framework to ensure is fully equipped and prepared to safely resume campus operations',\n",
              " 'ours too',\n",
              " 'Otto is doing their part',\n",
              " ': The Boeheim Family is committed to supporting Orange student-athletes through the challenges we now face. https:',\n",
              " \"Motivated by a desire to make the most of opportunities that are scarce in his home country, Konstantinos '22 is re\",\n",
              " \"mornin'\",\n",
              " ': Its the start of summer! The perfect season to wear orange (plus winter, spring, and fall too) Happy Memorial day!! htt']"
            ]
          },
          "metadata": {
            "tags": []
          },
          "execution_count": 74
        }
      ]
    },
    {
      "cell_type": "markdown",
      "metadata": {
        "id": "OW3Yqht5MwIL",
        "colab_type": "text"
      },
      "source": [
        "- let's do some additional processing to standardize the texts by making all the words lowercase"
      ]
    },
    {
      "cell_type": "code",
      "metadata": {
        "id": "YjNYWFmHM17B",
        "colab_type": "code",
        "outputId": "2bff265c-6a0b-4d6d-c56a-7235e4a589e5",
        "colab": {
          "base_uri": "https://localhost:8080/",
          "height": 192
        }
      },
      "source": [
        "tweettext_clean2 = []\n",
        "for tweet in tweettext_clean:\n",
        "  if (len(tweet)) > 3:\n",
        "    tweettext_clean2.append(tweet.lower())\n",
        "\n",
        "\n",
        "tweettext_clean2[0:10]"
      ],
      "execution_count": 0,
      "outputs": [
        {
          "output_type": "execute_result",
          "data": {
            "text/plain": [
              "[': in the midst of this time of tremendous pain, sorrow, anger and concern, university leaders discuss the impact of racism and',\n",
              " ': we are proud to announce that has earned the equity &amp; diversity award. diversity, equity and inclusio',\n",
              " 'moving from the studio to a zoom call, first-year acting students channel their inner creativity and improvisation',\n",
              " ': see the latest update on the framework to ensure is fully equipped and prepared to safely resume campus operations',\n",
              " 'ours too',\n",
              " 'otto is doing their part',\n",
              " ': the boeheim family is committed to supporting orange student-athletes through the challenges we now face. https:',\n",
              " \"motivated by a desire to make the most of opportunities that are scarce in his home country, konstantinos '22 is re\",\n",
              " \"mornin'\",\n",
              " ': its the start of summer! the perfect season to wear orange (plus winter, spring, and fall too) happy memorial day!! htt']"
            ]
          },
          "metadata": {
            "tags": []
          },
          "execution_count": 84
        }
      ]
    },
    {
      "cell_type": "markdown",
      "metadata": {
        "id": "7hjQ7NMVLMHY",
        "colab_type": "text"
      },
      "source": [
        "- Tokenization is the first step toward doing more advanced text analysis, but you can also use it to do some basic statistics like a frequency distribution.\n",
        "\n"
      ]
    },
    {
      "cell_type": "code",
      "metadata": {
        "id": "4e5WtBgDN1EY",
        "colab_type": "code",
        "colab": {}
      },
      "source": [
        "# Turns a list into a string\n",
        "\n",
        "def listToString(s):  \n",
        "    \n",
        "    # initialize an empty string \n",
        "    str1 = \" \" \n",
        "    \n",
        "    # return string   \n",
        "    return (str1.join(s)) "
      ],
      "execution_count": 0,
      "outputs": []
    },
    {
      "cell_type": "code",
      "metadata": {
        "id": "XhyDOrVpLfCP",
        "colab_type": "code",
        "outputId": "b34d79d4-08f8-42c7-8547-b270558a90bd",
        "colab": {
          "base_uri": "https://localhost:8080/",
          "height": 54
        }
      },
      "source": [
        "# Let's combine all the tweets into a giant string and calculate the word frequencies\n",
        "tweet_string = listToString(tweettext_clean2)\n",
        "tweet_string"
      ],
      "execution_count": 0,
      "outputs": [
        {
          "output_type": "execute_result",
          "data": {
            "text/plain": [
              "\": in the midst of this time of tremendous pain, sorrow, anger and concern, university leaders discuss the impact of racism and : we are proud to announce that has earned the equity &amp; diversity award. diversity, equity and inclusio moving from the studio to a zoom call, first-year acting students channel their inner creativity and improvisation : see the latest update on the framework to ensure is fully equipped and prepared to safely resume campus operations ours too otto is doing their part : the boeheim family is committed to supporting orange student-athletes through the challenges we now face. https: motivated by a desire to make the most of opportunities that are scarce in his home country, konstantinos '22 is re mornin' : its the start of summer! the perfect season to wear orange (plus winter, spring, and fall too) happy memorial day!! htt a small-town kid who bled orange, bill harris , g79 reflects on decades of commitment to the syracuse community : today, and every day, we remember the fallen who lost their lives while serving our great nation and honor their sacrifi raise your hand if youre ready for the weekend wishing a happy and safe holiday!( ig: theblondeb deciding to study architecture after serving in the u.s. army, aaron cass '21 finds remote learning success and a c same traditions. same impact. year after year : legend.11 ncaa titles522 wins as a head coach, assistant coach and player.now, a hall of famer. : i just got my authentic piece of the from ! read the latest update on 's fall semester, which includes following an accelerated academic calenda enjoy the spring weather from the comfort of your phone and update those lock screens : in the midst of this time of tremendous pain, sorrow, anger and concern, university leaders discuss the impact of racism and : we are proud to announce that has earned the equity &amp; diversity award. diversity, equity and inclusio moving from the studio to a zoom call, first-year acting students channel their inner creativity and improvisation : see the latest update on the framework to ensure is fully equipped and prepared to safely resume campus operations ours too otto is doing their part : the boeheim family is committed to supporting orange student-athletes through the challenges we now face. https: motivated by a desire to make the most of opportunities that are scarce in his home country, konstantinos '22 is re mornin' : its the start of summer! the perfect season to wear orange (plus winter, spring, and fall too) happy memorial day!! htt a small-town kid who bled orange, bill harris , g79 reflects on decades of commitment to the syracuse community : today, and every day, we remember the fallen who lost their lives while serving our great nation and honor their sacrifi raise your hand if youre ready for the weekend wishing a happy and safe holiday!( ig: theblondeb deciding to study architecture after serving in the u.s. army, aaron cass '21 finds remote learning success and a c same traditions. same impact. year after year : legend.11 ncaa titles522 wins as a head coach, assistant coach and player.now, a hall of famer. : i just got my authentic piece of the from ! read the latest update on 's fall semester, which includes following an accelerated academic calenda enjoy the spring weather from the comfort of your phone and update those lock screens\""
            ]
          },
          "metadata": {
            "tags": []
          },
          "execution_count": 87
        }
      ]
    },
    {
      "cell_type": "markdown",
      "metadata": {
        "id": "8x5eey2EO2Ol",
        "colab_type": "text"
      },
      "source": [
        "- tokenize the tweets"
      ]
    },
    {
      "cell_type": "code",
      "metadata": {
        "id": "BbZ3E4PQO5Yc",
        "colab_type": "code",
        "outputId": "3cfd4004-aa4d-4ebe-a47b-7a0d93f765f4",
        "colab": {
          "base_uri": "https://localhost:8080/",
          "height": 35
        }
      },
      "source": [
        "from nltk.tokenize import word_tokenize\n",
        "tokenized_tweet_word=word_tokenize(tweet_string)\n",
        "len(tokenized_tweet_word)"
      ],
      "execution_count": 0,
      "outputs": [
        {
          "output_type": "execute_result",
          "data": {
            "text/plain": [
              "640"
            ]
          },
          "metadata": {
            "tags": []
          },
          "execution_count": 88
        }
      ]
    },
    {
      "cell_type": "code",
      "metadata": {
        "id": "2QbjomV7aRyA",
        "colab_type": "code",
        "outputId": "157eb898-3dab-4111-ae25-3c4123c0122e",
        "colab": {
          "base_uri": "https://localhost:8080/",
          "height": 35
        }
      },
      "source": [
        "from nltk.probability import FreqDist\n",
        "tweet_frequencies = FreqDist(tokenized_tweet_word)\n",
        "print(tweet_frequencies)"
      ],
      "execution_count": 0,
      "outputs": [
        {
          "output_type": "stream",
          "text": [
            "<FreqDist with 200 samples and 640 outcomes>\n"
          ],
          "name": "stdout"
        }
      ]
    },
    {
      "cell_type": "markdown",
      "metadata": {
        "id": "u6ENxDkZOWC_",
        "colab_type": "text"
      },
      "source": [
        "- what are the most common words?"
      ]
    },
    {
      "cell_type": "code",
      "metadata": {
        "id": "ICMHngKkOYn3",
        "colab_type": "code",
        "outputId": "e901c89f-341e-4ace-9429-1aba366480fa",
        "colab": {
          "base_uri": "https://localhost:8080/",
          "height": 193
        }
      },
      "source": [
        "tweet_frequencies.most_common(10)"
      ],
      "execution_count": 0,
      "outputs": [
        {
          "output_type": "execute_result",
          "data": {
            "text/plain": [
              "[('the', 38),\n",
              " (',', 32),\n",
              " ('and', 24),\n",
              " (':', 20),\n",
              " ('of', 18),\n",
              " ('to', 18),\n",
              " ('a', 14),\n",
              " ('.', 10),\n",
              " ('!', 10),\n",
              " ('their', 8)]"
            ]
          },
          "metadata": {
            "tags": []
          },
          "execution_count": 90
        }
      ]
    },
    {
      "cell_type": "markdown",
      "metadata": {
        "id": "nE08UasOPTIq",
        "colab_type": "text"
      },
      "source": [
        "### stop word removal\n",
        "\n",
        "- these are words we generally find in all sentences called \"stop words\" so let's remove these first and then recalculate"
      ]
    },
    {
      "cell_type": "code",
      "metadata": {
        "id": "iUUxyjz6cHtf",
        "colab_type": "code",
        "outputId": "57634e30-1761-46c3-c583-d1210e9a94e0",
        "colab": {
          "base_uri": "https://localhost:8080/",
          "height": 70
        }
      },
      "source": [
        "import nltk\n",
        "nltk.download('stopwords')"
      ],
      "execution_count": 0,
      "outputs": [
        {
          "output_type": "stream",
          "text": [
            "[nltk_data] Downloading package stopwords to /Users/jason/nltk_data...\n",
            "[nltk_data]   Unzipping corpora/stopwords.zip.\n"
          ],
          "name": "stderr"
        },
        {
          "output_type": "execute_result",
          "data": {
            "text/plain": [
              "True"
            ]
          },
          "metadata": {
            "tags": []
          },
          "execution_count": 91
        }
      ]
    },
    {
      "cell_type": "code",
      "metadata": {
        "id": "O7m_3dlXPlXF",
        "colab_type": "code",
        "outputId": "1719b417-ade6-4273-dd61-0b299d586ba1",
        "colab": {
          "base_uri": "https://localhost:8080/",
          "height": 55
        }
      },
      "source": [
        "from nltk.corpus import stopwords\n",
        "stop_words=set(stopwords.words(\"english\"))\n",
        "print(stop_words)"
      ],
      "execution_count": 0,
      "outputs": [
        {
          "output_type": "stream",
          "text": [
            "{'is', 'have', 'about', 'very', 'there', 'when', 'has', 'through', 'between', \"should've\", 'hadn', 'been', 'nor', 'its', \"you'll\", 'as', \"hasn't\", 'ma', 'am', 'by', 'further', 'off', 'myself', 'any', 'did', 'own', 'y', 'won', \"shouldn't\", 'more', 'i', 'few', \"you're\", 'hers', 'd', 'it', 'during', 'where', 'only', 'should', 'here', 'what', \"she's\", 'himself', 'then', \"mightn't\", 'same', 'not', 'an', 'your', 'than', 'mightn', 'who', 'too', 'didn', 'haven', 'such', 'these', 'couldn', 'being', 'itself', 'each', 'those', \"wasn't\", \"wouldn't\", 'wasn', 've', 'for', 'against', 'below', \"don't\", 'are', \"didn't\", 'wouldn', 'll', \"mustn't\", 'why', 'up', 'if', 'yourselves', \"weren't\", 'theirs', 'needn', 'ain', 'before', 'so', 'with', 'yours', 'him', \"you'd\", 'them', 'now', 'at', 'ourselves', 'can', 'his', 'a', 'don', 'm', 'how', 'yourself', 'her', 'of', 'above', 'that', 'all', 'be', \"shan't\", 'mustn', 'while', \"that'll\", 'was', 'and', 'had', 'on', 'under', 'he', \"hadn't\", \"won't\", 'some', 'hasn', 'once', \"it's\", 'she', 'to', 'the', 'other', 'shan', 'no', 't', 're', 'their', 'shouldn', 'doing', 'having', 'themselves', 'just', 'herself', 'ours', 'aren', \"needn't\", 'weren', 'both', 'does', 'out', 'which', \"you've\", \"couldn't\", 'my', 's', 'isn', 'will', 'most', 'again', 'o', 'we', \"doesn't\", 'or', 'down', 'our', \"haven't\", 'you', 'but', 'from', 'doesn', 'this', 'do', \"isn't\", 'in', 'into', 'because', 'over', 'after', 'until', \"aren't\", 'were', 'me', 'whom', 'they'}\n"
          ],
          "name": "stdout"
        }
      ]
    },
    {
      "cell_type": "code",
      "metadata": {
        "id": "lACdESRJOWzH",
        "colab_type": "code",
        "colab": {}
      },
      "source": [
        "stop_words.add(':')"
      ],
      "execution_count": 0,
      "outputs": []
    },
    {
      "cell_type": "code",
      "metadata": {
        "id": "bfWH_CTpPnXT",
        "colab_type": "code",
        "outputId": "e9e13d63-77f9-4ec5-cdf0-cc545940b8c1",
        "colab": {
          "base_uri": "https://localhost:8080/",
          "height": 1000
        }
      },
      "source": [
        "tokenized_tweet_word_clean = []\n",
        "\n",
        "# Remove additional 'stop' words by creating a list of words to remove\n",
        "terms_to_remove=['twitter']\n",
        "\n",
        "for word in tokenized_tweet_word:\n",
        "  if (word not in stop_words) and (word not in terms_to_remove) and len(word)>2:\n",
        "    tokenized_tweet_word_clean.append(word)\n",
        "\n",
        "tokenized_tweet_word_clean"
      ],
      "execution_count": 0,
      "outputs": [
        {
          "output_type": "execute_result",
          "data": {
            "text/plain": [
              "['midst',\n",
              " 'time',\n",
              " 'tremendous',\n",
              " 'pain',\n",
              " 'sorrow',\n",
              " 'anger',\n",
              " 'concern',\n",
              " 'university',\n",
              " 'leaders',\n",
              " 'discuss',\n",
              " 'impact',\n",
              " 'racism',\n",
              " 'proud',\n",
              " 'announce',\n",
              " 'earned',\n",
              " 'equity',\n",
              " 'diversity',\n",
              " 'award',\n",
              " 'diversity',\n",
              " 'equity',\n",
              " 'inclusio',\n",
              " 'moving',\n",
              " 'studio',\n",
              " 'zoom',\n",
              " 'call',\n",
              " 'first-year',\n",
              " 'acting',\n",
              " 'students',\n",
              " 'channel',\n",
              " 'inner',\n",
              " 'creativity',\n",
              " 'improvisation',\n",
              " 'see',\n",
              " 'latest',\n",
              " 'update',\n",
              " 'framework',\n",
              " 'ensure',\n",
              " 'fully',\n",
              " 'equipped',\n",
              " 'prepared',\n",
              " 'safely',\n",
              " 'resume',\n",
              " 'campus',\n",
              " 'operations',\n",
              " 'otto',\n",
              " 'part',\n",
              " 'boeheim',\n",
              " 'family',\n",
              " 'committed',\n",
              " 'supporting',\n",
              " 'orange',\n",
              " 'student-athletes',\n",
              " 'challenges',\n",
              " 'face',\n",
              " 'https',\n",
              " 'motivated',\n",
              " 'desire',\n",
              " 'make',\n",
              " 'opportunities',\n",
              " 'scarce',\n",
              " 'home',\n",
              " 'country',\n",
              " 'konstantinos',\n",
              " \"'22\",\n",
              " 'mornin',\n",
              " 'start',\n",
              " 'summer',\n",
              " 'perfect',\n",
              " 'season',\n",
              " 'wear',\n",
              " 'orange',\n",
              " 'plus',\n",
              " 'winter',\n",
              " 'spring',\n",
              " 'fall',\n",
              " 'happy',\n",
              " 'memorial',\n",
              " 'day',\n",
              " 'htt',\n",
              " 'small-town',\n",
              " 'kid',\n",
              " 'bled',\n",
              " 'orange',\n",
              " 'bill',\n",
              " 'harris',\n",
              " 'g79',\n",
              " 'reflects',\n",
              " 'decades',\n",
              " 'commitment',\n",
              " 'syracuse',\n",
              " 'community',\n",
              " 'today',\n",
              " 'every',\n",
              " 'day',\n",
              " 'remember',\n",
              " 'fallen',\n",
              " 'lost',\n",
              " 'lives',\n",
              " 'serving',\n",
              " 'great',\n",
              " 'nation',\n",
              " 'honor',\n",
              " 'sacrifi',\n",
              " 'raise',\n",
              " 'hand',\n",
              " 'youre',\n",
              " 'ready',\n",
              " 'weekend',\n",
              " 'wishing',\n",
              " 'happy',\n",
              " 'safe',\n",
              " 'holiday',\n",
              " 'theblondeb',\n",
              " 'deciding',\n",
              " 'study',\n",
              " 'architecture',\n",
              " 'serving',\n",
              " 'u.s.',\n",
              " 'army',\n",
              " 'aaron',\n",
              " 'cass',\n",
              " \"'21\",\n",
              " 'finds',\n",
              " 'remote',\n",
              " 'learning',\n",
              " 'success',\n",
              " 'traditions',\n",
              " 'impact',\n",
              " 'year',\n",
              " 'year',\n",
              " 'legend.11',\n",
              " 'ncaa',\n",
              " 'titles522',\n",
              " 'wins',\n",
              " 'head',\n",
              " 'coach',\n",
              " 'assistant',\n",
              " 'coach',\n",
              " 'player.now',\n",
              " 'hall',\n",
              " 'famer',\n",
              " 'got',\n",
              " 'authentic',\n",
              " 'piece',\n",
              " 'read',\n",
              " 'latest',\n",
              " 'update',\n",
              " 'fall',\n",
              " 'semester',\n",
              " 'includes',\n",
              " 'following',\n",
              " 'accelerated',\n",
              " 'academic',\n",
              " 'calenda',\n",
              " 'enjoy',\n",
              " 'spring',\n",
              " 'weather',\n",
              " 'comfort',\n",
              " 'phone',\n",
              " 'update',\n",
              " 'lock',\n",
              " 'screens',\n",
              " 'midst',\n",
              " 'time',\n",
              " 'tremendous',\n",
              " 'pain',\n",
              " 'sorrow',\n",
              " 'anger',\n",
              " 'concern',\n",
              " 'university',\n",
              " 'leaders',\n",
              " 'discuss',\n",
              " 'impact',\n",
              " 'racism',\n",
              " 'proud',\n",
              " 'announce',\n",
              " 'earned',\n",
              " 'equity',\n",
              " 'diversity',\n",
              " 'award',\n",
              " 'diversity',\n",
              " 'equity',\n",
              " 'inclusio',\n",
              " 'moving',\n",
              " 'studio',\n",
              " 'zoom',\n",
              " 'call',\n",
              " 'first-year',\n",
              " 'acting',\n",
              " 'students',\n",
              " 'channel',\n",
              " 'inner',\n",
              " 'creativity',\n",
              " 'improvisation',\n",
              " 'see',\n",
              " 'latest',\n",
              " 'update',\n",
              " 'framework',\n",
              " 'ensure',\n",
              " 'fully',\n",
              " 'equipped',\n",
              " 'prepared',\n",
              " 'safely',\n",
              " 'resume',\n",
              " 'campus',\n",
              " 'operations',\n",
              " 'otto',\n",
              " 'part',\n",
              " 'boeheim',\n",
              " 'family',\n",
              " 'committed',\n",
              " 'supporting',\n",
              " 'orange',\n",
              " 'student-athletes',\n",
              " 'challenges',\n",
              " 'face',\n",
              " 'https',\n",
              " 'motivated',\n",
              " 'desire',\n",
              " 'make',\n",
              " 'opportunities',\n",
              " 'scarce',\n",
              " 'home',\n",
              " 'country',\n",
              " 'konstantinos',\n",
              " \"'22\",\n",
              " 'mornin',\n",
              " 'start',\n",
              " 'summer',\n",
              " 'perfect',\n",
              " 'season',\n",
              " 'wear',\n",
              " 'orange',\n",
              " 'plus',\n",
              " 'winter',\n",
              " 'spring',\n",
              " 'fall',\n",
              " 'happy',\n",
              " 'memorial',\n",
              " 'day',\n",
              " 'htt',\n",
              " 'small-town',\n",
              " 'kid',\n",
              " 'bled',\n",
              " 'orange',\n",
              " 'bill',\n",
              " 'harris',\n",
              " 'g79',\n",
              " 'reflects',\n",
              " 'decades',\n",
              " 'commitment',\n",
              " 'syracuse',\n",
              " 'community',\n",
              " 'today',\n",
              " 'every',\n",
              " 'day',\n",
              " 'remember',\n",
              " 'fallen',\n",
              " 'lost',\n",
              " 'lives',\n",
              " 'serving',\n",
              " 'great',\n",
              " 'nation',\n",
              " 'honor',\n",
              " 'sacrifi',\n",
              " 'raise',\n",
              " 'hand',\n",
              " 'youre',\n",
              " 'ready',\n",
              " 'weekend',\n",
              " 'wishing',\n",
              " 'happy',\n",
              " 'safe',\n",
              " 'holiday',\n",
              " 'theblondeb',\n",
              " 'deciding',\n",
              " 'study',\n",
              " 'architecture',\n",
              " 'serving',\n",
              " 'u.s.',\n",
              " 'army',\n",
              " 'aaron',\n",
              " 'cass',\n",
              " \"'21\",\n",
              " 'finds',\n",
              " 'remote',\n",
              " 'learning',\n",
              " 'success',\n",
              " 'traditions',\n",
              " 'impact',\n",
              " 'year',\n",
              " 'year',\n",
              " 'legend.11',\n",
              " 'ncaa',\n",
              " 'titles522',\n",
              " 'wins',\n",
              " 'head',\n",
              " 'coach',\n",
              " 'assistant',\n",
              " 'coach',\n",
              " 'player.now',\n",
              " 'hall',\n",
              " 'famer',\n",
              " 'got',\n",
              " 'authentic',\n",
              " 'piece',\n",
              " 'read',\n",
              " 'latest',\n",
              " 'update',\n",
              " 'fall',\n",
              " 'semester',\n",
              " 'includes',\n",
              " 'following',\n",
              " 'accelerated',\n",
              " 'academic',\n",
              " 'calenda',\n",
              " 'enjoy',\n",
              " 'spring',\n",
              " 'weather',\n",
              " 'comfort',\n",
              " 'phone',\n",
              " 'update',\n",
              " 'lock',\n",
              " 'screens']"
            ]
          },
          "metadata": {
            "tags": []
          },
          "execution_count": 100
        }
      ]
    },
    {
      "cell_type": "code",
      "metadata": {
        "id": "res36987iUMx",
        "colab_type": "code",
        "outputId": "8df67fde-4fd0-495c-e768-ca2602db9715",
        "colab": {
          "base_uri": "https://localhost:8080/",
          "height": 1000
        }
      },
      "source": [
        "# Remove additional 'stop' words by adding to the list of stop words\n",
        "stop_words.add('twitter')\n",
        "\n",
        "tokenized_tweet_word_clean = []\n",
        "\n",
        "for word in tokenized_tweet_word:\n",
        "  if (word not in stop_words) and len(word)>2:\n",
        "    tokenized_tweet_word_clean.append(word)\n",
        "\n",
        "tokenized_tweet_word_clean"
      ],
      "execution_count": 0,
      "outputs": [
        {
          "output_type": "execute_result",
          "data": {
            "text/plain": [
              "['midst',\n",
              " 'time',\n",
              " 'tremendous',\n",
              " 'pain',\n",
              " 'sorrow',\n",
              " 'anger',\n",
              " 'concern',\n",
              " 'university',\n",
              " 'leaders',\n",
              " 'discuss',\n",
              " 'impact',\n",
              " 'racism',\n",
              " 'proud',\n",
              " 'announce',\n",
              " 'earned',\n",
              " 'equity',\n",
              " 'diversity',\n",
              " 'award',\n",
              " 'diversity',\n",
              " 'equity',\n",
              " 'inclusio',\n",
              " 'moving',\n",
              " 'studio',\n",
              " 'zoom',\n",
              " 'call',\n",
              " 'first-year',\n",
              " 'acting',\n",
              " 'students',\n",
              " 'channel',\n",
              " 'inner',\n",
              " 'creativity',\n",
              " 'improvisation',\n",
              " 'see',\n",
              " 'latest',\n",
              " 'update',\n",
              " 'framework',\n",
              " 'ensure',\n",
              " 'fully',\n",
              " 'equipped',\n",
              " 'prepared',\n",
              " 'safely',\n",
              " 'resume',\n",
              " 'campus',\n",
              " 'operations',\n",
              " 'otto',\n",
              " 'part',\n",
              " 'boeheim',\n",
              " 'family',\n",
              " 'committed',\n",
              " 'supporting',\n",
              " 'orange',\n",
              " 'student-athletes',\n",
              " 'challenges',\n",
              " 'face',\n",
              " 'https',\n",
              " 'motivated',\n",
              " 'desire',\n",
              " 'make',\n",
              " 'opportunities',\n",
              " 'scarce',\n",
              " 'home',\n",
              " 'country',\n",
              " 'konstantinos',\n",
              " \"'22\",\n",
              " 'mornin',\n",
              " 'start',\n",
              " 'summer',\n",
              " 'perfect',\n",
              " 'season',\n",
              " 'wear',\n",
              " 'orange',\n",
              " 'plus',\n",
              " 'winter',\n",
              " 'spring',\n",
              " 'fall',\n",
              " 'happy',\n",
              " 'memorial',\n",
              " 'day',\n",
              " 'htt',\n",
              " 'small-town',\n",
              " 'kid',\n",
              " 'bled',\n",
              " 'orange',\n",
              " 'bill',\n",
              " 'harris',\n",
              " 'g79',\n",
              " 'reflects',\n",
              " 'decades',\n",
              " 'commitment',\n",
              " 'syracuse',\n",
              " 'community',\n",
              " 'today',\n",
              " 'every',\n",
              " 'day',\n",
              " 'remember',\n",
              " 'fallen',\n",
              " 'lost',\n",
              " 'lives',\n",
              " 'serving',\n",
              " 'great',\n",
              " 'nation',\n",
              " 'honor',\n",
              " 'sacrifi',\n",
              " 'raise',\n",
              " 'hand',\n",
              " 'youre',\n",
              " 'ready',\n",
              " 'weekend',\n",
              " 'wishing',\n",
              " 'happy',\n",
              " 'safe',\n",
              " 'holiday',\n",
              " 'theblondeb',\n",
              " 'deciding',\n",
              " 'study',\n",
              " 'architecture',\n",
              " 'serving',\n",
              " 'u.s.',\n",
              " 'army',\n",
              " 'aaron',\n",
              " 'cass',\n",
              " \"'21\",\n",
              " 'finds',\n",
              " 'remote',\n",
              " 'learning',\n",
              " 'success',\n",
              " 'traditions',\n",
              " 'impact',\n",
              " 'year',\n",
              " 'year',\n",
              " 'legend.11',\n",
              " 'ncaa',\n",
              " 'titles522',\n",
              " 'wins',\n",
              " 'head',\n",
              " 'coach',\n",
              " 'assistant',\n",
              " 'coach',\n",
              " 'player.now',\n",
              " 'hall',\n",
              " 'famer',\n",
              " 'got',\n",
              " 'authentic',\n",
              " 'piece',\n",
              " 'read',\n",
              " 'latest',\n",
              " 'update',\n",
              " 'fall',\n",
              " 'semester',\n",
              " 'includes',\n",
              " 'following',\n",
              " 'accelerated',\n",
              " 'academic',\n",
              " 'calenda',\n",
              " 'enjoy',\n",
              " 'spring',\n",
              " 'weather',\n",
              " 'comfort',\n",
              " 'phone',\n",
              " 'update',\n",
              " 'lock',\n",
              " 'screens',\n",
              " 'midst',\n",
              " 'time',\n",
              " 'tremendous',\n",
              " 'pain',\n",
              " 'sorrow',\n",
              " 'anger',\n",
              " 'concern',\n",
              " 'university',\n",
              " 'leaders',\n",
              " 'discuss',\n",
              " 'impact',\n",
              " 'racism',\n",
              " 'proud',\n",
              " 'announce',\n",
              " 'earned',\n",
              " 'equity',\n",
              " 'diversity',\n",
              " 'award',\n",
              " 'diversity',\n",
              " 'equity',\n",
              " 'inclusio',\n",
              " 'moving',\n",
              " 'studio',\n",
              " 'zoom',\n",
              " 'call',\n",
              " 'first-year',\n",
              " 'acting',\n",
              " 'students',\n",
              " 'channel',\n",
              " 'inner',\n",
              " 'creativity',\n",
              " 'improvisation',\n",
              " 'see',\n",
              " 'latest',\n",
              " 'update',\n",
              " 'framework',\n",
              " 'ensure',\n",
              " 'fully',\n",
              " 'equipped',\n",
              " 'prepared',\n",
              " 'safely',\n",
              " 'resume',\n",
              " 'campus',\n",
              " 'operations',\n",
              " 'otto',\n",
              " 'part',\n",
              " 'boeheim',\n",
              " 'family',\n",
              " 'committed',\n",
              " 'supporting',\n",
              " 'orange',\n",
              " 'student-athletes',\n",
              " 'challenges',\n",
              " 'face',\n",
              " 'https',\n",
              " 'motivated',\n",
              " 'desire',\n",
              " 'make',\n",
              " 'opportunities',\n",
              " 'scarce',\n",
              " 'home',\n",
              " 'country',\n",
              " 'konstantinos',\n",
              " \"'22\",\n",
              " 'mornin',\n",
              " 'start',\n",
              " 'summer',\n",
              " 'perfect',\n",
              " 'season',\n",
              " 'wear',\n",
              " 'orange',\n",
              " 'plus',\n",
              " 'winter',\n",
              " 'spring',\n",
              " 'fall',\n",
              " 'happy',\n",
              " 'memorial',\n",
              " 'day',\n",
              " 'htt',\n",
              " 'small-town',\n",
              " 'kid',\n",
              " 'bled',\n",
              " 'orange',\n",
              " 'bill',\n",
              " 'harris',\n",
              " 'g79',\n",
              " 'reflects',\n",
              " 'decades',\n",
              " 'commitment',\n",
              " 'syracuse',\n",
              " 'community',\n",
              " 'today',\n",
              " 'every',\n",
              " 'day',\n",
              " 'remember',\n",
              " 'fallen',\n",
              " 'lost',\n",
              " 'lives',\n",
              " 'serving',\n",
              " 'great',\n",
              " 'nation',\n",
              " 'honor',\n",
              " 'sacrifi',\n",
              " 'raise',\n",
              " 'hand',\n",
              " 'youre',\n",
              " 'ready',\n",
              " 'weekend',\n",
              " 'wishing',\n",
              " 'happy',\n",
              " 'safe',\n",
              " 'holiday',\n",
              " 'theblondeb',\n",
              " 'deciding',\n",
              " 'study',\n",
              " 'architecture',\n",
              " 'serving',\n",
              " 'u.s.',\n",
              " 'army',\n",
              " 'aaron',\n",
              " 'cass',\n",
              " \"'21\",\n",
              " 'finds',\n",
              " 'remote',\n",
              " 'learning',\n",
              " 'success',\n",
              " 'traditions',\n",
              " 'impact',\n",
              " 'year',\n",
              " 'year',\n",
              " 'legend.11',\n",
              " 'ncaa',\n",
              " 'titles522',\n",
              " 'wins',\n",
              " 'head',\n",
              " 'coach',\n",
              " 'assistant',\n",
              " 'coach',\n",
              " 'player.now',\n",
              " 'hall',\n",
              " 'famer',\n",
              " 'got',\n",
              " 'authentic',\n",
              " 'piece',\n",
              " 'read',\n",
              " 'latest',\n",
              " 'update',\n",
              " 'fall',\n",
              " 'semester',\n",
              " 'includes',\n",
              " 'following',\n",
              " 'accelerated',\n",
              " 'academic',\n",
              " 'calenda',\n",
              " 'enjoy',\n",
              " 'spring',\n",
              " 'weather',\n",
              " 'comfort',\n",
              " 'phone',\n",
              " 'update',\n",
              " 'lock',\n",
              " 'screens']"
            ]
          },
          "metadata": {
            "tags": []
          },
          "execution_count": 101
        }
      ]
    },
    {
      "cell_type": "markdown",
      "metadata": {
        "id": "pM_IwPMcRvWE",
        "colab_type": "text"
      },
      "source": [
        "- let's run the frequency distribution again"
      ]
    },
    {
      "cell_type": "code",
      "metadata": {
        "id": "WDmuSL-JR1SH",
        "colab_type": "code",
        "outputId": "cea90b20-2331-49e1-c89d-c7cc06d960eb",
        "colab": {
          "base_uri": "https://localhost:8080/",
          "height": 192
        }
      },
      "source": [
        "from nltk.probability import FreqDist\n",
        "tweet_frequencies_clean = FreqDist(tokenized_tweet_word_clean)\n",
        "\n",
        "tweet_frequencies_clean.most_common(10)"
      ],
      "execution_count": 0,
      "outputs": [
        {
          "output_type": "execute_result",
          "data": {
            "text/plain": [
              "[('update', 6),\n",
              " ('orange', 6),\n",
              " ('impact', 4),\n",
              " ('equity', 4),\n",
              " ('diversity', 4),\n",
              " ('latest', 4),\n",
              " ('spring', 4),\n",
              " ('fall', 4),\n",
              " ('happy', 4),\n",
              " ('day', 4)]"
            ]
          },
          "metadata": {
            "tags": []
          },
          "execution_count": 102
        }
      ]
    },
    {
      "cell_type": "markdown",
      "metadata": {
        "id": "68_4agQbTSx_",
        "colab_type": "text"
      },
      "source": [
        "- Let's plot the frequencies"
      ]
    },
    {
      "cell_type": "code",
      "metadata": {
        "id": "xuj9VuKoTVhs",
        "colab_type": "code",
        "outputId": "2a204dec-b904-4fd7-bc0f-c33779fd7d7d",
        "colab": {
          "base_uri": "https://localhost:8080/",
          "height": 347
        }
      },
      "source": [
        "import matplotlib.pyplot as plt\n",
        "import os\n",
        "\n",
        "tweet_frequencies_clean.plot(30,cumulative=False)\n",
        "\n",
        "# Save a high res plot to my desktop\n",
        "\n",
        "# Save the plot\n",
        "plt.savefig('syrtweets.png',dpi = 2000)"
      ],
      "execution_count": 0,
      "outputs": [
        {
          "output_type": "display_data",
          "data": {
            "text/plain": [
              "<Figure size 432x288 with 1 Axes>"
            ],
            "image/png": "[encoded data removed]"
          },
          "metadata": {
            "tags": [],
            "needs_background": "light"
          }
        },
        {
          "output_type": "display_data",
          "data": {
            "text/plain": [
              "<Figure size 432x288 with 0 Axes>"
            ]
          },
          "metadata": {
            "tags": []
          }
        }
      ]
    }
  ]
}
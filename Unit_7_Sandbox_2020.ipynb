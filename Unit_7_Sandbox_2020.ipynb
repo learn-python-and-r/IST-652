{
  "nbformat": 4,
  "nbformat_minor": 0,
  "metadata": {
    "kernelspec": {
      "display_name": "Python 3",
      "language": "python",
      "name": "python3"
    },
    "language_info": {
      "codemirror_mode": {
        "name": "ipython",
        "version": 3
      },
      "file_extension": ".py",
      "mimetype": "text/x-python",
      "name": "python",
      "nbconvert_exporter": "python",
      "pygments_lexer": "ipython3",
      "version": "3.7.6"
    },
    "colab": {
      "name": "Unit 7 Sandbox 2020.ipynb",
      "provenance": [],
      "collapsed_sections": [
        "aapjHMCp6NGs"
      ],
      "include_colab_link": true
    }
  },
  "cells": [
    {
      "cell_type": "markdown",
      "metadata": {
        "id": "view-in-github",
        "colab_type": "text"
      },
      "source": [
        "<a href=\"https://colab.research.google.com/github/learn-python-and-r/IST-652/blob/master/Unit_7_Sandbox_2020.ipynb\" target=\"_parent\"><img src=\"https://colab.research.google.com/assets/colab-badge.svg\" alt=\"Open In Colab\"/></a>"
      ]
    },
    {
      "cell_type": "markdown",
      "metadata": {
        "id": "6MIadEVL6NGT",
        "colab_type": "text"
      },
      "source": [
        "# Getting Started with MongoDB\n",
        "\n",
        "Steps:\n",
        "1. Install MongoDB here: https://docs.mongodb.com/manual/tutorial/install-mongodb-on-os-x/\n",
        "\n",
        "\n",
        "2. Install pymongo here: https://api.mongodb.com/python/current/installation.html\n",
        "\n",
        "\n",
        "3. Before using mongoDB, start mongodb at the command prompt.\n",
        "\n",
        "\n",
        "4. Now you can use the pymongo package."
      ]
    },
    {
      "cell_type": "code",
      "metadata": {
        "id": "wfDrYXsX6NGU",
        "colab_type": "code",
        "outputId": "7b92dc99-41c4-435a-b481-547d084660e8",
        "colab": {}
      },
      "source": [
        "from pymongo import MongoClient\n",
        "\n",
        "client =  MongoClient('localhost',27017)\n",
        "\n",
        "# Show existing databases\n",
        "print(client.list_database_names())"
      ],
      "execution_count": 0,
      "outputs": [
        {
          "output_type": "stream",
          "text": [
            "['bball', 'local', 'peopledb', 'test_database', 'usgs']\n"
          ],
          "name": "stdout"
        }
      ]
    },
    {
      "cell_type": "markdown",
      "metadata": {
        "id": "X9oYOKh96NGX",
        "colab_type": "text"
      },
      "source": [
        "## Getting Started with Mongo DB (courtesy of Thomas)\n",
        "\n",
        "- review mongoDB tutorial\n",
        "- discuss code (courtesy of Thomas)"
      ]
    },
    {
      "cell_type": "code",
      "metadata": {
        "id": "yn9Vy3-86NGY",
        "colab_type": "code",
        "outputId": "d071a494-5894-4135-99bf-dcfae607e462",
        "colab": {}
      },
      "source": [
        "import pymongo\n",
        "from pymongo import MongoClient\n",
        "\n",
        "peoplelist = [\n",
        "    { \"name\": \"Britney Sykes\", \"age\": 21 , 'position':'Guard'}, \n",
        "    { \"name\": \"Briana Day\", \"age\": 19, 'position':'Center'}, \n",
        "    { \"name\": \"Alexis Peterson\", \"age\": 21, 'position':'Guard' }, \n",
        "    { \"name\": \"Gabby Cooper\", \"age\": 18, 'position':'Guard'}\n",
        "]\n",
        "\n",
        "# setup client\n",
        "client = MongoClient('localhost', 27017)\n",
        "\n",
        "# list db names\n",
        "client.list_database_names()\n"
      ],
      "execution_count": 0,
      "outputs": [
        {
          "output_type": "execute_result",
          "data": {
            "text/plain": [
              "['bball', 'local', 'peopledb', 'test_database', 'usgs']"
            ]
          },
          "metadata": {
            "tags": []
          },
          "execution_count": 3
        }
      ]
    },
    {
      "cell_type": "code",
      "metadata": {
        "id": "IXZU5h0a6NGa",
        "colab_type": "code",
        "outputId": "78572204-0517-44a9-9c19-e539b8779d2e",
        "colab": {}
      },
      "source": [
        "# create new collection\n",
        "peoplecoll = db.people\n",
        "\n",
        "# insert peoplelist into peoplecoll\n",
        "peoplecoll.insert_many(peoplelist)\n",
        "\n",
        "# query entries with age less than 20\n",
        "results = peoplecoll.find({'age':{'$lt':19}})\n",
        "[print(result) for result in results]"
      ],
      "execution_count": 0,
      "outputs": [
        {
          "output_type": "error",
          "ename": "BulkWriteError",
          "evalue": "batch op errors occurred",
          "traceback": [
            "\u001b[0;31m---------------------------------------------------------------------------\u001b[0m",
            "\u001b[0;31mBulkWriteError\u001b[0m                            Traceback (most recent call last)",
            "\u001b[0;32m<ipython-input-7-8c1286d07fef>\u001b[0m in \u001b[0;36m<module>\u001b[0;34m\u001b[0m\n\u001b[1;32m      3\u001b[0m \u001b[0;34m\u001b[0m\u001b[0m\n\u001b[1;32m      4\u001b[0m \u001b[0;31m# insert peoplelist into peoplecoll\u001b[0m\u001b[0;34m\u001b[0m\u001b[0;34m\u001b[0m\u001b[0;34m\u001b[0m\u001b[0m\n\u001b[0;32m----> 5\u001b[0;31m \u001b[0mpeoplecoll\u001b[0m\u001b[0;34m.\u001b[0m\u001b[0minsert_many\u001b[0m\u001b[0;34m(\u001b[0m\u001b[0mpeoplelist\u001b[0m\u001b[0;34m)\u001b[0m\u001b[0;34m\u001b[0m\u001b[0;34m\u001b[0m\u001b[0m\n\u001b[0m\u001b[1;32m      6\u001b[0m \u001b[0;34m\u001b[0m\u001b[0m\n\u001b[1;32m      7\u001b[0m \u001b[0;31m# query entries with age less than 20\u001b[0m\u001b[0;34m\u001b[0m\u001b[0;34m\u001b[0m\u001b[0;34m\u001b[0m\u001b[0m\n",
            "\u001b[0;32m~/anaconda3/lib/python3.7/site-packages/pymongo/collection.py\u001b[0m in \u001b[0;36minsert_many\u001b[0;34m(self, documents, ordered, bypass_document_validation, session)\u001b[0m\n\u001b[1;32m    758\u001b[0m         \u001b[0mblk\u001b[0m \u001b[0;34m=\u001b[0m \u001b[0m_Bulk\u001b[0m\u001b[0;34m(\u001b[0m\u001b[0mself\u001b[0m\u001b[0;34m,\u001b[0m \u001b[0mordered\u001b[0m\u001b[0;34m,\u001b[0m \u001b[0mbypass_document_validation\u001b[0m\u001b[0;34m)\u001b[0m\u001b[0;34m\u001b[0m\u001b[0;34m\u001b[0m\u001b[0m\n\u001b[1;32m    759\u001b[0m         \u001b[0mblk\u001b[0m\u001b[0;34m.\u001b[0m\u001b[0mops\u001b[0m \u001b[0;34m=\u001b[0m \u001b[0;34m[\u001b[0m\u001b[0mdoc\u001b[0m \u001b[0;32mfor\u001b[0m \u001b[0mdoc\u001b[0m \u001b[0;32min\u001b[0m \u001b[0mgen\u001b[0m\u001b[0;34m(\u001b[0m\u001b[0;34m)\u001b[0m\u001b[0;34m]\u001b[0m\u001b[0;34m\u001b[0m\u001b[0;34m\u001b[0m\u001b[0m\n\u001b[0;32m--> 760\u001b[0;31m         \u001b[0mblk\u001b[0m\u001b[0;34m.\u001b[0m\u001b[0mexecute\u001b[0m\u001b[0;34m(\u001b[0m\u001b[0mwrite_concern\u001b[0m\u001b[0;34m,\u001b[0m \u001b[0msession\u001b[0m\u001b[0;34m=\u001b[0m\u001b[0msession\u001b[0m\u001b[0;34m)\u001b[0m\u001b[0;34m\u001b[0m\u001b[0;34m\u001b[0m\u001b[0m\n\u001b[0m\u001b[1;32m    761\u001b[0m         \u001b[0;32mreturn\u001b[0m \u001b[0mInsertManyResult\u001b[0m\u001b[0;34m(\u001b[0m\u001b[0minserted_ids\u001b[0m\u001b[0;34m,\u001b[0m \u001b[0mwrite_concern\u001b[0m\u001b[0;34m.\u001b[0m\u001b[0macknowledged\u001b[0m\u001b[0;34m)\u001b[0m\u001b[0;34m\u001b[0m\u001b[0;34m\u001b[0m\u001b[0m\n\u001b[1;32m    762\u001b[0m \u001b[0;34m\u001b[0m\u001b[0m\n",
            "\u001b[0;32m~/anaconda3/lib/python3.7/site-packages/pymongo/bulk.py\u001b[0m in \u001b[0;36mexecute\u001b[0;34m(self, write_concern, session)\u001b[0m\n\u001b[1;32m    520\u001b[0m                 \u001b[0mself\u001b[0m\u001b[0;34m.\u001b[0m\u001b[0mexecute_no_results\u001b[0m\u001b[0;34m(\u001b[0m\u001b[0msock_info\u001b[0m\u001b[0;34m,\u001b[0m \u001b[0mgenerator\u001b[0m\u001b[0;34m)\u001b[0m\u001b[0;34m\u001b[0m\u001b[0;34m\u001b[0m\u001b[0m\n\u001b[1;32m    521\u001b[0m         \u001b[0;32melse\u001b[0m\u001b[0;34m:\u001b[0m\u001b[0;34m\u001b[0m\u001b[0;34m\u001b[0m\u001b[0m\n\u001b[0;32m--> 522\u001b[0;31m             \u001b[0;32mreturn\u001b[0m \u001b[0mself\u001b[0m\u001b[0;34m.\u001b[0m\u001b[0mexecute_command\u001b[0m\u001b[0;34m(\u001b[0m\u001b[0mgenerator\u001b[0m\u001b[0;34m,\u001b[0m \u001b[0mwrite_concern\u001b[0m\u001b[0;34m,\u001b[0m \u001b[0msession\u001b[0m\u001b[0;34m)\u001b[0m\u001b[0;34m\u001b[0m\u001b[0;34m\u001b[0m\u001b[0m\n\u001b[0m\u001b[1;32m    523\u001b[0m \u001b[0;34m\u001b[0m\u001b[0m\n\u001b[1;32m    524\u001b[0m \u001b[0;34m\u001b[0m\u001b[0m\n",
            "\u001b[0;32m~/anaconda3/lib/python3.7/site-packages/pymongo/bulk.py\u001b[0m in \u001b[0;36mexecute_command\u001b[0;34m(self, generator, write_concern, session)\u001b[0m\n\u001b[1;32m    348\u001b[0m \u001b[0;34m\u001b[0m\u001b[0m\n\u001b[1;32m    349\u001b[0m         \u001b[0;32mif\u001b[0m \u001b[0mfull_result\u001b[0m\u001b[0;34m[\u001b[0m\u001b[0;34m\"writeErrors\"\u001b[0m\u001b[0;34m]\u001b[0m \u001b[0;32mor\u001b[0m \u001b[0mfull_result\u001b[0m\u001b[0;34m[\u001b[0m\u001b[0;34m\"writeConcernErrors\"\u001b[0m\u001b[0;34m]\u001b[0m\u001b[0;34m:\u001b[0m\u001b[0;34m\u001b[0m\u001b[0;34m\u001b[0m\u001b[0m\n\u001b[0;32m--> 350\u001b[0;31m             \u001b[0m_raise_bulk_write_error\u001b[0m\u001b[0;34m(\u001b[0m\u001b[0mfull_result\u001b[0m\u001b[0;34m)\u001b[0m\u001b[0;34m\u001b[0m\u001b[0;34m\u001b[0m\u001b[0m\n\u001b[0m\u001b[1;32m    351\u001b[0m         \u001b[0;32mreturn\u001b[0m \u001b[0mfull_result\u001b[0m\u001b[0;34m\u001b[0m\u001b[0;34m\u001b[0m\u001b[0m\n\u001b[1;32m    352\u001b[0m \u001b[0;34m\u001b[0m\u001b[0m\n",
            "\u001b[0;32m~/anaconda3/lib/python3.7/site-packages/pymongo/bulk.py\u001b[0m in \u001b[0;36m_raise_bulk_write_error\u001b[0;34m(full_result)\u001b[0m\n\u001b[1;32m    138\u001b[0m         full_result[\"writeErrors\"].sort(\n\u001b[1;32m    139\u001b[0m             key=lambda error: error[\"index\"])\n\u001b[0;32m--> 140\u001b[0;31m     \u001b[0;32mraise\u001b[0m \u001b[0mBulkWriteError\u001b[0m\u001b[0;34m(\u001b[0m\u001b[0mfull_result\u001b[0m\u001b[0;34m)\u001b[0m\u001b[0;34m\u001b[0m\u001b[0;34m\u001b[0m\u001b[0m\n\u001b[0m\u001b[1;32m    141\u001b[0m \u001b[0;34m\u001b[0m\u001b[0m\n\u001b[1;32m    142\u001b[0m \u001b[0;34m\u001b[0m\u001b[0m\n",
            "\u001b[0;31mBulkWriteError\u001b[0m: batch op errors occurred"
          ]
        }
      ]
    },
    {
      "cell_type": "code",
      "metadata": {
        "id": "uki6hw2U6NGd",
        "colab_type": "code",
        "outputId": "296ac055-5abd-4d51-af55-33da14d0474e",
        "colab": {}
      },
      "source": [
        "client.list_database_names()"
      ],
      "execution_count": 0,
      "outputs": [
        {
          "output_type": "execute_result",
          "data": {
            "text/plain": [
              "['bball', 'local', 'peopledb', 'test_database', 'usgs']"
            ]
          },
          "metadata": {
            "tags": []
          },
          "execution_count": 6
        }
      ]
    },
    {
      "cell_type": "markdown",
      "metadata": {
        "id": "uCyinyJo6NGg",
        "colab_type": "text"
      },
      "source": [
        "# JSON Example "
      ]
    },
    {
      "cell_type": "code",
      "metadata": {
        "id": "gj9vr3a96NGh",
        "colab_type": "code",
        "outputId": "b9428311-d30c-4d97-cbb8-13609211f8c8",
        "colab": {
          "base_uri": "https://localhost:8080/",
          "height": 34
        }
      },
      "source": [
        "import urllib.request\n",
        "import json\n",
        "\n",
        "earthquake_url =\"https://earthquake.usgs.gov/earthquakes/feed/v1.0/summary/significant_month.geojson\"\n",
        "\n",
        "response = urllib.request.urlopen(earthquake_url)\n",
        "\n",
        "json_string = response.read().decode('utf-8')\n",
        "\n",
        "eq_parsed_json = json.loads(json_string)\n",
        "\n",
        "type(eq_parsed_json)\n",
        "\n",
        "eq_parsed_json.keys() # Lists the keys at the top level"
      ],
      "execution_count": 0,
      "outputs": [
        {
          "output_type": "execute_result",
          "data": {
            "text/plain": [
              "dict_keys(['type', 'metadata', 'features', 'bbox'])"
            ]
          },
          "metadata": {
            "tags": []
          },
          "execution_count": 6
        }
      ]
    },
    {
      "cell_type": "code",
      "metadata": {
        "id": "1BVemIuj6NGk",
        "colab_type": "code",
        "outputId": "e86f3735-33e3-4c39-cc64-532a271d4089",
        "colab": {
          "base_uri": "https://localhost:8080/",
          "height": 34
        }
      },
      "source": [
        "eq_parsed_json['type']\n",
        "\n",
        "eq_parsed_json['metadata']\n",
        "\n",
        "title = eq_parsed_json['metadata']['title']\n",
        "\n",
        "title"
      ],
      "execution_count": 0,
      "outputs": [
        {
          "output_type": "execute_result",
          "data": {
            "text/plain": [
              "'USGS Significant Earthquakes, Past Month'"
            ]
          },
          "metadata": {
            "tags": []
          },
          "execution_count": 7
        }
      ]
    },
    {
      "cell_type": "code",
      "metadata": {
        "id": "YbCm_qu56NGn",
        "colab_type": "code",
        "outputId": "ad8b6363-f648-498a-e5c8-d235866e8193",
        "colab": {
          "base_uri": "https://localhost:8080/",
          "height": 34
        }
      },
      "source": [
        "quakelist = eq_parsed_json['features']\n",
        "quakelist\n",
        "\n",
        "len(quakelist)\n",
        "\n",
        "mags = []\n",
        "# Create a list of the earthquake magnitudes\n",
        "for quake in quakelist:\n",
        "    mags.append(quake['properties']['mag'])\n",
        "\n",
        "mags\n",
        "\n"
      ],
      "execution_count": 0,
      "outputs": [
        {
          "output_type": "execute_result",
          "data": {
            "text/plain": [
              "[6.5, 6.6, 4.54, 6.8, 6.6, 5.4, 6.3, 3.69, 6.3]"
            ]
          },
          "metadata": {
            "tags": []
          },
          "execution_count": 10
        }
      ]
    },
    {
      "cell_type": "code",
      "metadata": {
        "id": "7qh9gQqG6NGq",
        "colab_type": "code",
        "outputId": "226009ea-908d-47fd-a2c4-b5d2f8803d21",
        "colab": {
          "base_uri": "https://localhost:8080/",
          "height": 188
        }
      },
      "source": [
        "# Printing the place of each earthquake\n",
        "quakeplaces = [] # list of quake locations\n",
        "\n",
        "for quake in quakelist:\n",
        "    print(quake['properties']['place'])\n",
        "    quakeplace = quake['properties']['place']\n",
        "    quakeplaces.append(quakeplace)\n",
        "    \n",
        "quakeplaces[0:2]"
      ],
      "execution_count": 0,
      "outputs": [
        {
          "output_type": "stream",
          "text": [
            "Monte Cristo Range Earthquake\n",
            "173km SSE of Lata, Solomon Islands\n",
            "17km SE of Ocotillo Wells, CA\n",
            "205km NW of Saumlaki, Indonesia\n",
            "89km S of Ierapetra, Greece\n",
            "6km S of Tallaboa, Puerto Rico\n",
            "132km W of Panguna, Papua New Guinea\n",
            "1km S of View Park-Windsor Hills, CA\n",
            "33km SE of Ofunato, Japan\n"
          ],
          "name": "stdout"
        },
        {
          "output_type": "execute_result",
          "data": {
            "text/plain": [
              "['Monte Cristo Range Earthquake', '173km SSE of Lata, Solomon Islands']"
            ]
          },
          "metadata": {
            "tags": []
          },
          "execution_count": 4
        }
      ]
    },
    {
      "cell_type": "markdown",
      "metadata": {
        "id": "aapjHMCp6NGs",
        "colab_type": "text"
      },
      "source": [
        "## MongoDB with JSON (courtesy of Rebecca)"
      ]
    },
    {
      "cell_type": "code",
      "metadata": {
        "id": "HJ_-ZyDG6NGs",
        "colab_type": "code",
        "outputId": "a493496d-fae0-44d2-fe36-f1eac26cce73",
        "colab": {}
      },
      "source": [
        "''' \n",
        "This program accesses the USGS earthquake data feed. This URL is for\n",
        "       significant quakes in the last 30 days.\n",
        "It then saves the earthquakes to a database named usgs and a collection called earthquakes.\n",
        "The mongod server must be running for this program to work!\n",
        "'''\n",
        "\n",
        "import urllib.request\n",
        "import json\n",
        "import pymongo\n",
        "\n",
        "\n",
        "# get the bbc rss feed of news stories and connect to it\n",
        "earthquake_url = \"http://earthquake.usgs.gov/earthquakes/feed/v1.0/summary/significant_month.geojson\"\n",
        "\n",
        "try:\n",
        "    response = urllib.request.urlopen(earthquake_url)\n",
        "except urllib.error.URLError as e:\n",
        "    if hasattr(e, 'reason'):\n",
        "        print('We failed to reach a server.')\n",
        "        print('Reason: ', e.reason)\n",
        "    elif hasattr(e, 'code'):\n",
        "        print('The server couldn\\'t fulfill the request.')\n",
        "        print('Error code: ', e.code)\n",
        "else:\n",
        "    # the url request was successful - convert the response to a string\n",
        "    json_string = response.read().decode('utf-8')\n",
        "\n",
        "    # the json package loads() converts the string to python dictionaries and lists\n",
        "    eq_json = json.loads(json_string)\n",
        "    \n",
        "    # from the json dictionary we get the title to print\n",
        "    title = eq_json['metadata']['title']\n",
        "    print('Collected data from', title)\n",
        "    #  and we get the list of earthquakes\n",
        "    quakelist = eq_json['features']\n",
        "\n",
        "    # Connection to Mongo DB\n",
        "    try:\n",
        "        client=pymongo.MongoClient('localhost', 27017)\n",
        "        print (\"Connected successfully!!!\")\n",
        "    except pymongo.errors.ConnectionFailure as e:\n",
        "        print (\"Could not connect to MongoDB: %s\" % e )\n",
        "    else:\n",
        "\n",
        "        # use database named usgs or create it if not there already\n",
        "        eqdb = client.usgs\n",
        "        # create collection named earthquakes or create it if not there already\n",
        "        quakecoll = eqdb.earthquakes\n",
        "        # add all the earthquakes to the list\n",
        "        quakecoll.insert_many(quakelist)\n",
        "        print(\"Added\", len(quakelist), \"to earthquakes collection in usgs database\")\n",
        "  \n",
        "# for item in quakecoll.find({},{\"mag\":{'$lt':5}}):\n",
        " #   print(item)\n",
        "  \n",
        "# close the database connection\n",
        "client.close()"
      ],
      "execution_count": 0,
      "outputs": [
        {
          "output_type": "stream",
          "text": [
            "Collected data from USGS Significant Earthquakes, Past Month\n",
            "Connected successfully!!!\n",
            "Added 13 to earthquakes collection in usgs database\n"
          ],
          "name": "stdout"
        },
        {
          "output_type": "error",
          "ename": "OperationFailure",
          "evalue": "Unsupported projection option: mag: { $lt: 5 }",
          "traceback": [
            "\u001b[0;31m---------------------------------------------------------------------------\u001b[0m",
            "\u001b[0;31mOperationFailure\u001b[0m                          Traceback (most recent call last)",
            "\u001b[0;32m<ipython-input-40-3c271170bbb4>\u001b[0m in \u001b[0;36m<module>\u001b[0;34m\u001b[0m\n\u001b[1;32m     52\u001b[0m         \u001b[0mprint\u001b[0m\u001b[0;34m(\u001b[0m\u001b[0;34m\"Added\"\u001b[0m\u001b[0;34m,\u001b[0m \u001b[0mlen\u001b[0m\u001b[0;34m(\u001b[0m\u001b[0mquakelist\u001b[0m\u001b[0;34m)\u001b[0m\u001b[0;34m,\u001b[0m \u001b[0;34m\"to earthquakes collection in usgs database\"\u001b[0m\u001b[0;34m)\u001b[0m\u001b[0;34m\u001b[0m\u001b[0;34m\u001b[0m\u001b[0m\n\u001b[1;32m     53\u001b[0m \u001b[0;34m\u001b[0m\u001b[0m\n\u001b[0;32m---> 54\u001b[0;31m \u001b[0;32mfor\u001b[0m \u001b[0mitem\u001b[0m \u001b[0;32min\u001b[0m \u001b[0mquakecoll\u001b[0m\u001b[0;34m.\u001b[0m\u001b[0mfind\u001b[0m\u001b[0;34m(\u001b[0m\u001b[0;34m{\u001b[0m\u001b[0;34m}\u001b[0m\u001b[0;34m,\u001b[0m\u001b[0;34m{\u001b[0m\u001b[0;34m\"mag\"\u001b[0m\u001b[0;34m:\u001b[0m\u001b[0;34m{\u001b[0m\u001b[0;34m'$lt'\u001b[0m\u001b[0;34m:\u001b[0m\u001b[0;36m5\u001b[0m\u001b[0;34m}\u001b[0m\u001b[0;34m}\u001b[0m\u001b[0;34m)\u001b[0m\u001b[0;34m:\u001b[0m\u001b[0;34m\u001b[0m\u001b[0;34m\u001b[0m\u001b[0m\n\u001b[0m\u001b[1;32m     55\u001b[0m     \u001b[0mprint\u001b[0m\u001b[0;34m(\u001b[0m\u001b[0mitem\u001b[0m\u001b[0;34m)\u001b[0m\u001b[0;34m\u001b[0m\u001b[0;34m\u001b[0m\u001b[0m\n\u001b[1;32m     56\u001b[0m \u001b[0;34m\u001b[0m\u001b[0m\n",
            "\u001b[0;32m~/anaconda3/lib/python3.7/site-packages/pymongo/cursor.py\u001b[0m in \u001b[0;36mnext\u001b[0;34m(self)\u001b[0m\n\u001b[1;32m   1223\u001b[0m         \u001b[0;32mif\u001b[0m \u001b[0mself\u001b[0m\u001b[0;34m.\u001b[0m\u001b[0m__empty\u001b[0m\u001b[0;34m:\u001b[0m\u001b[0;34m\u001b[0m\u001b[0;34m\u001b[0m\u001b[0m\n\u001b[1;32m   1224\u001b[0m             \u001b[0;32mraise\u001b[0m \u001b[0mStopIteration\u001b[0m\u001b[0;34m\u001b[0m\u001b[0;34m\u001b[0m\u001b[0m\n\u001b[0;32m-> 1225\u001b[0;31m         \u001b[0;32mif\u001b[0m \u001b[0mlen\u001b[0m\u001b[0;34m(\u001b[0m\u001b[0mself\u001b[0m\u001b[0;34m.\u001b[0m\u001b[0m__data\u001b[0m\u001b[0;34m)\u001b[0m \u001b[0;32mor\u001b[0m \u001b[0mself\u001b[0m\u001b[0;34m.\u001b[0m\u001b[0m_refresh\u001b[0m\u001b[0;34m(\u001b[0m\u001b[0;34m)\u001b[0m\u001b[0;34m:\u001b[0m\u001b[0;34m\u001b[0m\u001b[0;34m\u001b[0m\u001b[0m\n\u001b[0m\u001b[1;32m   1226\u001b[0m             \u001b[0;32mif\u001b[0m \u001b[0mself\u001b[0m\u001b[0;34m.\u001b[0m\u001b[0m__manipulate\u001b[0m\u001b[0;34m:\u001b[0m\u001b[0;34m\u001b[0m\u001b[0;34m\u001b[0m\u001b[0m\n\u001b[1;32m   1227\u001b[0m                 \u001b[0m_db\u001b[0m \u001b[0;34m=\u001b[0m \u001b[0mself\u001b[0m\u001b[0;34m.\u001b[0m\u001b[0m__collection\u001b[0m\u001b[0;34m.\u001b[0m\u001b[0mdatabase\u001b[0m\u001b[0;34m\u001b[0m\u001b[0;34m\u001b[0m\u001b[0m\n",
            "\u001b[0;32m~/anaconda3/lib/python3.7/site-packages/pymongo/cursor.py\u001b[0m in \u001b[0;36m_refresh\u001b[0;34m(self)\u001b[0m\n\u001b[1;32m   1138\u001b[0m                                   \u001b[0mself\u001b[0m\u001b[0;34m.\u001b[0m\u001b[0m__session\u001b[0m\u001b[0;34m,\u001b[0m\u001b[0;34m\u001b[0m\u001b[0;34m\u001b[0m\u001b[0m\n\u001b[1;32m   1139\u001b[0m                                   self.__collection.database.client)\n\u001b[0;32m-> 1140\u001b[0;31m             \u001b[0mself\u001b[0m\u001b[0;34m.\u001b[0m\u001b[0m__send_message\u001b[0m\u001b[0;34m(\u001b[0m\u001b[0mq\u001b[0m\u001b[0;34m)\u001b[0m\u001b[0;34m\u001b[0m\u001b[0;34m\u001b[0m\u001b[0m\n\u001b[0m\u001b[1;32m   1141\u001b[0m         \u001b[0;32melif\u001b[0m \u001b[0mself\u001b[0m\u001b[0;34m.\u001b[0m\u001b[0m__id\u001b[0m\u001b[0;34m:\u001b[0m  \u001b[0;31m# Get More\u001b[0m\u001b[0;34m\u001b[0m\u001b[0;34m\u001b[0m\u001b[0m\n\u001b[1;32m   1142\u001b[0m             \u001b[0;32mif\u001b[0m \u001b[0mself\u001b[0m\u001b[0;34m.\u001b[0m\u001b[0m__limit\u001b[0m\u001b[0;34m:\u001b[0m\u001b[0;34m\u001b[0m\u001b[0;34m\u001b[0m\u001b[0m\n",
            "\u001b[0;32m~/anaconda3/lib/python3.7/site-packages/pymongo/cursor.py\u001b[0m in \u001b[0;36m__send_message\u001b[0;34m(self, operation)\u001b[0m\n\u001b[1;32m   1008\u001b[0m                 \u001b[0mfirst\u001b[0m \u001b[0;34m=\u001b[0m \u001b[0mdocs\u001b[0m\u001b[0;34m[\u001b[0m\u001b[0;36m0\u001b[0m\u001b[0;34m]\u001b[0m\u001b[0;34m\u001b[0m\u001b[0;34m\u001b[0m\u001b[0m\n\u001b[1;32m   1009\u001b[0m                 \u001b[0mclient\u001b[0m\u001b[0;34m.\u001b[0m\u001b[0m_receive_cluster_time\u001b[0m\u001b[0;34m(\u001b[0m\u001b[0mfirst\u001b[0m\u001b[0;34m,\u001b[0m \u001b[0mself\u001b[0m\u001b[0;34m.\u001b[0m\u001b[0m__session\u001b[0m\u001b[0;34m)\u001b[0m\u001b[0;34m\u001b[0m\u001b[0;34m\u001b[0m\u001b[0m\n\u001b[0;32m-> 1010\u001b[0;31m                 \u001b[0mhelpers\u001b[0m\u001b[0;34m.\u001b[0m\u001b[0m_check_command_response\u001b[0m\u001b[0;34m(\u001b[0m\u001b[0mfirst\u001b[0m\u001b[0;34m)\u001b[0m\u001b[0;34m\u001b[0m\u001b[0;34m\u001b[0m\u001b[0m\n\u001b[0m\u001b[1;32m   1011\u001b[0m         \u001b[0;32mexcept\u001b[0m \u001b[0mOperationFailure\u001b[0m \u001b[0;32mas\u001b[0m \u001b[0mexc\u001b[0m\u001b[0;34m:\u001b[0m\u001b[0;34m\u001b[0m\u001b[0;34m\u001b[0m\u001b[0m\n\u001b[1;32m   1012\u001b[0m             \u001b[0mself\u001b[0m\u001b[0;34m.\u001b[0m\u001b[0m__killed\u001b[0m \u001b[0;34m=\u001b[0m \u001b[0;32mTrue\u001b[0m\u001b[0;34m\u001b[0m\u001b[0;34m\u001b[0m\u001b[0m\n",
            "\u001b[0;32m~/anaconda3/lib/python3.7/site-packages/pymongo/helpers.py\u001b[0m in \u001b[0;36m_check_command_response\u001b[0;34m(response, msg, allowable_errors, parse_write_concern_error)\u001b[0m\n\u001b[1;32m    153\u001b[0m \u001b[0;34m\u001b[0m\u001b[0m\n\u001b[1;32m    154\u001b[0m             \u001b[0mmsg\u001b[0m \u001b[0;34m=\u001b[0m \u001b[0mmsg\u001b[0m \u001b[0;32mor\u001b[0m \u001b[0;34m\"%s\"\u001b[0m\u001b[0;34m\u001b[0m\u001b[0;34m\u001b[0m\u001b[0m\n\u001b[0;32m--> 155\u001b[0;31m             \u001b[0;32mraise\u001b[0m \u001b[0mOperationFailure\u001b[0m\u001b[0;34m(\u001b[0m\u001b[0mmsg\u001b[0m \u001b[0;34m%\u001b[0m \u001b[0merrmsg\u001b[0m\u001b[0;34m,\u001b[0m \u001b[0mcode\u001b[0m\u001b[0;34m,\u001b[0m \u001b[0mresponse\u001b[0m\u001b[0;34m)\u001b[0m\u001b[0;34m\u001b[0m\u001b[0;34m\u001b[0m\u001b[0m\n\u001b[0m\u001b[1;32m    156\u001b[0m \u001b[0;34m\u001b[0m\u001b[0m\n\u001b[1;32m    157\u001b[0m \u001b[0;34m\u001b[0m\u001b[0m\n",
            "\u001b[0;31mOperationFailure\u001b[0m: Unsupported projection option: mag: { $lt: 5 }"
          ]
        }
      ]
    },
    {
      "cell_type": "markdown",
      "metadata": {
        "id": "YvzPQ-z3CaIQ",
        "colab_type": "text"
      },
      "source": [
        "# Individual Assignment\n",
        "\n",
        "Take 5 minutes to create two lists which have the earthquake url and earthquake detail and call them \"url\" and \"detail\" respectively. \n"
      ]
    },
    {
      "cell_type": "code",
      "metadata": {
        "id": "Oc6uGXKcFBiF",
        "colab_type": "code",
        "outputId": "9e8c302f-8e17-49e8-bb26-c4f9565deea4",
        "colab": {
          "base_uri": "https://localhost:8080/",
          "height": 171
        }
      },
      "source": [
        "quakelist\n",
        "\n",
        "urllist = []\n",
        "detaillist = []\n",
        "\n",
        "for quake in quakelist:\n",
        "  urllist.append(quake['properties']['url'])\n",
        "  detaillist.append(quake['properties']['detail'])\n",
        "\n",
        "urllist"
      ],
      "execution_count": 0,
      "outputs": [
        {
          "output_type": "execute_result",
          "data": {
            "text/plain": [
              "['https://earthquake.usgs.gov/earthquakes/eventpage/nn00725272',\n",
              " 'https://earthquake.usgs.gov/earthquakes/eventpage/us70009f12',\n",
              " 'https://earthquake.usgs.gov/earthquakes/eventpage/ci38488354',\n",
              " 'https://earthquake.usgs.gov/earthquakes/eventpage/us70009b14',\n",
              " 'https://earthquake.usgs.gov/earthquakes/eventpage/us700098qd',\n",
              " 'https://earthquake.usgs.gov/earthquakes/eventpage/pr2020123010',\n",
              " 'https://earthquake.usgs.gov/earthquakes/eventpage/us60009c06',\n",
              " 'https://earthquake.usgs.gov/earthquakes/eventpage/ci39400304',\n",
              " 'https://earthquake.usgs.gov/earthquakes/eventpage/us7000903m']"
            ]
          },
          "metadata": {
            "tags": []
          },
          "execution_count": 11
        }
      ]
    },
    {
      "cell_type": "code",
      "metadata": {
        "id": "JZ0Hfsn1GN7c",
        "colab_type": "code",
        "outputId": "b6ed5141-21fc-40d5-ee51-2f9207afd773",
        "colab": {
          "base_uri": "https://localhost:8080/",
          "height": 171
        }
      },
      "source": [
        "detaillist"
      ],
      "execution_count": 0,
      "outputs": [
        {
          "output_type": "execute_result",
          "data": {
            "text/plain": [
              "['https://earthquake.usgs.gov/earthquakes/feed/v1.0/detail/nn00725272.geojson',\n",
              " 'https://earthquake.usgs.gov/earthquakes/feed/v1.0/detail/us70009f12.geojson',\n",
              " 'https://earthquake.usgs.gov/earthquakes/feed/v1.0/detail/ci38488354.geojson',\n",
              " 'https://earthquake.usgs.gov/earthquakes/feed/v1.0/detail/us70009b14.geojson',\n",
              " 'https://earthquake.usgs.gov/earthquakes/feed/v1.0/detail/us700098qd.geojson',\n",
              " 'https://earthquake.usgs.gov/earthquakes/feed/v1.0/detail/pr2020123010.geojson',\n",
              " 'https://earthquake.usgs.gov/earthquakes/feed/v1.0/detail/us60009c06.geojson',\n",
              " 'https://earthquake.usgs.gov/earthquakes/feed/v1.0/detail/ci39400304.geojson',\n",
              " 'https://earthquake.usgs.gov/earthquakes/feed/v1.0/detail/us7000903m.geojson']"
            ]
          },
          "metadata": {
            "tags": []
          },
          "execution_count": 12
        }
      ]
    },
    {
      "cell_type": "markdown",
      "metadata": {
        "id": "Y49uALi86NGv",
        "colab_type": "text"
      },
      "source": [
        "# Breakout Group Exercise"
      ]
    },
    {
      "cell_type": "code",
      "metadata": {
        "id": "VfZCEJPI6NGv",
        "colab_type": "code",
        "colab": {}
      },
      "source": [
        "# Create a list of each of coordinates from \"quakelist\"\n",
        "# ie  'coordinates': [-97.9879, 38.0101, 5]},"
      ],
      "execution_count": 0,
      "outputs": []
    },
    {
      "cell_type": "code",
      "metadata": {
        "id": "5fkr0mWd6NGx",
        "colab_type": "code",
        "outputId": "b7563973-d5fb-4b4f-f86e-a8b470bc2d3c",
        "colab": {}
      },
      "source": [
        "quake1 = quakelist[0]\n",
        "type(quake1)\n",
        "quake1.keys()"
      ],
      "execution_count": 0,
      "outputs": [
        {
          "output_type": "execute_result",
          "data": {
            "text/plain": [
              "dict_keys(['type', 'properties', 'geometry', 'id'])"
            ]
          },
          "metadata": {
            "tags": []
          },
          "execution_count": 5
        }
      ]
    },
    {
      "cell_type": "code",
      "metadata": {
        "id": "iMZ97E056NG0",
        "colab_type": "code",
        "outputId": "facf001f-df72-4a63-fbdd-0cbf91cbbbf1",
        "colab": {}
      },
      "source": [
        "print(json.dumps(quake1, indent=2))"
      ],
      "execution_count": 0,
      "outputs": [
        {
          "output_type": "stream",
          "text": [
            "{\n",
            "  \"type\": \"Feature\",\n",
            "  \"properties\": {\n",
            "    \"mag\": 4.2,\n",
            "    \"place\": \"4km WSW of South Hutchinson, Kansas\",\n",
            "    \"time\": 1565960350388,\n",
            "    \"updated\": 1566045597598,\n",
            "    \"tz\": -360,\n",
            "    \"url\": \"https://earthquake.usgs.gov/earthquakes/eventpage/us600055xa\",\n",
            "    \"detail\": \"https://earthquake.usgs.gov/earthquakes/feed/v1.0/detail/us600055xa.geojson\",\n",
            "    \"felt\": 1019,\n",
            "    \"cdi\": 6.1,\n",
            "    \"mmi\": 5.593,\n",
            "    \"alert\": null,\n",
            "    \"status\": \"reviewed\",\n",
            "    \"tsunami\": 0,\n",
            "    \"sig\": 881,\n",
            "    \"net\": \"us\",\n",
            "    \"code\": \"600055xa\",\n",
            "    \"ids\": \",us600055xa,\",\n",
            "    \"sources\": \",us,\",\n",
            "    \"types\": \",dyfi,geoserve,moment-tensor,origin,phase-data,shakemap,\",\n",
            "    \"nst\": null,\n",
            "    \"dmin\": 0.702,\n",
            "    \"rms\": 0.29,\n",
            "    \"gap\": 186,\n",
            "    \"magType\": \"mwr\",\n",
            "    \"type\": \"earthquake\",\n",
            "    \"title\": \"M 4.2 - 4km WSW of South Hutchinson, Kansas\"\n",
            "  },\n",
            "  \"geometry\": {\n",
            "    \"type\": \"Point\",\n",
            "    \"coordinates\": [\n",
            "      -97.9879,\n",
            "      38.0101,\n",
            "      5\n",
            "    ]\n",
            "  },\n",
            "  \"id\": \"us600055xa\"\n",
            "}\n"
          ],
          "name": "stdout"
        }
      ]
    },
    {
      "cell_type": "code",
      "metadata": {
        "id": "VO5bbgrD6NG2",
        "colab_type": "code",
        "colab": {}
      },
      "source": [
        ""
      ],
      "execution_count": 0,
      "outputs": []
    }
  ]
}